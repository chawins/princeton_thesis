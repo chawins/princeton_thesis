{
 "cells": [
  {
   "cell_type": "code",
   "execution_count": 5,
   "metadata": {},
   "outputs": [],
   "source": [
    "%matplotlib inline\n",
    "\n",
    "%reload_ext autoreload\n",
    "%autoreload 2"
   ]
  },
  {
   "cell_type": "code",
   "execution_count": 6,
   "metadata": {},
   "outputs": [],
   "source": [
    "# Specify visible cuda device\n",
    "import os\n",
    "os.environ[\"CUDA_DEVICE_ORDER\"] = \"PCI_BUS_ID\"\n",
    "os.environ[\"CUDA_VISIBLE_DEVICES\"] = \"0\""
   ]
  },
  {
   "cell_type": "code",
   "execution_count": 44,
   "metadata": {},
   "outputs": [],
   "source": [
    "from parameters import *\n",
    "from lib.utils import *\n",
    "from lib.attacks import *\n",
    "from lib.keras_utils import *\n",
    "\n",
    "import numpy as np\n",
    "import tensorflow as tf\n",
    "from sklearn.model_selection import train_test_split\n",
    "from keras.models import load_model"
   ]
  },
  {
   "cell_type": "code",
   "execution_count": 8,
   "metadata": {},
   "outputs": [],
   "source": [
    "from keras.datasets import mnist\n",
    "\n",
    "x_train, y_train, x_test, y_test = load_dataset_mnist()\n",
    "\n",
    "y_train_cat = keras.utils.to_categorical(y_train)\n",
    "y_test_cat = keras.utils.to_categorical(y_test)"
   ]
  },
  {
   "cell_type": "markdown",
   "metadata": {},
   "source": [
    "### 2-class vs N-class DNN"
   ]
  },
  {
   "cell_type": "code",
   "execution_count": 98,
   "metadata": {
    "scrolled": true
   },
   "outputs": [
    {
     "name": "stdout",
     "output_type": "stream",
     "text": [
      "Train on 12396 samples, validate on 2038 samples\n",
      "Epoch 1/10\n",
      "12396/12396 [==============================] - 2s 130us/step - loss: 0.0945 - acc: 0.9674 - val_loss: 0.0473 - val_acc: 0.9823\n",
      "Epoch 2/10\n",
      "12396/12396 [==============================] - 1s 74us/step - loss: 0.0321 - acc: 0.9894 - val_loss: 0.0437 - val_acc: 0.9848\n",
      "Epoch 3/10\n",
      "12396/12396 [==============================] - 1s 74us/step - loss: 0.0205 - acc: 0.9935 - val_loss: 0.0165 - val_acc: 0.9926\n",
      "Epoch 4/10\n",
      "12396/12396 [==============================] - 1s 73us/step - loss: 0.0159 - acc: 0.9948 - val_loss: 0.0139 - val_acc: 0.9941\n",
      "Epoch 5/10\n",
      "12396/12396 [==============================] - 1s 73us/step - loss: 0.0107 - acc: 0.9966 - val_loss: 0.0121 - val_acc: 0.9946\n",
      "Epoch 6/10\n",
      "12396/12396 [==============================] - 1s 73us/step - loss: 0.0091 - acc: 0.9969 - val_loss: 0.0083 - val_acc: 0.9980\n",
      "Epoch 7/10\n",
      "12396/12396 [==============================] - 1s 69us/step - loss: 0.0074 - acc: 0.9975 - val_loss: 0.0106 - val_acc: 0.9951\n",
      "Epoch 8/10\n",
      "12396/12396 [==============================] - 1s 70us/step - loss: 0.0066 - acc: 0.9980 - val_loss: 0.0085 - val_acc: 0.9971\n",
      "Epoch 9/10\n",
      "12396/12396 [==============================] - 1s 74us/step - loss: 0.0057 - acc: 0.9985 - val_loss: 0.0080 - val_acc: 0.9980\n",
      "Epoch 10/10\n",
      "12396/12396 [==============================] - 1s 73us/step - loss: 0.0043 - acc: 0.9988 - val_loss: 0.0074 - val_acc: 0.9980\n",
      "[0.007423889554842519, 0.9980372914622179]\n"
     ]
    }
   ],
   "source": [
    "a = 3\n",
    "b = 7\n",
    "\n",
    "x_train_ab = x_train[[y == a or y == b for y in y_train]]\n",
    "y_train_ab = y_train[[y == a or y == b for y in y_train]]\n",
    "y_train_ab[y_train_ab == a] = 0\n",
    "y_train_ab[y_train_ab == b] = 1\n",
    "y_train_ab_cat = keras.utils.to_categorical(y_train_ab)\n",
    "\n",
    "x_test_ab = x_test[[y == a or y == b for y in y_test]]\n",
    "y_test_ab = y_test[[y == a or y == b for y in y_test]]\n",
    "y_test_ab[y_test_ab == a] = 0\n",
    "y_test_ab[y_test_ab == b] = 1\n",
    "y_test_ab_cat = keras.utils.to_categorical(y_test_ab)\n",
    "\n",
    "model = build_cnn_mnist_2cls()\n",
    "model.fit(x_train_ab, y_train_ab_cat,\n",
    "          batch_size=128,\n",
    "          epochs=10,\n",
    "          verbose=1,\n",
    "          validation_data=(x_test_ab, y_test_ab_cat))\n",
    "score = model.evaluate(x_test_ab, y_test_ab_cat, verbose=0)\n",
    "print(score)"
   ]
  },
  {
   "cell_type": "code",
   "execution_count": 114,
   "metadata": {},
   "outputs": [
    {
     "name": "stdout",
     "output_type": "stream",
     "text": [
      "Finished 200 samples in 4.26s.\n",
      "Finished 400 samples in 3.74s.\n",
      "Finished 600 samples in 3.84s.\n",
      "Finished 800 samples in 3.85s.\n"
     ]
    }
   ],
   "source": [
    "x_adv = PGD(model, x_test_ab[:1000], y_test_ab[:1000], grad_fn=None, norm=\"inf\", \n",
    "            n_step=10, step_size=0.01, target=False, init_rnd=0.1)"
   ]
  },
  {
   "cell_type": "code",
   "execution_count": 67,
   "metadata": {},
   "outputs": [
    {
     "data": {
      "text/plain": [
       "<matplotlib.image.AxesImage at 0x7f8c0c771358>"
      ]
     },
     "execution_count": 67,
     "metadata": {},
     "output_type": "execute_result"
    },
    {
     "data": {
      "image/png": "[encoded data removed]",
      "text/plain": [
       "<Figure size 432x288 with 1 Axes>"
      ]
     },
     "metadata": {},
     "output_type": "display_data"
    }
   ],
   "source": [
    "plt.imshow(x_adv[1].reshape(28,28))"
   ]
  },
  {
   "cell_type": "code",
   "execution_count": 115,
   "metadata": {},
   "outputs": [
    {
     "name": "stdout",
     "output_type": "stream",
     "text": [
      "1000/1000 [==============================] - 0s 73us/step\n"
     ]
    },
    {
     "data": {
      "text/plain": [
       "[0.672608332157135, 0.807]"
      ]
     },
     "execution_count": 115,
     "metadata": {},
     "output_type": "execute_result"
    }
   ],
   "source": [
    "model.evaluate(x_adv, y_test_ab_cat[:1000])"
   ]
  },
  {
   "cell_type": "code",
   "execution_count": 14,
   "metadata": {},
   "outputs": [],
   "source": [
    "model = build_cnn_mnist()\n",
    "model.load_weights('./tmp/weights/mnist_cnn_smxe.h5')"
   ]
  },
  {
   "cell_type": "code",
   "execution_count": 94,
   "metadata": {
    "scrolled": true
   },
   "outputs": [
    {
     "name": "stdout",
     "output_type": "stream",
     "text": [
      "Finished 200 samples in 12.16s.\n",
      "Finished 400 samples in 11.57s.\n",
      "Finished 600 samples in 11.60s.\n",
      "Finished 800 samples in 11.87s.\n"
     ]
    }
   ],
   "source": [
    "acc = []\n",
    "for n_step in range(5, 55, 5):\n",
    "    x_adv = PGD(model, x_test, y_test, grad_fn=None, norm=\"inf\", \n",
    "                n_step=n_step, step_size=0.01, target=False, init_rnd=0.)\n",
    "    acc.append(model.evaluate(x_adv, y_test_ab_cat, verbose=0))"
   ]
  },
  {
   "cell_type": "code",
   "execution_count": 95,
   "metadata": {},
   "outputs": [
    {
     "name": "stdout",
     "output_type": "stream",
     "text": [
      "1000/1000 [==============================] - 0s 76us/step\n"
     ]
    },
    {
     "data": {
      "text/plain": [
       "[4.454765869140625, 0.1]"
      ]
     },
     "execution_count": 95,
     "metadata": {},
     "output_type": "execute_result"
    }
   ],
   "source": [
    "model.evaluate(x_adv, y_test_cat[:1000])"
   ]
  },
  {
   "cell_type": "code",
   "execution_count": 96,
   "metadata": {},
   "outputs": [
    {
     "data": {
      "text/plain": [
       "0.30000004"
      ]
     },
     "execution_count": 96,
     "metadata": {},
     "output_type": "execute_result"
    }
   ],
   "source": [
    "np.mean(np.linalg.norm((x_adv - x_test[:1000]).reshape(-1, 784), axis=-1, ord=np.inf))"
   ]
  },
  {
   "cell_type": "code",
   "execution_count": 97,
   "metadata": {},
   "outputs": [
    {
     "data": {
      "text/plain": [
       "<matplotlib.image.AxesImage at 0x7f8b981c9a58>"
      ]
     },
     "execution_count": 97,
     "metadata": {},
     "output_type": "execute_result"
    },
    {
     "data": {
      "image/png": "[encoded data removed]",
      "text/plain": [
       "<Figure size 432x288 with 1 Axes>"
      ]
     },
     "metadata": {},
     "output_type": "display_data"
    }
   ],
   "source": [
    "plt.imshow(x_adv[0].reshape(28,28))"
   ]
  },
  {
   "cell_type": "code",
   "execution_count": 161,
   "metadata": {},
   "outputs": [],
   "source": [
    "path = './tmp/num_class_experiment/'\n",
    "# clean_acc = pickle.load(open(path + 'clean_acc.p', 'rb'))\n",
    "adv_acc = pickle.load(open(path + 'adv_acc.p', 'rb'))"
   ]
  },
  {
   "cell_type": "code",
   "execution_count": 162,
   "metadata": {},
   "outputs": [],
   "source": [
    "acc = np.zeros(10)\n",
    "for a in adv_acc:\n",
    "    for i in range(10):\n",
    "        acc[i] += a[i][1]\n",
    "acc /= len(adv_acc)"
   ]
  },
  {
   "cell_type": "code",
   "execution_count": 165,
   "metadata": {},
   "outputs": [],
   "source": [
    "adv_acc = pickle.load(open(path + '10cls_acc.p', 'rb'))"
   ]
  },
  {
   "cell_type": "code",
   "execution_count": 166,
   "metadata": {},
   "outputs": [
    {
     "data": {
      "text/plain": [
       "[<matplotlib.lines.Line2D at 0x7fc70d4ac358>]"
      ]
     },
     "execution_count": 166,
     "metadata": {},
     "output_type": "execute_result"
    },
    {
     "data": {
      "image/png": "[encoded data removed]",
      "text/plain": [
       "<Figure size 432x288 with 1 Axes>"
      ]
     },
     "metadata": {},
     "output_type": "display_data"
    }
   ],
   "source": [
    "eps = np.arange(0.05, 0.55, 0.05)\n",
    "plt.plot(eps, acc)\n",
    "plt.plot(eps, [x[1] for x in adv_acc])"
   ]
  },
  {
   "cell_type": "code",
   "execution_count": 160,
   "metadata": {},
   "outputs": [
    {
     "data": {
      "text/plain": [
       "[<matplotlib.lines.Line2D at 0x7fc70d49c940>]"
      ]
     },
     "execution_count": 160,
     "metadata": {},
     "output_type": "execute_result"
    },
    {
     "data": {
      "image/png": "[encoded data removed]",
      "text/plain": [
       "<Figure size 432x288 with 1 Axes>"
      ]
     },
     "metadata": {},
     "output_type": "display_data"
    }
   ],
   "source": [
    "eps = np.arange(0.05, 0.55, 0.05)\n",
    "plt.plot(eps, [x[1] for x in adv_acc])"
   ]
  },
  {
   "cell_type": "markdown",
   "metadata": {},
   "source": [
    "--- \n",
    "## Gaussian Ball Experiment\n",
    "\n",
    "Generate dataset"
   ]
  },
  {
   "cell_type": "code",
   "execution_count": 80,
   "metadata": {},
   "outputs": [
    {
     "name": "stderr",
     "output_type": "stream",
     "text": [
      "/home/chawins/.conda/envs/tsa3/lib/python3.6/site-packages/sklearn/model_selection/_split.py:2026: FutureWarning: From version 0.21, test_size will always complement train_size unless both are specified.\n",
      "  FutureWarning)\n"
     ]
    }
   ],
   "source": [
    "path = './data/gauss/'\n",
    "n = 70000\n",
    "n_train = 60000\n",
    "d = 500\n",
    "\n",
    "mean_a = np.zeros(d)\n",
    "mean_b = np.ones(d)\n",
    "std = np.sqrt(d) / 6.  # touching at 3 std\n",
    "x_a = np.random.normal(loc=mean_a, scale=std, \n",
    "                       size=(int(n/2), d))\n",
    "x_b = np.random.normal(loc=mean_b, scale=std, \n",
    "                       size=(int(n/2), d))\n",
    "x = np.concatenate([x_a, x_b])\n",
    "y = np.concatenate(([0] * int(n/2), [1] * int(n/2)))\n",
    "x_train, x_test, y_train, y_test = train_test_split(\n",
    "    x, y, train_size=n_train)"
   ]
  },
  {
   "cell_type": "code",
   "execution_count": 6,
   "metadata": {},
   "outputs": [],
   "source": [
    "pickle.dump([x_train, y_train, x_test, y_test], \n",
    "            open('{}d{}.p'.format(path, d), 'wb'), protocol=4)"
   ]
  },
  {
   "cell_type": "markdown",
   "metadata": {},
   "source": [
    "Load dataset"
   ]
  },
  {
   "cell_type": "code",
   "execution_count": 9,
   "metadata": {},
   "outputs": [],
   "source": [
    "data_path = './data/gauss/'\n",
    "path = './tmp/gauss/'\n",
    "d = 500\n",
    "x_train, y_train, x_test, y_test = pickle.load(\n",
    "    open('{}d{}.p'.format(data_path, d), 'rb'))\n",
    "y_train_cat = keras.utils.to_categorical(y_train)\n",
    "y_test_cat = keras.utils.to_categorical(y_test)"
   ]
  },
  {
   "cell_type": "code",
   "execution_count": 95,
   "metadata": {},
   "outputs": [],
   "source": [
    "model_100 = build_dnn_baseline(100)\n",
    "model_500 = build_dnn_baseline(500)"
   ]
  },
  {
   "cell_type": "code",
   "execution_count": 44,
   "metadata": {
    "scrolled": true
   },
   "outputs": [
    {
     "name": "stdout",
     "output_type": "stream",
     "text": [
      "Train on 5000 samples, validate on 10000 samples\n",
      "Epoch 1/10\n",
      "5000/5000 [==============================] - 2s 408us/step - loss: 0.1357 - acc: 0.9438 - val_loss: 0.0273 - val_acc: 0.9908\n",
      "Epoch 2/10\n",
      "5000/5000 [==============================] - 1s 228us/step - loss: 0.0100 - acc: 0.9982 - val_loss: 0.0198 - val_acc: 0.9932\n",
      "Epoch 3/10\n",
      "5000/5000 [==============================] - 1s 216us/step - loss: 0.0067 - acc: 0.9986 - val_loss: 0.0172 - val_acc: 0.9942\n",
      "Epoch 4/10\n",
      "5000/5000 [==============================] - 1s 221us/step - loss: 0.0037 - acc: 0.9998 - val_loss: 0.0151 - val_acc: 0.9948\n",
      "Epoch 5/10\n",
      "5000/5000 [==============================] - 1s 213us/step - loss: 0.0028 - acc: 1.0000 - val_loss: 0.0137 - val_acc: 0.9949\n",
      "Epoch 6/10\n",
      "5000/5000 [==============================] - 1s 220us/step - loss: 0.0013 - acc: 1.0000 - val_loss: 0.0129 - val_acc: 0.9951\n",
      "Epoch 7/10\n",
      "5000/5000 [==============================] - 1s 222us/step - loss: 0.0012 - acc: 1.0000 - val_loss: 0.0123 - val_acc: 0.9953\n",
      "Epoch 8/10\n",
      "5000/5000 [==============================] - 1s 229us/step - loss: 0.0012 - acc: 1.0000 - val_loss: 0.0116 - val_acc: 0.9956\n",
      "Epoch 9/10\n",
      "5000/5000 [==============================] - 1s 219us/step - loss: 0.0010 - acc: 1.0000 - val_loss: 0.0113 - val_acc: 0.9958\n",
      "Epoch 10/10\n",
      "5000/5000 [==============================] - 1s 223us/step - loss: 7.4453e-04 - acc: 1.0000 - val_loss: 0.0109 - val_acc: 0.9960\n"
     ]
    },
    {
     "data": {
      "text/plain": [
       "<keras.callbacks.History at 0x7f3ed238f2e8>"
      ]
     },
     "execution_count": 44,
     "metadata": {},
     "output_type": "execute_result"
    }
   ],
   "source": [
    "model.fit(x_train[:5000], y_train_cat[:5000],\n",
    "          batch_size=50,\n",
    "          epochs=10,\n",
    "          verbose=1,\n",
    "          validation_data=(x_test, y_test_cat))"
   ]
  },
  {
   "cell_type": "code",
   "execution_count": 17,
   "metadata": {},
   "outputs": [],
   "source": [
    "model.save_weights('./tmp/gauss/weights_d{}_baseline.h5'.format(d))"
   ]
  },
  {
   "cell_type": "code",
   "execution_count": 83,
   "metadata": {},
   "outputs": [],
   "source": [
    "model.load_weights('./tmp/gauss/weights_d{}_baseline.h5'.format(d))"
   ]
  },
  {
   "cell_type": "code",
   "execution_count": 84,
   "metadata": {
    "scrolled": true
   },
   "outputs": [],
   "source": [
    "x_adv = PGD(model, x_test[:100], y_test[:100], grad_fn=None, norm=\"inf\", \n",
    "            n_step=50, step_size=0.01, target=False, init_rnd=0.)"
   ]
  },
  {
   "cell_type": "code",
   "execution_count": 64,
   "metadata": {},
   "outputs": [
    {
     "name": "stdout",
     "output_type": "stream",
     "text": [
      "100/100 [==============================] - 0s 990us/step\n"
     ]
    },
    {
     "data": {
      "text/plain": [
       "[4.575765495300293, 0.44]"
      ]
     },
     "execution_count": 64,
     "metadata": {},
     "output_type": "execute_result"
    }
   ],
   "source": [
    "model.evaluate(x_adv, y_test_cat[:100])"
   ]
  },
  {
   "cell_type": "code",
   "execution_count": 72,
   "metadata": {},
   "outputs": [
    {
     "name": "stdout",
     "output_type": "stream",
     "text": [
      "100/100 [==============================] - 0s 1ms/step\n"
     ]
    },
    {
     "data": {
      "text/plain": [
       "[3.740817346572876, 0.41]"
      ]
     },
     "execution_count": 72,
     "metadata": {},
     "output_type": "execute_result"
    }
   ],
   "source": [
    "model.evaluate(x_adv, y_test_cat[:100])"
   ]
  },
  {
   "cell_type": "code",
   "execution_count": 76,
   "metadata": {
    "scrolled": true
   },
   "outputs": [
    {
     "name": "stdout",
     "output_type": "stream",
     "text": [
      "(array([47]),)\n",
      "(array([ 0,  1,  2,  4,  5,  6,  7,  8,  9, 10, 11, 12, 13, 14, 15, 16, 17,\n",
      "       18, 19, 20, 21, 22, 23, 24, 25, 26, 27, 28, 29, 30, 31, 32, 33, 34,\n",
      "       35, 36, 37, 38, 39, 40, 41, 42, 43, 44, 45, 46, 47, 48, 49, 50, 51,\n",
      "       52, 53, 54, 55, 56, 57, 58, 59, 60, 61, 62, 63, 64, 65, 66, 67, 68,\n",
      "       69, 70, 71, 72, 73, 74, 75, 76, 77, 78, 79, 80, 81, 82, 83, 84, 85,\n",
      "       86, 87, 88, 89, 90, 91, 93, 94, 95, 96, 97, 98, 99]),)\n",
      "(array([ 0,  1,  3,  4,  5,  6,  7,  9, 10, 11, 12, 13, 14, 15, 16, 17, 18,\n",
      "       19, 20, 21, 22, 23, 24, 25, 26, 27, 28, 29, 30, 31, 32, 33, 34, 35,\n",
      "       36, 37, 38, 39, 40, 41, 42, 43, 44, 45, 46, 47, 48, 49, 50, 51, 52,\n",
      "       53, 54, 55, 56, 57, 58, 59, 60, 61, 63, 64, 65, 66, 67, 68, 69, 70,\n",
      "       71, 72, 73, 74, 75, 76, 77, 78, 79, 81, 82, 83, 84, 85, 87, 88, 89,\n",
      "       90, 91, 92, 93, 95, 96, 97, 98, 99]),)\n",
      "(array([ 0,  1,  2,  3,  4,  5,  6,  7,  8,  9, 10, 11, 12, 13, 14, 15, 16,\n",
      "       17, 18, 19, 20, 21, 22, 23, 24, 25, 26, 27, 28, 29, 30, 31, 32, 33,\n",
      "       34, 35, 36, 37, 38, 39, 40, 41, 42, 43, 44, 45, 46, 47, 48, 49, 50,\n",
      "       51, 52, 53, 54, 56, 57, 58, 59, 60, 61, 62, 63, 64, 65, 66, 67, 68,\n",
      "       69, 70, 71, 72, 73, 74, 75, 76, 77, 78, 79, 80, 81, 82, 83, 84, 85,\n",
      "       86, 87, 88, 89, 90, 91, 92, 93, 94, 95, 96, 97, 98, 99]),)\n",
      "(array([ 0,  2,  3,  4,  5,  6,  7,  8,  9, 10, 11, 12, 13, 14, 15, 16, 17,\n",
      "       18, 19, 20, 21, 22, 23, 24, 25, 26, 27, 28, 29, 30, 31, 32, 33, 34,\n",
      "       35, 36, 37, 38, 39, 40, 41, 43, 44, 46, 47, 48, 49, 50, 51, 52, 53,\n",
      "       54, 55, 56, 57, 58, 59, 60, 61, 62, 63, 64, 65, 66, 67, 68, 69, 70,\n",
      "       71, 72, 73, 74, 75, 76, 77, 78, 79, 80, 81, 82, 83, 84, 85, 86, 87,\n",
      "       88, 89, 90, 91, 92, 93, 94, 95, 96, 97, 98, 99]),)\n",
      "(array([47]),)\n",
      "(array([], dtype=int64),)\n",
      "(array([70, 78]),)\n",
      "(array([], dtype=int64),)\n",
      "(array([70, 86]),)\n",
      "(array([ 0,  1,  2,  3,  4,  5,  6,  7,  8,  9, 10, 11, 12, 13, 14, 15, 16,\n",
      "       17, 18, 19, 20, 21, 22, 23, 24, 25, 26, 27, 28, 29, 30, 31, 32, 33,\n",
      "       34, 35, 36, 37, 38, 39, 40, 41, 42, 43, 44, 45, 46, 47, 48, 49, 50,\n",
      "       51, 52, 53, 54, 55, 56, 57, 58, 59, 60, 61, 62, 63, 64, 65, 66, 67,\n",
      "       68, 69, 70, 71, 72, 73, 74, 75, 76, 77, 78, 79, 80, 81, 82, 83, 84,\n",
      "       85, 86, 87, 88, 89, 90, 91, 92, 93, 94, 95, 96, 97, 98, 99]),)\n",
      "(array([ 0,  1,  2,  3,  4,  5,  6,  7,  8,  9, 10, 11, 12, 13, 14, 15, 16,\n",
      "       17, 18, 19, 20, 21, 22, 23, 24, 25, 26, 27, 28, 29, 30, 31, 32, 33,\n",
      "       34, 35, 36, 37, 38, 39, 40, 41, 43, 44, 45, 46, 47, 48, 49, 50, 51,\n",
      "       52, 53, 54, 55, 56, 57, 58, 59, 60, 61, 62, 63, 64, 65, 66, 67, 68,\n",
      "       69, 70, 72, 73, 74, 75, 76, 77, 78, 79, 80, 81, 82, 83, 84, 85, 86,\n",
      "       87, 88, 89, 90, 91, 92, 93, 94, 95, 96, 97, 98, 99]),)\n",
      "(array([ 0,  2,  3,  4,  5,  6,  7,  8,  9, 10, 11, 12, 13, 14, 15, 16, 17,\n",
      "       18, 19, 20, 21, 22, 23, 24, 25, 26, 27, 28, 29, 30, 31, 32, 33, 34,\n",
      "       35, 36, 37, 38, 39, 40, 41, 42, 43, 44, 45, 46, 48, 49, 50, 51, 52,\n",
      "       53, 54, 56, 57, 58, 59, 60, 61, 62, 63, 64, 65, 67, 68, 69, 70, 71,\n",
      "       72, 73, 74, 75, 76, 77, 79, 81, 82, 83, 84, 85, 87, 88, 89, 90, 91,\n",
      "       92, 93, 94, 95, 96, 97, 98, 99]),)\n",
      "(array([24, 70, 93]),)\n",
      "(array([ 0,  1,  2,  3,  4,  5,  6,  7,  8,  9, 10, 11, 12, 13, 14, 15, 16,\n",
      "       17, 18, 19, 20, 22, 24, 25, 26, 27, 28, 29, 30, 31, 32, 33, 34, 35,\n",
      "       36, 37, 38, 39, 40, 41, 42, 43, 44, 45, 46, 48, 49, 50, 51, 52, 53,\n",
      "       54, 55, 56, 57, 58, 59, 60, 61, 62, 63, 64, 65, 66, 67, 68, 69, 70,\n",
      "       71, 72, 73, 74, 75, 77, 78, 79, 80, 81, 82, 83, 84, 85, 86, 87, 88,\n",
      "       89, 90, 91, 92, 93, 94, 95, 96, 97, 98, 99]),)\n",
      "(array([36]),)\n",
      "(array([ 0,  1,  2,  3,  4,  5,  6,  7,  9, 10, 11, 12, 13, 14, 15, 16, 17,\n",
      "       18, 19, 20, 21, 22, 23, 24, 25, 26, 27, 28, 29, 30, 31, 33, 34, 35,\n",
      "       36, 37, 38, 40, 41, 42, 43, 44, 45, 46, 47, 48, 49, 50, 51, 53, 55,\n",
      "       56, 57, 58, 59, 60, 61, 62, 63, 64, 65, 66, 67, 68, 69, 70, 72, 73,\n",
      "       74, 75, 76, 77, 78, 79, 80, 81, 82, 83, 84, 85, 86, 87, 89, 90, 91,\n",
      "       92, 93, 95, 96, 97, 98, 99]),)\n",
      "(array([21]),)\n",
      "(array([], dtype=int64),)\n",
      "(array([53, 91]),)\n"
     ]
    }
   ],
   "source": [
    "for i in range(20):\n",
    "    print(np.where(x_adv[i] - x_test[i] > 0))"
   ]
  },
  {
   "cell_type": "code",
   "execution_count": 87,
   "metadata": {},
   "outputs": [
    {
     "data": {
      "text/plain": [
       "array([0.49999999, 0.49999999, 0.49999999, 0.49999999, 0.49999999,\n",
       "       0.49999999, 0.49999999, 0.49999999, 0.49999999, 0.49999999,\n",
       "       0.49999999, 0.49999999, 0.49999999, 0.49999999, 0.49999999,\n",
       "       0.49999999, 0.49999999, 0.49999999, 0.49999999, 0.49999999,\n",
       "       0.49999999, 0.49999999, 0.49999999, 0.49999999, 0.49999999,\n",
       "       0.49999999, 0.49999999, 0.49999999, 0.49999999, 0.49999999,\n",
       "       0.49999999, 0.49999999, 0.49999999, 0.49999999, 0.49999999,\n",
       "       0.49999999, 0.49999999, 0.49999999, 0.49999999, 0.49999999,\n",
       "       0.49999999, 0.49999999, 0.49999999, 0.49999999, 0.49999999,\n",
       "       0.49999999, 0.49999999, 0.49999999, 0.49999999, 0.49999999,\n",
       "       0.49999999, 0.49999999, 0.49999999, 0.49999999, 0.49999999,\n",
       "       0.49999999, 0.49999999, 0.49999999, 0.49999999, 0.49999999,\n",
       "       0.49999999, 0.49999999, 0.49999999, 0.49999999, 0.49999999,\n",
       "       0.49999999, 0.49999999, 0.49999999, 0.49999999, 0.49999999,\n",
       "       0.49999999, 0.49999999, 0.49999999, 0.49999999, 0.49999999,\n",
       "       0.49999999, 0.49999999, 0.49999999, 0.49999999, 0.49999999,\n",
       "       0.49999999, 0.49999999, 0.49999999, 0.49999999, 0.49999999,\n",
       "       0.49999999, 0.49999999, 0.49999999, 0.49999999, 0.49999999,\n",
       "       0.49999999, 0.49999999, 0.49999999, 0.49999999, 0.49999999,\n",
       "       0.49999999, 0.49999999, 0.49999999, 0.49999999, 0.49999999])"
      ]
     },
     "execution_count": 87,
     "metadata": {},
     "output_type": "execute_result"
    }
   ],
   "source": [
    "np.linalg.norm(x_adv - x_test[:100], axis=1, ord=np.inf)"
   ]
  },
  {
   "cell_type": "code",
   "execution_count": 21,
   "metadata": {},
   "outputs": [],
   "source": [
    "adv_acc1 = pickle.load(open(path + 'adv_acc_d100_baseline.p', 'rb'))\n",
    "adv_acc2 = pickle.load(open(path + 'adv_acc_d500_baseline.p', 'rb'))"
   ]
  },
  {
   "cell_type": "code",
   "execution_count": 38,
   "metadata": {},
   "outputs": [
    {
     "data": {
      "text/plain": [
       "[0.984, 0.9464, 0.8605, 0.717, 0.5213, 0.3136, 0.1568, 0.0611, 0.0193, 0.0049]"
      ]
     },
     "execution_count": 38,
     "metadata": {},
     "output_type": "execute_result"
    }
   ],
   "source": [
    "adv_acc1[1]"
   ]
  },
  {
   "cell_type": "code",
   "execution_count": 33,
   "metadata": {},
   "outputs": [
    {
     "data": {
      "text/plain": [
       "[0.9893, 0.9541, 0.8666, 0.7254, 0.5238, 0.319, 0.161, 0.066, 0.0188, 0.0045]"
      ]
     },
     "execution_count": 33,
     "metadata": {},
     "output_type": "execute_result"
    }
   ],
   "source": [
    "adv_acc2[1]"
   ]
  },
  {
   "cell_type": "code",
   "execution_count": 59,
   "metadata": {},
   "outputs": [
    {
     "data": {
      "text/plain": [
       "[<matplotlib.lines.Line2D at 0x7fc713a27ac8>]"
      ]
     },
     "execution_count": 59,
     "metadata": {},
     "output_type": "execute_result"
    },
    {
     "data": {
      "image/png": "[encoded data removed]",
      "text/plain": [
       "<Figure size 432x288 with 1 Axes>"
      ]
     },
     "metadata": {},
     "output_type": "display_data"
    }
   ],
   "source": [
    "plt.plot(adv_acc1[0], adv_acc1[1])\n",
    "plt.plot(adv_acc2[0], adv_acc2[1])"
   ]
  },
  {
   "cell_type": "code",
   "execution_count": null,
   "metadata": {},
   "outputs": [],
   "source": []
  },
  {
   "cell_type": "markdown",
   "metadata": {},
   "source": [
    "#### Model Complexity\n",
    "Linear SVM"
   ]
  },
  {
   "cell_type": "code",
   "execution_count": 198,
   "metadata": {},
   "outputs": [
    {
     "data": {
      "text/plain": [
       "LinearSVC(C=1.0, class_weight=None, dual=True, fit_intercept=True,\n",
       "     intercept_scaling=10000.0, loss='squared_hinge', max_iter=1000,\n",
       "     multi_class='ovr', penalty='l2', random_state=None, tol=0.0001,\n",
       "     verbose=0)"
      ]
     },
     "execution_count": 198,
     "metadata": {},
     "output_type": "execute_result"
    }
   ],
   "source": [
    "from sklearn.svm import LinearSVC\n",
    "\n",
    "svm = LinearSVC(C=1., intercept_scaling=1e4)\n",
    "svm.fit(x_train, y_train)"
   ]
  },
  {
   "cell_type": "code",
   "execution_count": 199,
   "metadata": {},
   "outputs": [
    {
     "data": {
      "text/plain": [
       "0.9985"
      ]
     },
     "execution_count": 199,
     "metadata": {},
     "output_type": "execute_result"
    }
   ],
   "source": [
    "svm.score(x_test, y_test)"
   ]
  },
  {
   "cell_type": "code",
   "execution_count": 116,
   "metadata": {},
   "outputs": [
    {
     "data": {
      "text/plain": [
       "0.9982"
      ]
     },
     "execution_count": 116,
     "metadata": {},
     "output_type": "execute_result"
    }
   ],
   "source": [
    "from sklearn.decomposition import PCA\n",
    "\n",
    "pca = PCA(n_components=2)\n",
    "x_train_pca = pca.fit_transform(x_train)\n",
    "svm = LinearSVC(C=1.)\n",
    "svm.fit(x_train_pca, y_train)\n",
    "svm.score(pca.transform(x_test), y_test)"
   ]
  },
  {
   "cell_type": "code",
   "execution_count": 121,
   "metadata": {},
   "outputs": [],
   "source": [
    "eps_list = np.arange(0.1, 1.1, 0.1) * 50\n",
    "adv_acc = []\n",
    "\n",
    "x_test_pca = pca.transform(x_test)\n",
    "for eps in eps_list:\n",
    "    grad = svm.coef_[0]\n",
    "    x_adv = np.zeros_like(x_test_pca)\n",
    "\n",
    "    for i, (x, y) in enumerate(zip(x_test_pca, y_test)):\n",
    "        if not y:\n",
    "            x_adv[i] = x + np.sign(grad) * eps\n",
    "        else:\n",
    "            x_adv[i] = x - np.sign(grad) * eps\n",
    "\n",
    "    adv_acc.append(svm.score(x_adv, y_test))"
   ]
  },
  {
   "cell_type": "code",
   "execution_count": 122,
   "metadata": {},
   "outputs": [
    {
     "data": {
      "text/plain": [
       "[<matplotlib.lines.Line2D at 0x7fc70d6ed2e8>]"
      ]
     },
     "execution_count": 122,
     "metadata": {},
     "output_type": "execute_result"
    },
    {
     "data": {
      "image/png": "[encoded data removed]",
      "text/plain": [
       "<Figure size 432x288 with 1 Axes>"
      ]
     },
     "metadata": {},
     "output_type": "display_data"
    }
   ],
   "source": [
    "plt.plot(eps_list, adv_acc)"
   ]
  },
  {
   "cell_type": "code",
   "execution_count": 119,
   "metadata": {},
   "outputs": [
    {
     "data": {
      "text/plain": [
       "array([[0.97958851, 0.00972365]])"
      ]
     },
     "execution_count": 119,
     "metadata": {},
     "output_type": "execute_result"
    }
   ],
   "source": [
    "svm.coef_"
   ]
  },
  {
   "cell_type": "code",
   "execution_count": 99,
   "metadata": {},
   "outputs": [
    {
     "data": {
      "text/plain": [
       "0.9975"
      ]
     },
     "execution_count": 99,
     "metadata": {},
     "output_type": "execute_result"
    }
   ],
   "source": [
    "svm.score(x_test, y_test)"
   ]
  },
  {
   "cell_type": "code",
   "execution_count": 200,
   "metadata": {},
   "outputs": [],
   "source": [
    "eps_list = np.arange(0.1, 1.1, 0.1)\n",
    "adv_acc = []\n",
    "\n",
    "for eps in eps_list:\n",
    "    grad = svm.coef_[0]\n",
    "    x_adv = np.zeros_like(x_test)\n",
    "\n",
    "    for i, (x, y) in enumerate(zip(x_test, y_test)):\n",
    "        if not y:\n",
    "            x_adv[i] = x + np.sign(grad) * eps\n",
    "        else:\n",
    "            x_adv[i] = x - np.sign(grad) * eps\n",
    "\n",
    "    adv_acc.append(svm.score(x_adv, y_test))"
   ]
  },
  {
   "cell_type": "code",
   "execution_count": 201,
   "metadata": {},
   "outputs": [
    {
     "data": {
      "text/plain": [
       "[0.9915, 0.9633, 0.8819, 0.726, 0.502, 0.2793, 0.1221, 0.0392, 0.0087, 0.0016]"
      ]
     },
     "execution_count": 201,
     "metadata": {},
     "output_type": "execute_result"
    }
   ],
   "source": [
    "adv_acc"
   ]
  },
  {
   "cell_type": "code",
   "execution_count": 196,
   "metadata": {},
   "outputs": [
    {
     "data": {
      "text/plain": [
       "[0.9866,\n",
       " 0.9548,\n",
       " 0.8612,\n",
       " 0.7084,\n",
       " 0.4977,\n",
       " 0.2897,\n",
       " 0.1378,\n",
       " 0.0513,\n",
       " 0.0125,\n",
       " 0.0022]"
      ]
     },
     "execution_count": 196,
     "metadata": {},
     "output_type": "execute_result"
    }
   ],
   "source": [
    "adv_acc"
   ]
  },
  {
   "cell_type": "code",
   "execution_count": 195,
   "metadata": {},
   "outputs": [
    {
     "data": {
      "text/plain": [
       "[<matplotlib.lines.Line2D at 0x7fc188f66b00>]"
      ]
     },
     "execution_count": 195,
     "metadata": {},
     "output_type": "execute_result"
    },
    {
     "data": {
      "image/png": "[encoded data removed]",
      "text/plain": [
       "<Figure size 432x288 with 1 Axes>"
      ]
     },
     "metadata": {},
     "output_type": "display_data"
    }
   ],
   "source": [
    "plt.plot(eps_list, adv_acc)"
   ]
  },
  {
   "cell_type": "code",
   "execution_count": 141,
   "metadata": {},
   "outputs": [
    {
     "data": {
      "text/plain": [
       "[<matplotlib.lines.Line2D at 0x7fc70d595710>]"
      ]
     },
     "execution_count": 141,
     "metadata": {},
     "output_type": "execute_result"
    },
    {
     "data": {
      "image/png": "[encoded data removed]",
      "text/plain": [
       "<Figure size 432x288 with 1 Axes>"
      ]
     },
     "metadata": {},
     "output_type": "display_data"
    }
   ],
   "source": [
    "plt.plot(eps_list, adv_acc)"
   ]
  },
  {
   "cell_type": "code",
   "execution_count": 203,
   "metadata": {},
   "outputs": [
    {
     "data": {
      "text/plain": [
       "array([-1.56052449])"
      ]
     },
     "execution_count": 203,
     "metadata": {},
     "output_type": "execute_result"
    }
   ],
   "source": [
    "svm.intercept_"
   ]
  },
  {
   "cell_type": "code",
   "execution_count": 202,
   "metadata": {},
   "outputs": [
    {
     "data": {
      "text/plain": [
       "3.275094463213529"
      ]
     },
     "execution_count": 202,
     "metadata": {},
     "output_type": "execute_result"
    }
   ],
   "source": [
    "np.sum(svm.coef_)"
   ]
  },
  {
   "cell_type": "code",
   "execution_count": 205,
   "metadata": {},
   "outputs": [
    {
     "data": {
      "text/plain": [
       "500"
      ]
     },
     "execution_count": 205,
     "metadata": {},
     "output_type": "execute_result"
    }
   ],
   "source": [
    "np.sum(svm.coef_ > 0)"
   ]
  },
  {
   "cell_type": "code",
   "execution_count": 96,
   "metadata": {},
   "outputs": [],
   "source": [
    "w500 = svm.coef_"
   ]
  },
  {
   "cell_type": "markdown",
   "metadata": {},
   "source": [
    "Changing depths (no hidden (~ logistic regression), 2, 4, 8)"
   ]
  },
  {
   "cell_type": "code",
   "execution_count": 12,
   "metadata": {},
   "outputs": [],
   "source": [
    "model = Sequential()\n",
    "model.add(Dense(2, input_dim=d, activation='linear'))\n",
    "model.compile(loss=output_fn,\n",
    "              optimizer=keras.optimizers.Adam(lr=1e-3),\n",
    "              metrics=['accuracy'])"
   ]
  },
  {
   "cell_type": "code",
   "execution_count": 11,
   "metadata": {},
   "outputs": [],
   "source": [
    "earlystop = keras.callbacks.EarlyStopping(monitor='val_loss', patience=5)"
   ]
  },
  {
   "cell_type": "code",
   "execution_count": 14,
   "metadata": {
    "scrolled": true
   },
   "outputs": [
    {
     "name": "stdout",
     "output_type": "stream",
     "text": [
      "Train on 60000 samples, validate on 10000 samples\n",
      "Epoch 1/100\n",
      "60000/60000 [==============================] - 4s 58us/step - loss: 0.3392 - acc: 0.8800 - val_loss: 0.1230 - val_acc: 0.9792\n",
      "Epoch 2/100\n",
      "60000/60000 [==============================] - 3s 54us/step - loss: 0.0845 - acc: 0.9905 - val_loss: 0.0616 - val_acc: 0.9937\n",
      "Epoch 3/100\n",
      "60000/60000 [==============================] - 3s 55us/step - loss: 0.0459 - acc: 0.9958 - val_loss: 0.0376 - val_acc: 0.9960\n",
      "Epoch 4/100\n",
      "60000/60000 [==============================] - 3s 55us/step - loss: 0.0289 - acc: 0.9971 - val_loss: 0.0258 - val_acc: 0.9966\n",
      "Epoch 5/100\n",
      "60000/60000 [==============================] - 3s 56us/step - loss: 0.0198 - acc: 0.9980 - val_loss: 0.0187 - val_acc: 0.9973\n",
      "Epoch 6/100\n",
      "60000/60000 [==============================] - 3s 56us/step - loss: 0.0145 - acc: 0.9983 - val_loss: 0.0146 - val_acc: 0.9975\n",
      "Epoch 7/100\n",
      "60000/60000 [==============================] - 3s 56us/step - loss: 0.0112 - acc: 0.9984 - val_loss: 0.0120 - val_acc: 0.9974\n",
      "Epoch 8/100\n",
      "60000/60000 [==============================] - 3s 49us/step - loss: 0.0092 - acc: 0.9984 - val_loss: 0.0103 - val_acc: 0.9978\n",
      "Epoch 9/100\n",
      "60000/60000 [==============================] - 3s 52us/step - loss: 0.0078 - acc: 0.9985 - val_loss: 0.0093 - val_acc: 0.9982\n",
      "Epoch 10/100\n",
      "60000/60000 [==============================] - 3s 51us/step - loss: 0.0070 - acc: 0.9986 - val_loss: 0.0086 - val_acc: 0.9977\n",
      "Epoch 11/100\n",
      "60000/60000 [==============================] - 3s 52us/step - loss: 0.0063 - acc: 0.9986 - val_loss: 0.0081 - val_acc: 0.9975\n",
      "Epoch 12/100\n",
      "60000/60000 [==============================] - 3s 56us/step - loss: 0.0059 - acc: 0.9986 - val_loss: 0.0079 - val_acc: 0.9976\n",
      "Epoch 13/100\n",
      "60000/60000 [==============================] - 3s 56us/step - loss: 0.0056 - acc: 0.9986 - val_loss: 0.0074 - val_acc: 0.9977\n",
      "Epoch 14/100\n",
      "60000/60000 [==============================] - 3s 57us/step - loss: 0.0053 - acc: 0.9987 - val_loss: 0.0072 - val_acc: 0.9978\n",
      "Epoch 15/100\n",
      "60000/60000 [==============================] - 3s 54us/step - loss: 0.0052 - acc: 0.9986 - val_loss: 0.0070 - val_acc: 0.9976\n",
      "Epoch 16/100\n",
      "60000/60000 [==============================] - 3s 55us/step - loss: 0.0050 - acc: 0.9988 - val_loss: 0.0068 - val_acc: 0.9981\n",
      "Epoch 17/100\n",
      "60000/60000 [==============================] - 3s 54us/step - loss: 0.0048 - acc: 0.9987 - val_loss: 0.0071 - val_acc: 0.9978\n",
      "Epoch 18/100\n",
      "60000/60000 [==============================] - 3s 53us/step - loss: 0.0047 - acc: 0.9987 - val_loss: 0.0068 - val_acc: 0.9977\n",
      "Epoch 19/100\n",
      "60000/60000 [==============================] - 3s 53us/step - loss: 0.0046 - acc: 0.9987 - val_loss: 0.0067 - val_acc: 0.9980\n",
      "Epoch 20/100\n",
      "60000/60000 [==============================] - 3s 55us/step - loss: 0.0046 - acc: 0.9987 - val_loss: 0.0067 - val_acc: 0.9977\n",
      "Epoch 21/100\n",
      "60000/60000 [==============================] - 3s 57us/step - loss: 0.0045 - acc: 0.9988 - val_loss: 0.0066 - val_acc: 0.9977\n",
      "Epoch 22/100\n",
      "60000/60000 [==============================] - 3s 54us/step - loss: 0.0044 - acc: 0.9988 - val_loss: 0.0070 - val_acc: 0.9974\n",
      "Epoch 23/100\n",
      "60000/60000 [==============================] - 3s 56us/step - loss: 0.0043 - acc: 0.9988 - val_loss: 0.0067 - val_acc: 0.9979\n",
      "Epoch 24/100\n",
      "60000/60000 [==============================] - 3s 56us/step - loss: 0.0043 - acc: 0.9987 - val_loss: 0.0065 - val_acc: 0.9978\n",
      "Epoch 25/100\n",
      "60000/60000 [==============================] - 3s 54us/step - loss: 0.0042 - acc: 0.9988 - val_loss: 0.0065 - val_acc: 0.9979\n",
      "Epoch 26/100\n",
      "60000/60000 [==============================] - 3s 55us/step - loss: 0.0042 - acc: 0.9988 - val_loss: 0.0069 - val_acc: 0.9976\n",
      "Epoch 27/100\n",
      "60000/60000 [==============================] - 3s 53us/step - loss: 0.0042 - acc: 0.9988 - val_loss: 0.0065 - val_acc: 0.9978\n",
      "Epoch 28/100\n",
      "60000/60000 [==============================] - 3s 54us/step - loss: 0.0041 - acc: 0.9988 - val_loss: 0.0067 - val_acc: 0.9973\n",
      "Epoch 29/100\n",
      "60000/60000 [==============================] - 3s 53us/step - loss: 0.0041 - acc: 0.9988 - val_loss: 0.0065 - val_acc: 0.9978\n"
     ]
    },
    {
     "data": {
      "text/plain": [
       "<keras.callbacks.History at 0x7f7d208c8fd0>"
      ]
     },
     "execution_count": 14,
     "metadata": {},
     "output_type": "execute_result"
    }
   ],
   "source": [
    "model.fit(x_train, y_train_cat,\n",
    "          batch_size=50,\n",
    "          epochs=100,\n",
    "          verbose=1,\n",
    "          callbacks=[earlystop],\n",
    "          validation_data=(x_test, y_test_cat))"
   ]
  },
  {
   "cell_type": "code",
   "execution_count": 15,
   "metadata": {},
   "outputs": [],
   "source": [
    "model.save_weights('{}weights_d{}_depth{}.h5'.format(path, d, 0))"
   ]
  },
  {
   "cell_type": "code",
   "execution_count": null,
   "metadata": {},
   "outputs": [],
   "source": [
    "model.load_weights('{}weights_d{}_depth{}.h5'.format(path, d, 0))"
   ]
  },
  {
   "cell_type": "code",
   "execution_count": 16,
   "metadata": {},
   "outputs": [
    {
     "name": "stdout",
     "output_type": "stream",
     "text": [
      "200/200 [==============================] - 0s 51us/step\n",
      "0.985\n",
      "200/200 [==============================] - 0s 47us/step\n",
      "0.965\n",
      "200/200 [==============================] - 0s 61us/step\n",
      "0.87\n",
      "200/200 [==============================] - 0s 55us/step\n",
      "0.73\n",
      "200/200 [==============================] - 0s 68us/step\n",
      "0.47\n",
      "200/200 [==============================] - 0s 66us/step\n",
      "0.255\n",
      "200/200 [==============================] - 0s 80us/step\n",
      "0.25\n",
      "200/200 [==============================] - 0s 59us/step\n",
      "0.105\n",
      "200/200 [==============================] - 0s 64us/step\n",
      "0.015\n",
      "200/200 [==============================] - 0s 64us/step\n",
      "0.01\n"
     ]
    }
   ],
   "source": [
    "steps = np.array(range(10, 110, 10))\n",
    "for n_step in steps:\n",
    "    x_adv = PGD(model, x_test[:200], y_test[:200], grad_fn=None, norm=\"inf\",\n",
    "                n_step=n_step, step_size=0.01, target=False, init_rnd=0.)\n",
    "    score = model.evaluate(x_adv, y_test_cat[:200])\n",
    "    print(score[1])"
   ]
  },
  {
   "cell_type": "code",
   "execution_count": 18,
   "metadata": {},
   "outputs": [
    {
     "name": "stdout",
     "output_type": "stream",
     "text": [
      "Train on 60000 samples, validate on 10000 samples\n",
      "Epoch 1/50\n",
      "60000/60000 [==============================] - 7s 122us/step - loss: 0.0229 - acc: 0.9919 - val_loss: 0.0079 - val_acc: 0.9975\n",
      "Epoch 2/50\n",
      "60000/60000 [==============================] - 6s 99us/step - loss: 0.0089 - acc: 0.9970 - val_loss: 0.0079 - val_acc: 0.9976\n",
      "Epoch 3/50\n",
      "60000/60000 [==============================] - 6s 97us/step - loss: 0.0072 - acc: 0.9977 - val_loss: 0.0083 - val_acc: 0.9969\n",
      "Epoch 4/50\n",
      "60000/60000 [==============================] - 6s 104us/step - loss: 0.0063 - acc: 0.9978 - val_loss: 0.0078 - val_acc: 0.9974\n",
      "Epoch 5/50\n",
      "60000/60000 [==============================] - 6s 103us/step - loss: 0.0056 - acc: 0.9980 - val_loss: 0.0067 - val_acc: 0.9977\n",
      "Epoch 6/50\n",
      "60000/60000 [==============================] - 6s 101us/step - loss: 0.0049 - acc: 0.9982 - val_loss: 0.0078 - val_acc: 0.9974\n",
      "Epoch 7/50\n",
      "60000/60000 [==============================] - 6s 103us/step - loss: 0.0037 - acc: 0.9985 - val_loss: 0.0063 - val_acc: 0.9980\n",
      "Epoch 8/50\n",
      "60000/60000 [==============================] - 6s 107us/step - loss: 0.0032 - acc: 0.9989 - val_loss: 0.0072 - val_acc: 0.9974\n",
      "Epoch 9/50\n",
      "60000/60000 [==============================] - 6s 103us/step - loss: 0.0034 - acc: 0.9988 - val_loss: 0.0070 - val_acc: 0.9974\n",
      "Epoch 10/50\n",
      "60000/60000 [==============================] - 6s 101us/step - loss: 0.0031 - acc: 0.9988 - val_loss: 0.0076 - val_acc: 0.9974\n",
      "Epoch 11/50\n",
      "60000/60000 [==============================] - 6s 102us/step - loss: 0.0029 - acc: 0.9990 - val_loss: 0.0095 - val_acc: 0.9970\n",
      "Epoch 12/50\n",
      "60000/60000 [==============================] - 6s 105us/step - loss: 0.0025 - acc: 0.9990 - val_loss: 0.0083 - val_acc: 0.9976\n",
      "Train on 60000 samples, validate on 10000 samples\n",
      "Epoch 1/50\n",
      "60000/60000 [==============================] - 10s 170us/step - loss: 0.0190 - acc: 0.9931 - val_loss: 0.0091 - val_acc: 0.9966\n",
      "Epoch 2/50\n",
      "60000/60000 [==============================] - 8s 142us/step - loss: 0.0092 - acc: 0.9965 - val_loss: 0.0079 - val_acc: 0.9973\n",
      "Epoch 3/50\n",
      "60000/60000 [==============================] - 9s 142us/step - loss: 0.0074 - acc: 0.9972 - val_loss: 0.0079 - val_acc: 0.9970\n",
      "Epoch 4/50\n",
      "60000/60000 [==============================] - 9s 147us/step - loss: 0.0060 - acc: 0.9977 - val_loss: 0.0086 - val_acc: 0.9971\n",
      "Epoch 5/50\n",
      "60000/60000 [==============================] - 9s 146us/step - loss: 0.0054 - acc: 0.9979 - val_loss: 0.0079 - val_acc: 0.9975\n",
      "Epoch 6/50\n",
      "60000/60000 [==============================] - 9s 148us/step - loss: 0.0050 - acc: 0.9982 - val_loss: 0.0083 - val_acc: 0.9971\n",
      "Epoch 7/50\n",
      "60000/60000 [==============================] - 9s 144us/step - loss: 0.0050 - acc: 0.9982 - val_loss: 0.0096 - val_acc: 0.9971\n",
      "Epoch 8/50\n",
      "60000/60000 [==============================] - 8s 141us/step - loss: 0.0041 - acc: 0.9984 - val_loss: 0.0092 - val_acc: 0.9966\n",
      "Train on 60000 samples, validate on 10000 samples\n",
      "Epoch 1/50\n",
      "60000/60000 [==============================] - 15s 258us/step - loss: 0.0269 - acc: 0.9911 - val_loss: 0.0163 - val_acc: 0.9951\n",
      "Epoch 2/50\n",
      "60000/60000 [==============================] - 13s 215us/step - loss: 0.0108 - acc: 0.9961 - val_loss: 0.0099 - val_acc: 0.9967\n",
      "Epoch 3/50\n",
      "60000/60000 [==============================] - 13s 218us/step - loss: 0.0081 - acc: 0.9969 - val_loss: 0.0103 - val_acc: 0.9966\n",
      "Epoch 4/50\n",
      "60000/60000 [==============================] - 13s 213us/step - loss: 0.0078 - acc: 0.9973 - val_loss: 0.0103 - val_acc: 0.9960\n",
      "Epoch 5/50\n",
      "60000/60000 [==============================] - 13s 216us/step - loss: 0.0068 - acc: 0.9974 - val_loss: 0.0119 - val_acc: 0.9956\n",
      "Epoch 6/50\n",
      "60000/60000 [==============================] - 13s 216us/step - loss: 0.0067 - acc: 0.9975 - val_loss: 0.0144 - val_acc: 0.9951\n",
      "Epoch 7/50\n",
      "60000/60000 [==============================] - 13s 214us/step - loss: 0.0042 - acc: 0.9985 - val_loss: 0.0104 - val_acc: 0.9964\n",
      "Train on 60000 samples, validate on 10000 samples\n",
      "Epoch 1/50\n",
      "60000/60000 [==============================] - 25s 422us/step - loss: 0.0414 - acc: 0.9848 - val_loss: 0.0167 - val_acc: 0.9940\n",
      "Epoch 2/50\n",
      "60000/60000 [==============================] - 22s 372us/step - loss: 0.0195 - acc: 0.9933 - val_loss: 0.0137 - val_acc: 0.9952\n",
      "Epoch 3/50\n",
      "60000/60000 [==============================] - 22s 369us/step - loss: 0.0112 - acc: 0.9959 - val_loss: 0.0120 - val_acc: 0.9957\n",
      "Epoch 4/50\n",
      "60000/60000 [==============================] - 23s 376us/step - loss: 0.0096 - acc: 0.9968 - val_loss: 0.0148 - val_acc: 0.9948\n",
      "Epoch 5/50\n",
      "60000/60000 [==============================] - 22s 372us/step - loss: 0.0098 - acc: 0.9970 - val_loss: 0.0117 - val_acc: 0.9958\n",
      "Epoch 6/50\n",
      "60000/60000 [==============================] - 22s 366us/step - loss: 0.0084 - acc: 0.9975 - val_loss: 0.0230 - val_acc: 0.9915\n",
      "Epoch 7/50\n",
      "60000/60000 [==============================] - 22s 362us/step - loss: 0.0092 - acc: 0.9975 - val_loss: 0.0123 - val_acc: 0.9952\n",
      "Epoch 8/50\n",
      "60000/60000 [==============================] - 22s 369us/step - loss: 0.0092 - acc: 0.9971 - val_loss: 0.0125 - val_acc: 0.9963\n",
      "Epoch 9/50\n",
      "60000/60000 [==============================] - 22s 374us/step - loss: 0.0059 - acc: 0.9982 - val_loss: 0.0113 - val_acc: 0.9963\n",
      "Epoch 10/50\n",
      "60000/60000 [==============================] - 22s 365us/step - loss: 0.0064 - acc: 0.9982 - val_loss: 0.0090 - val_acc: 0.9971\n",
      "Epoch 11/50\n",
      "60000/60000 [==============================] - 22s 365us/step - loss: 0.0045 - acc: 0.9986 - val_loss: 0.0112 - val_acc: 0.9963\n",
      "Epoch 12/50\n",
      "60000/60000 [==============================] - 22s 368us/step - loss: 0.0060 - acc: 0.9981 - val_loss: 0.0088 - val_acc: 0.9970\n",
      "Epoch 13/50\n",
      "60000/60000 [==============================] - 22s 367us/step - loss: 0.0035 - acc: 0.9990 - val_loss: 0.0106 - val_acc: 0.9962\n",
      "Epoch 14/50\n",
      "60000/60000 [==============================] - 21s 354us/step - loss: 0.0028 - acc: 0.9992 - val_loss: 0.0078 - val_acc: 0.9974\n",
      "Epoch 15/50\n",
      "60000/60000 [==============================] - 21s 344us/step - loss: 0.0024 - acc: 0.9992 - val_loss: 0.0123 - val_acc: 0.9967\n",
      "Epoch 16/50\n",
      "60000/60000 [==============================] - 23s 377us/step - loss: 0.0033 - acc: 0.9989 - val_loss: 0.0140 - val_acc: 0.9969\n",
      "Epoch 17/50\n",
      "60000/60000 [==============================] - 23s 376us/step - loss: 0.0028 - acc: 0.9993 - val_loss: 0.0099 - val_acc: 0.9972\n",
      "Epoch 18/50\n",
      "60000/60000 [==============================] - 23s 382us/step - loss: 0.0015 - acc: 0.9995 - val_loss: 0.0139 - val_acc: 0.9959\n",
      "Epoch 19/50\n",
      "60000/60000 [==============================] - 22s 370us/step - loss: 0.0027 - acc: 0.9992 - val_loss: 0.0115 - val_acc: 0.9968\n"
     ]
    }
   ],
   "source": [
    "for depth in [1, 2, 4, 8]:\n",
    "    model = Sequential()\n",
    "    model.add(Dense(1000, input_dim=d, activation='relu'))\n",
    "    model.add(BatchNormalization())\n",
    "    for _ in range(depth - 1):\n",
    "        model.add(Dense(1000, activation='relu'))\n",
    "        model.add(BatchNormalization())\n",
    "    model.add(Dense(2, activation='linear'))\n",
    "    model.compile(loss=output_fn,\n",
    "                  optimizer=keras.optimizers.Adam(lr=1e-4),\n",
    "                  metrics=['accuracy'])\n",
    "    model.fit(x_train, y_train_cat,\n",
    "              batch_size=50,\n",
    "              epochs=50,\n",
    "              verbose=1,\n",
    "              callbacks=[earlystop],\n",
    "              validation_data=(x_test, y_test_cat))\n",
    "    model.save_weights('{}weights_d{}_depth{}.h5'.format(path, d, depth))"
   ]
  },
  {
   "cell_type": "code",
   "execution_count": null,
   "metadata": {},
   "outputs": [],
   "source": []
  },
  {
   "cell_type": "code",
   "execution_count": null,
   "metadata": {},
   "outputs": [],
   "source": []
  },
  {
   "cell_type": "markdown",
   "metadata": {},
   "source": [
    "Changing width (40, 200, 1000, 5000)"
   ]
  },
  {
   "cell_type": "code",
   "execution_count": 19,
   "metadata": {
    "scrolled": true
   },
   "outputs": [
    {
     "name": "stdout",
     "output_type": "stream",
     "text": [
      "Train on 60000 samples, validate on 10000 samples\n",
      "Epoch 1/50\n",
      "60000/60000 [==============================] - 11s 180us/step - loss: 0.1699 - acc: 0.9320 - val_loss: 0.0332 - val_acc: 0.9924\n",
      "Epoch 2/50\n",
      "60000/60000 [==============================] - 9s 142us/step - loss: 0.0292 - acc: 0.9915 - val_loss: 0.0150 - val_acc: 0.9962\n",
      "Epoch 3/50\n",
      "60000/60000 [==============================] - 9s 150us/step - loss: 0.0174 - acc: 0.9949 - val_loss: 0.0104 - val_acc: 0.9970\n",
      "Epoch 4/50\n",
      "60000/60000 [==============================] - 9s 146us/step - loss: 0.0144 - acc: 0.9952 - val_loss: 0.0087 - val_acc: 0.9969\n",
      "Epoch 5/50\n",
      "60000/60000 [==============================] - 9s 148us/step - loss: 0.0120 - acc: 0.9959 - val_loss: 0.0079 - val_acc: 0.9973\n",
      "Epoch 6/50\n",
      "60000/60000 [==============================] - 9s 147us/step - loss: 0.0116 - acc: 0.9959 - val_loss: 0.0074 - val_acc: 0.9974\n",
      "Epoch 7/50\n",
      "60000/60000 [==============================] - 9s 150us/step - loss: 0.0104 - acc: 0.9966 - val_loss: 0.0072 - val_acc: 0.9973\n",
      "Epoch 8/50\n",
      "60000/60000 [==============================] - 9s 149us/step - loss: 0.0094 - acc: 0.9968 - val_loss: 0.0070 - val_acc: 0.9976\n",
      "Epoch 9/50\n",
      "60000/60000 [==============================] - 8s 139us/step - loss: 0.0091 - acc: 0.9969 - val_loss: 0.0069 - val_acc: 0.9976\n",
      "Epoch 10/50\n",
      "60000/60000 [==============================] - 9s 147us/step - loss: 0.0096 - acc: 0.9969 - val_loss: 0.0071 - val_acc: 0.9976\n",
      "Epoch 11/50\n",
      "60000/60000 [==============================] - 9s 152us/step - loss: 0.0086 - acc: 0.9969 - val_loss: 0.0069 - val_acc: 0.9976\n",
      "Epoch 12/50\n",
      "60000/60000 [==============================] - 9s 150us/step - loss: 0.0083 - acc: 0.9969 - val_loss: 0.0070 - val_acc: 0.9976\n",
      "Epoch 13/50\n",
      "60000/60000 [==============================] - 9s 153us/step - loss: 0.0081 - acc: 0.9972 - val_loss: 0.0070 - val_acc: 0.9976\n",
      "Epoch 14/50\n",
      "60000/60000 [==============================] - 9s 150us/step - loss: 0.0078 - acc: 0.9972 - val_loss: 0.0069 - val_acc: 0.9975\n",
      "Epoch 15/50\n",
      "60000/60000 [==============================] - 9s 146us/step - loss: 0.0080 - acc: 0.9972 - val_loss: 0.0069 - val_acc: 0.9975\n",
      "Epoch 16/50\n",
      "60000/60000 [==============================] - 9s 150us/step - loss: 0.0074 - acc: 0.9976 - val_loss: 0.0070 - val_acc: 0.9975\n",
      "Train on 60000 samples, validate on 10000 samples\n",
      "Epoch 1/50\n",
      "60000/60000 [==============================] - 11s 180us/step - loss: 0.0581 - acc: 0.9776 - val_loss: 0.0127 - val_acc: 0.9960\n",
      "Epoch 2/50\n",
      "60000/60000 [==============================] - 9s 149us/step - loss: 0.0129 - acc: 0.9956 - val_loss: 0.0098 - val_acc: 0.9968\n",
      "Epoch 3/50\n",
      "60000/60000 [==============================] - 9s 151us/step - loss: 0.0105 - acc: 0.9963 - val_loss: 0.0089 - val_acc: 0.9971\n",
      "Epoch 4/50\n",
      "60000/60000 [==============================] - 9s 154us/step - loss: 0.0090 - acc: 0.9971 - val_loss: 0.0087 - val_acc: 0.9971\n",
      "Epoch 5/50\n",
      "60000/60000 [==============================] - 9s 152us/step - loss: 0.0081 - acc: 0.9971 - val_loss: 0.0093 - val_acc: 0.9968\n",
      "Epoch 6/50\n",
      "60000/60000 [==============================] - 9s 149us/step - loss: 0.0063 - acc: 0.9978 - val_loss: 0.0085 - val_acc: 0.9976\n",
      "Epoch 7/50\n",
      "60000/60000 [==============================] - 9s 152us/step - loss: 0.0055 - acc: 0.9981 - val_loss: 0.0086 - val_acc: 0.9973\n",
      "Epoch 8/50\n",
      "60000/60000 [==============================] - 9s 150us/step - loss: 0.0050 - acc: 0.9984 - val_loss: 0.0078 - val_acc: 0.9973\n",
      "Epoch 9/50\n",
      "60000/60000 [==============================] - 9s 148us/step - loss: 0.0053 - acc: 0.9984 - val_loss: 0.0091 - val_acc: 0.9971\n",
      "Epoch 10/50\n",
      "60000/60000 [==============================] - 9s 150us/step - loss: 0.0042 - acc: 0.9985 - val_loss: 0.0085 - val_acc: 0.9973\n",
      "Epoch 11/50\n",
      "60000/60000 [==============================] - 9s 146us/step - loss: 0.0035 - acc: 0.9988 - val_loss: 0.0086 - val_acc: 0.9975\n",
      "Epoch 12/50\n",
      "60000/60000 [==============================] - 9s 148us/step - loss: 0.0037 - acc: 0.9988 - val_loss: 0.0083 - val_acc: 0.9972\n",
      "Epoch 13/50\n",
      "60000/60000 [==============================] - 9s 148us/step - loss: 0.0026 - acc: 0.9992 - val_loss: 0.0078 - val_acc: 0.9974\n",
      "Train on 60000 samples, validate on 10000 samples\n",
      "Epoch 1/50\n",
      "60000/60000 [==============================] - 11s 180us/step - loss: 0.0198 - acc: 0.9925 - val_loss: 0.0088 - val_acc: 0.9968\n",
      "Epoch 2/50\n",
      "60000/60000 [==============================] - 9s 150us/step - loss: 0.0095 - acc: 0.9966 - val_loss: 0.0101 - val_acc: 0.9967\n",
      "Epoch 3/50\n",
      "60000/60000 [==============================] - 9s 149us/step - loss: 0.0088 - acc: 0.9971 - val_loss: 0.0076 - val_acc: 0.9972\n",
      "Epoch 4/50\n",
      "60000/60000 [==============================] - 9s 144us/step - loss: 0.0058 - acc: 0.9978 - val_loss: 0.0083 - val_acc: 0.9971\n",
      "Epoch 5/50\n",
      "60000/60000 [==============================] - 9s 148us/step - loss: 0.0049 - acc: 0.9983 - val_loss: 0.0083 - val_acc: 0.9977\n",
      "Epoch 6/50\n",
      "60000/60000 [==============================] - 9s 146us/step - loss: 0.0056 - acc: 0.9978 - val_loss: 0.0100 - val_acc: 0.9967\n",
      "Epoch 7/50\n",
      "60000/60000 [==============================] - 9s 150us/step - loss: 0.0050 - acc: 0.9982 - val_loss: 0.0088 - val_acc: 0.9973\n",
      "Epoch 8/50\n",
      "60000/60000 [==============================] - 9s 150us/step - loss: 0.0032 - acc: 0.9987 - val_loss: 0.0104 - val_acc: 0.9969\n",
      "Train on 60000 samples, validate on 10000 samples\n",
      "Epoch 1/50\n",
      "60000/60000 [==============================] - 21s 344us/step - loss: 0.0480 - acc: 0.9926 - val_loss: 0.0256 - val_acc: 0.9959\n",
      "Epoch 2/50\n",
      "60000/60000 [==============================] - 18s 298us/step - loss: 0.0205 - acc: 0.9958 - val_loss: 0.0135 - val_acc: 0.9967\n",
      "Epoch 3/50\n",
      "60000/60000 [==============================] - 18s 302us/step - loss: 0.0127 - acc: 0.9962 - val_loss: 0.0126 - val_acc: 0.9966\n",
      "Epoch 4/50\n",
      "60000/60000 [==============================] - 18s 303us/step - loss: 0.0083 - acc: 0.9970 - val_loss: 0.0142 - val_acc: 0.9954\n",
      "Epoch 5/50\n",
      "60000/60000 [==============================] - 18s 302us/step - loss: 0.0087 - acc: 0.9970 - val_loss: 0.0093 - val_acc: 0.9968\n",
      "Epoch 6/50\n",
      "60000/60000 [==============================] - 18s 297us/step - loss: 0.0094 - acc: 0.9968 - val_loss: 0.0090 - val_acc: 0.9972\n",
      "Epoch 7/50\n",
      "60000/60000 [==============================] - 18s 300us/step - loss: 0.0063 - acc: 0.9977 - val_loss: 0.0104 - val_acc: 0.9966\n",
      "Epoch 8/50\n",
      "60000/60000 [==============================] - 18s 300us/step - loss: 0.0060 - acc: 0.9976 - val_loss: 0.0109 - val_acc: 0.9970\n",
      "Epoch 9/50\n",
      "60000/60000 [==============================] - 18s 296us/step - loss: 0.0066 - acc: 0.9977 - val_loss: 0.0119 - val_acc: 0.9962\n",
      "Epoch 10/50\n",
      "60000/60000 [==============================] - 18s 296us/step - loss: 0.0066 - acc: 0.9977 - val_loss: 0.0120 - val_acc: 0.9965\n",
      "Epoch 11/50\n",
      "60000/60000 [==============================] - 18s 294us/step - loss: 0.0062 - acc: 0.9976 - val_loss: 0.0090 - val_acc: 0.9972\n",
      "Epoch 12/50\n",
      "60000/60000 [==============================] - 18s 295us/step - loss: 0.0052 - acc: 0.9982 - val_loss: 0.0102 - val_acc: 0.9971\n",
      "Epoch 13/50\n",
      "60000/60000 [==============================] - 18s 298us/step - loss: 0.0047 - acc: 0.9984 - val_loss: 0.0138 - val_acc: 0.9964\n",
      "Epoch 14/50\n",
      "60000/60000 [==============================] - 18s 294us/step - loss: 0.0050 - acc: 0.9985 - val_loss: 0.0117 - val_acc: 0.9963\n",
      "Epoch 15/50\n",
      "60000/60000 [==============================] - 18s 300us/step - loss: 0.0052 - acc: 0.9983 - val_loss: 0.0124 - val_acc: 0.9964\n",
      "Epoch 16/50\n",
      "60000/60000 [==============================] - 18s 299us/step - loss: 0.0032 - acc: 0.9988 - val_loss: 0.0132 - val_acc: 0.9963\n"
     ]
    }
   ],
   "source": [
    "for width in [40, 200, 1000, 5000]:\n",
    "    model = Sequential()\n",
    "    model.add(Dense(width, input_dim=d, activation='relu'))\n",
    "    model.add(BatchNormalization())\n",
    "    model.add(Dense(width, activation='relu'))\n",
    "    model.add(BatchNormalization())\n",
    "    model.add(Dense(2, activation='linear'))\n",
    "    model.compile(loss=output_fn,\n",
    "                  optimizer=keras.optimizers.Adam(lr=1e-4),\n",
    "                  metrics=['accuracy'])\n",
    "    model.fit(x_train, y_train_cat,\n",
    "              batch_size=50,\n",
    "              epochs=50,\n",
    "              verbose=1,\n",
    "              callbacks=[earlystop],\n",
    "              validation_data=(x_test, y_test_cat))\n",
    "    model.save_weights('{}weights_d{}_width{}.h5'.format(path, d, width))"
   ]
  },
  {
   "cell_type": "code",
   "execution_count": 20,
   "metadata": {},
   "outputs": [
    {
     "name": "stdout",
     "output_type": "stream",
     "text": [
      "10000/10000 [==============================] - 1s 79us/step\n"
     ]
    },
    {
     "data": {
      "text/plain": [
       "[0.013215170873210053, 0.9963]"
      ]
     },
     "execution_count": 20,
     "metadata": {},
     "output_type": "execute_result"
    }
   ],
   "source": [
    "model.evaluate(x_test, y_test_cat)"
   ]
  },
  {
   "cell_type": "code",
   "execution_count": null,
   "metadata": {},
   "outputs": [],
   "source": []
  },
  {
   "cell_type": "markdown",
   "metadata": {},
   "source": [
    "Training set size (0.01, 0.1, 0.5, 2, 5)"
   ]
  },
  {
   "cell_type": "code",
   "execution_count": 173,
   "metadata": {},
   "outputs": [],
   "source": [
    "path = './tmp/gauss/'"
   ]
  },
  {
   "cell_type": "code",
   "execution_count": 167,
   "metadata": {},
   "outputs": [],
   "source": [
    "model1 = Sequential()\n",
    "model1.add(Dense(1000, input_dim=d, activation='relu'))\n",
    "model1.add(BatchNormalization())\n",
    "model1.add(Dense(1000, activation='relu'))\n",
    "model1.add(BatchNormalization())\n",
    "model1.add(Dense(2, activation='linear'))\n",
    "model1.compile(loss=output_fn,\n",
    "              optimizer=keras.optimizers.Adam(lr=1e-4),\n",
    "              metrics=['accuracy'])"
   ]
  },
  {
   "cell_type": "code",
   "execution_count": 168,
   "metadata": {},
   "outputs": [],
   "source": [
    "model2 = Sequential()\n",
    "model2.add(Dense(2000, input_dim=d, activation='relu'))\n",
    "model2.add(BatchNormalization())\n",
    "for _ in range(4):\n",
    "    model2.add(Dense(2000, activation='relu'))\n",
    "    model2.add(BatchNormalization())\n",
    "model2.add(Dense(2, activation='linear'))\n",
    "model2.compile(loss=output_fn,\n",
    "              optimizer=keras.optimizers.Adam(lr=1e-4),\n",
    "              metrics=['accuracy'])"
   ]
  },
  {
   "cell_type": "code",
   "execution_count": 12,
   "metadata": {
    "scrolled": true
   },
   "outputs": [
    {
     "name": "stderr",
     "output_type": "stream",
     "text": [
      "/home/chawins/.conda/envs/tsa3/lib/python3.6/site-packages/sklearn/model_selection/_split.py:2026: FutureWarning: From version 0.21, test_size will always complement train_size unless both are specified.\n",
      "  FutureWarning)\n"
     ]
    },
    {
     "name": "stdout",
     "output_type": "stream",
     "text": [
      "Train on 6000 samples, validate on 10000 samples\n",
      "Epoch 1/50\n",
      "6000/6000 [==============================] - 4s 717us/step - loss: 0.0901 - acc: 0.9630 - val_loss: 0.0276 - val_acc: 0.9903\n",
      "Epoch 2/50\n",
      "6000/6000 [==============================] - 2s 302us/step - loss: 0.0088 - acc: 0.9967 - val_loss: 0.0208 - val_acc: 0.9930\n",
      "Epoch 3/50\n",
      "6000/6000 [==============================] - 2s 297us/step - loss: 0.0047 - acc: 0.9992 - val_loss: 0.0214 - val_acc: 0.9930\n",
      "Epoch 4/50\n",
      "6000/6000 [==============================] - 2s 288us/step - loss: 0.0062 - acc: 0.9973 - val_loss: 0.0305 - val_acc: 0.9906\n",
      "Epoch 5/50\n",
      "6000/6000 [==============================] - 2s 316us/step - loss: 0.0062 - acc: 0.9982 - val_loss: 0.0288 - val_acc: 0.9920\n",
      "Epoch 6/50\n",
      "6000/6000 [==============================] - 2s 291us/step - loss: 0.0023 - acc: 0.9990 - val_loss: 0.0299 - val_acc: 0.9926\n",
      "Epoch 7/50\n",
      "6000/6000 [==============================] - 2s 296us/step - loss: 0.0019 - acc: 0.9992 - val_loss: 0.0289 - val_acc: 0.9920\n",
      "10000/10000 [==============================] - 1s 77us/step\n",
      "[0.02893858062393292, 0.992]\n"
     ]
    }
   ],
   "source": [
    "for r in [0.1]:\n",
    "    \n",
    "    model = build_dnn_wd(d, 1600, 4) \n",
    "    x_t, _, y_t, _ = train_test_split(x_train, y_train, train_size=r)\n",
    "    y_t_cat = keras.utils.to_categorical(y_t)\n",
    "    \n",
    "    model.fit(x_t, y_t_cat,\n",
    "               batch_size=50,\n",
    "               epochs=50,\n",
    "               verbose=1,\n",
    "               callbacks=[earlystop],\n",
    "               validation_data=(x_test, y_test_cat))\n",
    "    #model.save_weights('{}weights_d{}_L_train{}.h5'.format(path, d, r))\n",
    "    print(model.evaluate(x_test, y_test_cat))"
   ]
  },
  {
   "cell_type": "code",
   "execution_count": 190,
   "metadata": {},
   "outputs": [],
   "source": [
    "model.load_weights('{}weights_d{}_L_train{}.h5'.format(path, d, 0.01))"
   ]
  },
  {
   "cell_type": "code",
   "execution_count": 215,
   "metadata": {},
   "outputs": [
    {
     "name": "stdout",
     "output_type": "stream",
     "text": [
      "200/200 [==============================] - 0s 134us/step\n",
      "0.95\n",
      "200/200 [==============================] - 0s 116us/step\n",
      "0.88\n",
      "200/200 [==============================] - 0s 104us/step\n",
      "0.8\n",
      "200/200 [==============================] - 0s 114us/step\n",
      "0.635\n",
      "200/200 [==============================] - 0s 103us/step\n",
      "0.435\n",
      "200/200 [==============================] - 0s 102us/step\n",
      "0.225\n",
      "200/200 [==============================] - 0s 97us/step\n",
      "0.135\n",
      "200/200 [==============================] - 0s 100us/step\n",
      "0.045\n",
      "200/200 [==============================] - 0s 102us/step\n",
      "0.015\n",
      "200/200 [==============================] - 0s 102us/step\n",
      "0.0\n"
     ]
    }
   ],
   "source": [
    "steps = np.array(range(10, 110, 10))\n",
    "for n_step in steps:\n",
    "    x_adv = PGD(model, x_test[:200], y_test[:200], grad_fn=None, norm=\"inf\",\n",
    "                n_step=n_step, step_size=0.01, target=False, init_rnd=0.)\n",
    "    score = model.evaluate(x_adv, y_test_cat[:200])\n",
    "    print(score[1])"
   ]
  },
  {
   "cell_type": "code",
   "execution_count": null,
   "metadata": {},
   "outputs": [
    {
     "name": "stdout",
     "output_type": "stream",
     "text": [
      "200/200 [==============================] - 0s 91us/step\n",
      "0.995\n",
      "200/200 [==============================] - 0s 109us/step\n",
      "0.985\n",
      "200/200 [==============================] - 0s 109us/step\n",
      "0.86\n",
      "200/200 [==============================] - 0s 102us/step\n",
      "0.69\n",
      "200/200 [==============================] - 0s 100us/step\n",
      "0.52\n",
      "200/200 [==============================] - 0s 110us/step\n",
      "0.345\n",
      "200/200 [==============================] - 0s 107us/step\n",
      "0.195\n",
      "200/200 [==============================] - 0s 101us/step\n",
      "0.11\n"
     ]
    }
   ],
   "source": [
    "steps = np.array(range(10, 110, 10))\n",
    "for n_step in steps:\n",
    "    x_adv = PGD(model, x_t[:200], y_t[:200], grad_fn=None, norm=\"inf\",\n",
    "                n_step=n_step, step_size=0.01, target=False, init_rnd=0.)\n",
    "    score = model.evaluate(x_adv, y_t_cat[:200])\n",
    "    print(score[1])"
   ]
  },
  {
   "cell_type": "code",
   "execution_count": null,
   "metadata": {},
   "outputs": [],
   "source": [
    "[0.9893, 0.9541, 0.8666, 0.7254, 0.5238, 0.319, 0.161, 0.066, 0.0188, 0.0045]"
   ]
  },
  {
   "cell_type": "code",
   "execution_count": 211,
   "metadata": {},
   "outputs": [
    {
     "name": "stdout",
     "output_type": "stream",
     "text": [
      "_________________________________________________________________\n",
      "Layer (type)                 Output Shape              Param #   \n",
      "=================================================================\n",
      "dense_81 (Dense)             (None, 1600)              801600    \n",
      "_________________________________________________________________\n",
      "batch_normalization_60 (Batc (None, 1600)              6400      \n",
      "_________________________________________________________________\n",
      "dense_82 (Dense)             (None, 1600)              2561600   \n",
      "_________________________________________________________________\n",
      "batch_normalization_61 (Batc (None, 1600)              6400      \n",
      "_________________________________________________________________\n",
      "dense_83 (Dense)             (None, 1600)              2561600   \n",
      "_________________________________________________________________\n",
      "batch_normalization_62 (Batc (None, 1600)              6400      \n",
      "_________________________________________________________________\n",
      "dense_84 (Dense)             (None, 1600)              2561600   \n",
      "_________________________________________________________________\n",
      "batch_normalization_63 (Batc (None, 1600)              6400      \n",
      "_________________________________________________________________\n",
      "dense_85 (Dense)             (None, 2)                 3202      \n",
      "=================================================================\n",
      "Total params: 8,515,202\n",
      "Trainable params: 8,502,402\n",
      "Non-trainable params: 12,800\n",
      "_________________________________________________________________\n"
     ]
    }
   ],
   "source": [
    "model.summary()"
   ]
  },
  {
   "cell_type": "markdown",
   "metadata": {},
   "source": [
    "Regularization"
   ]
  },
  {
   "cell_type": "code",
   "execution_count": null,
   "metadata": {},
   "outputs": [],
   "source": []
  },
  {
   "cell_type": "code",
   "execution_count": null,
   "metadata": {},
   "outputs": [],
   "source": []
  },
  {
   "cell_type": "markdown",
   "metadata": {},
   "source": [
    "## Uniform spheres"
   ]
  },
  {
   "cell_type": "code",
   "execution_count": 21,
   "metadata": {},
   "outputs": [
    {
     "name": "stderr",
     "output_type": "stream",
     "text": [
      "/home/chawins/.conda/envs/tsa3/lib/python3.6/site-packages/sklearn/model_selection/_split.py:2026: FutureWarning: From version 0.21, test_size will always complement train_size unless both are specified.\n",
      "  FutureWarning)\n"
     ]
    }
   ],
   "source": [
    "path = './data/sphere/'\n",
    "n = 70000\n",
    "n_train = 60000\n",
    "d = 500\n",
    "\n",
    "r = 1\n",
    "R = 1.3\n",
    "x = np.random.normal(loc=0, scale=1, size=(n, d))\n",
    "x /= np.linalg.norm(x, axis=1, keepdims=True)\n",
    "x[:n//2] *= r\n",
    "x[n//2:] *= R\n",
    "y = np.concatenate(([0] * (n//2), [1] * (n//2)))\n",
    "x_train, x_test, y_train, y_test = train_test_split(\n",
    "    x, y, train_size=n_train)"
   ]
  },
  {
   "cell_type": "code",
   "execution_count": 32,
   "metadata": {},
   "outputs": [],
   "source": [
    "pickle.dump([x_train, y_train, x_test, y_test], \n",
    "            open('{}sphere_d{}.p'.format(path, d), 'wb'), protocol=4)"
   ]
  },
  {
   "cell_type": "code",
   "execution_count": 34,
   "metadata": {},
   "outputs": [],
   "source": [
    "data_path = './data/sphere/'\n",
    "path = './tmp/sphere/'\n",
    "d = 500\n",
    "x_train, y_train, x_test, y_test = pickle.load(\n",
    "    open('{}sphere_d{}.p'.format(data_path, d), 'rb'))\n",
    "y_train_cat = keras.utils.to_categorical(y_train)\n",
    "y_test_cat = keras.utils.to_categorical(y_test)"
   ]
  },
  {
   "cell_type": "code",
   "execution_count": 40,
   "metadata": {},
   "outputs": [],
   "source": [
    "model = build_dnn_baseline(d)"
   ]
  },
  {
   "cell_type": "code",
   "execution_count": null,
   "metadata": {},
   "outputs": [
    {
     "name": "stdout",
     "output_type": "stream",
     "text": [
      "Train on 60000 samples, validate on 10000 samples\n",
      "Epoch 1/50\n",
      "31600/60000 [==============>...............] - ETA: 3s - loss: 0.0025 - acc: 0.9992"
     ]
    }
   ],
   "source": [
    "model.fit(x_train, y_train_cat,\n",
    "          batch_size=50,\n",
    "          epochs=50,\n",
    "          verbose=1,\n",
    "          callbacks=[earlystop, checkpoint],\n",
    "          validation_data=(x_test, y_test_cat))\n",
    "model = load_model('./tmp.h5')\n",
    "model.evaluate(x_train, y_train_cat)\n",
    "model.evaluate(x_test, y_test_cat)"
   ]
  },
  {
   "cell_type": "code",
   "execution_count": 42,
   "metadata": {},
   "outputs": [],
   "source": [
    "checkpoint = keras.callbacks.ModelCheckpoint(\n",
    "    './tmp.h5', save_best_only=True, period=1)"
   ]
  },
  {
   "cell_type": "code",
   "execution_count": null,
   "metadata": {},
   "outputs": [],
   "source": []
  }
 ],
 "metadata": {
  "kernelspec": {
   "display_name": "Python 3",
   "language": "python",
   "name": "python3"
  },
  "language_info": {
   "codemirror_mode": {
    "name": "ipython",
    "version": 3
   },
   "file_extension": ".py",
   "mimetype": "text/x-python",
   "name": "python",
   "nbconvert_exporter": "python",
   "pygments_lexer": "ipython3",
   "version": "3.6.2"
  }
 },
 "nbformat": 4,
 "nbformat_minor": 2
}
