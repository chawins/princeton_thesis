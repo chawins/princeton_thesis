{
 "cells": [
  {
   "cell_type": "code",
   "execution_count": 1,
   "metadata": {},
   "outputs": [],
   "source": [
    "%matplotlib inline\n",
    "\n",
    "%reload_ext autoreload\n",
    "%autoreload 2"
   ]
  },
  {
   "cell_type": "code",
   "execution_count": 2,
   "metadata": {},
   "outputs": [],
   "source": [
    "# Specify visible cuda device\n",
    "import os\n",
    "os.environ[\"CUDA_DEVICE_ORDER\"] = \"PCI_BUS_ID\"\n",
    "os.environ[\"CUDA_VISIBLE_DEVICES\"] = \"7\""
   ]
  },
  {
   "cell_type": "code",
   "execution_count": 3,
   "metadata": {},
   "outputs": [
    {
     "name": "stderr",
     "output_type": "stream",
     "text": [
      "/home/chawins/.conda/envs/tsa3/lib/python3.6/site-packages/h5py/__init__.py:34: FutureWarning: Conversion of the second argument of issubdtype from `float` to `np.floating` is deprecated. In future, it will be treated as `np.float64 == np.dtype(float).type`.\n",
      "  from ._conv import register_converters as _register_converters\n",
      "Using TensorFlow backend.\n"
     ]
    },
    {
     "name": "stdout",
     "output_type": "stream",
     "text": [
      "WARNING:tensorflow:From /home/chawins/.conda/envs/tsa3/lib/python3.6/site-packages/tensorflow/contrib/learn/python/learn/datasets/base.py:198: retry (from tensorflow.contrib.learn.python.learn.datasets.base) is deprecated and will be removed in a future version.\n",
      "Instructions for updating:\n",
      "Use the retry module or similar alternatives.\n"
     ]
    }
   ],
   "source": [
    "from parameters import *\n",
    "from lib.utils import *\n",
    "from lib.attacks import *\n",
    "from lib.keras_utils import *\n",
    "from lib.OptCarlini import *\n",
    "\n",
    "import numpy as np\n",
    "import tensorflow as tf\n",
    "from sklearn.model_selection import train_test_split\n",
    "from keras import regularizers"
   ]
  },
  {
   "cell_type": "code",
   "execution_count": 4,
   "metadata": {},
   "outputs": [],
   "source": [
    "x_train, y_train, x_test, y_test = load_dataset_mnist()\n",
    "\n",
    "y_train_cat = keras.utils.to_categorical(y_train)\n",
    "y_test_cat = keras.utils.to_categorical(y_test)"
   ]
  },
  {
   "cell_type": "markdown",
   "metadata": {},
   "source": [
    "Plotting setup"
   ]
  },
  {
   "cell_type": "code",
   "execution_count": 9,
   "metadata": {},
   "outputs": [],
   "source": [
    "import matplotlib as mpl\n",
    "mpl.rcParams['axes.labelsize'] = 'x-large'\n",
    "mpl.rcParams['xtick.labelsize'] = 'x-large'\n",
    "mpl.rcParams['ytick.labelsize'] = 'x-large'\n",
    "mpl.rcParams['legend.fontsize'] = 'x-large'\n",
    "mpl.rcParams['lines.linewidth'] = 4\n",
    "mpl.rcParams['lines.markersize'] = 12\n",
    "mpl.rcParams['font.family'] = 'serif'\n",
    "mpl.rcParams['legend.frameon'] = False\n",
    "\n",
    "import itertools\n",
    "marker = itertools.cycle(('o', 's', '^', 'D', 'v', 'X', 'd', '+'))"
   ]
  },
  {
   "cell_type": "markdown",
   "metadata": {},
   "source": [
    "### 2-class vs N-class DNN"
   ]
  },
  {
   "cell_type": "code",
   "execution_count": 98,
   "metadata": {
    "scrolled": true
   },
   "outputs": [
    {
     "name": "stdout",
     "output_type": "stream",
     "text": [
      "Train on 12396 samples, validate on 2038 samples\n",
      "Epoch 1/10\n",
      "12396/12396 [==============================] - 2s 130us/step - loss: 0.0945 - acc: 0.9674 - val_loss: 0.0473 - val_acc: 0.9823\n",
      "Epoch 2/10\n",
      "12396/12396 [==============================] - 1s 74us/step - loss: 0.0321 - acc: 0.9894 - val_loss: 0.0437 - val_acc: 0.9848\n",
      "Epoch 3/10\n",
      "12396/12396 [==============================] - 1s 74us/step - loss: 0.0205 - acc: 0.9935 - val_loss: 0.0165 - val_acc: 0.9926\n",
      "Epoch 4/10\n",
      "12396/12396 [==============================] - 1s 73us/step - loss: 0.0159 - acc: 0.9948 - val_loss: 0.0139 - val_acc: 0.9941\n",
      "Epoch 5/10\n",
      "12396/12396 [==============================] - 1s 73us/step - loss: 0.0107 - acc: 0.9966 - val_loss: 0.0121 - val_acc: 0.9946\n",
      "Epoch 6/10\n",
      "12396/12396 [==============================] - 1s 73us/step - loss: 0.0091 - acc: 0.9969 - val_loss: 0.0083 - val_acc: 0.9980\n",
      "Epoch 7/10\n",
      "12396/12396 [==============================] - 1s 69us/step - loss: 0.0074 - acc: 0.9975 - val_loss: 0.0106 - val_acc: 0.9951\n",
      "Epoch 8/10\n",
      "12396/12396 [==============================] - 1s 70us/step - loss: 0.0066 - acc: 0.9980 - val_loss: 0.0085 - val_acc: 0.9971\n",
      "Epoch 9/10\n",
      "12396/12396 [==============================] - 1s 74us/step - loss: 0.0057 - acc: 0.9985 - val_loss: 0.0080 - val_acc: 0.9980\n",
      "Epoch 10/10\n",
      "12396/12396 [==============================] - 1s 73us/step - loss: 0.0043 - acc: 0.9988 - val_loss: 0.0074 - val_acc: 0.9980\n",
      "[0.007423889554842519, 0.9980372914622179]\n"
     ]
    }
   ],
   "source": [
    "a = 3\n",
    "b = 7\n",
    "\n",
    "x_train_ab = x_train[[y == a or y == b for y in y_train]]\n",
    "y_train_ab = y_train[[y == a or y == b for y in y_train]]\n",
    "y_train_ab[y_train_ab == a] = 0\n",
    "y_train_ab[y_train_ab == b] = 1\n",
    "y_train_ab_cat = keras.utils.to_categorical(y_train_ab)\n",
    "\n",
    "x_test_ab = x_test[[y == a or y == b for y in y_test]]\n",
    "y_test_ab = y_test[[y == a or y == b for y in y_test]]\n",
    "y_test_ab[y_test_ab == a] = 0\n",
    "y_test_ab[y_test_ab == b] = 1\n",
    "y_test_ab_cat = keras.utils.to_categorical(y_test_ab)\n",
    "\n",
    "model = build_cnn_mnist_2cls()\n",
    "model.fit(x_train_ab, y_train_ab_cat,\n",
    "          batch_size=128,\n",
    "          epochs=10,\n",
    "          verbose=1,\n",
    "          validation_data=(x_test_ab, y_test_ab_cat))\n",
    "score = model.evaluate(x_test_ab, y_test_ab_cat, verbose=0)\n",
    "print(score)"
   ]
  },
  {
   "cell_type": "code",
   "execution_count": 114,
   "metadata": {},
   "outputs": [
    {
     "name": "stdout",
     "output_type": "stream",
     "text": [
      "Finished 200 samples in 4.26s.\n",
      "Finished 400 samples in 3.74s.\n",
      "Finished 600 samples in 3.84s.\n",
      "Finished 800 samples in 3.85s.\n"
     ]
    }
   ],
   "source": [
    "x_adv = PGD(model, x_test_ab[:1000], y_test_ab[:1000], grad_fn=None, norm=\"inf\", \n",
    "            n_step=10, step_size=0.01, target=False, init_rnd=0.1)"
   ]
  },
  {
   "cell_type": "code",
   "execution_count": 67,
   "metadata": {},
   "outputs": [
    {
     "data": {
      "text/plain": [
       "<matplotlib.image.AxesImage at 0x7f8c0c771358>"
      ]
     },
     "execution_count": 67,
     "metadata": {},
     "output_type": "execute_result"
    },
    {
     "data": {
      "image/png": "[encoded data removed]",
      "text/plain": [
       "<Figure size 432x288 with 1 Axes>"
      ]
     },
     "metadata": {},
     "output_type": "display_data"
    }
   ],
   "source": [
    "plt.imshow(x_adv[1].reshape(28,28))"
   ]
  },
  {
   "cell_type": "code",
   "execution_count": 115,
   "metadata": {},
   "outputs": [
    {
     "name": "stdout",
     "output_type": "stream",
     "text": [
      "1000/1000 [==============================] - 0s 73us/step\n"
     ]
    },
    {
     "data": {
      "text/plain": [
       "[0.672608332157135, 0.807]"
      ]
     },
     "execution_count": 115,
     "metadata": {},
     "output_type": "execute_result"
    }
   ],
   "source": [
    "model.evaluate(x_adv, y_test_ab_cat[:1000])"
   ]
  },
  {
   "cell_type": "code",
   "execution_count": 14,
   "metadata": {},
   "outputs": [],
   "source": [
    "model = build_cnn_mnist()\n",
    "model.load_weights('./tmp/weights/mnist_cnn_smxe.h5')"
   ]
  },
  {
   "cell_type": "code",
   "execution_count": 94,
   "metadata": {
    "scrolled": true
   },
   "outputs": [
    {
     "name": "stdout",
     "output_type": "stream",
     "text": [
      "Finished 200 samples in 12.16s.\n",
      "Finished 400 samples in 11.57s.\n",
      "Finished 600 samples in 11.60s.\n",
      "Finished 800 samples in 11.87s.\n"
     ]
    }
   ],
   "source": [
    "acc = []\n",
    "for n_step in range(5, 55, 5):\n",
    "    x_adv = PGD(model, x_test, y_test, grad_fn=None, norm=\"inf\", \n",
    "                n_step=n_step, step_size=0.01, target=False, init_rnd=0.)\n",
    "    acc.append(model.evaluate(x_adv, y_test_ab_cat, verbose=0))"
   ]
  },
  {
   "cell_type": "code",
   "execution_count": 95,
   "metadata": {},
   "outputs": [
    {
     "name": "stdout",
     "output_type": "stream",
     "text": [
      "1000/1000 [==============================] - 0s 76us/step\n"
     ]
    },
    {
     "data": {
      "text/plain": [
       "[4.454765869140625, 0.1]"
      ]
     },
     "execution_count": 95,
     "metadata": {},
     "output_type": "execute_result"
    }
   ],
   "source": [
    "model.evaluate(x_adv, y_test_cat[:1000])"
   ]
  },
  {
   "cell_type": "code",
   "execution_count": 96,
   "metadata": {},
   "outputs": [
    {
     "data": {
      "text/plain": [
       "0.30000004"
      ]
     },
     "execution_count": 96,
     "metadata": {},
     "output_type": "execute_result"
    }
   ],
   "source": [
    "np.mean(np.linalg.norm((x_adv - x_test[:1000]).reshape(-1, 784), axis=-1, ord=np.inf))"
   ]
  },
  {
   "cell_type": "code",
   "execution_count": 97,
   "metadata": {},
   "outputs": [
    {
     "data": {
      "text/plain": [
       "<matplotlib.image.AxesImage at 0x7f8b981c9a58>"
      ]
     },
     "execution_count": 97,
     "metadata": {},
     "output_type": "execute_result"
    },
    {
     "data": {
      "image/png": "[encoded data removed]",
      "text/plain": [
       "<Figure size 432x288 with 1 Axes>"
      ]
     },
     "metadata": {},
     "output_type": "display_data"
    }
   ],
   "source": [
    "plt.imshow(x_adv[0].reshape(28,28))"
   ]
  },
  {
   "cell_type": "code",
   "execution_count": 161,
   "metadata": {},
   "outputs": [],
   "source": [
    "path = './tmp/num_class_experiment/'\n",
    "# clean_acc = pickle.load(open(path + 'clean_acc.p', 'rb'))\n",
    "adv_acc = pickle.load(open(path + 'adv_acc.p', 'rb'))"
   ]
  },
  {
   "cell_type": "code",
   "execution_count": 162,
   "metadata": {},
   "outputs": [],
   "source": [
    "acc = np.zeros(10)\n",
    "for a in adv_acc:\n",
    "    for i in range(10):\n",
    "        acc[i] += a[i][1]\n",
    "acc /= len(adv_acc)"
   ]
  },
  {
   "cell_type": "code",
   "execution_count": 165,
   "metadata": {},
   "outputs": [],
   "source": [
    "adv_acc = pickle.load(open(path + '10cls_acc.p', 'rb'))"
   ]
  },
  {
   "cell_type": "code",
   "execution_count": 166,
   "metadata": {},
   "outputs": [
    {
     "data": {
      "text/plain": [
       "[<matplotlib.lines.Line2D at 0x7fc70d4ac358>]"
      ]
     },
     "execution_count": 166,
     "metadata": {},
     "output_type": "execute_result"
    },
    {
     "data": {
      "image/png": "[encoded data removed]",
      "text/plain": [
       "<Figure size 432x288 with 1 Axes>"
      ]
     },
     "metadata": {},
     "output_type": "display_data"
    }
   ],
   "source": [
    "eps = np.arange(0.05, 0.55, 0.05)\n",
    "plt.plot(eps, acc)\n",
    "plt.plot(eps, [x[1] for x in adv_acc])"
   ]
  },
  {
   "cell_type": "code",
   "execution_count": 160,
   "metadata": {},
   "outputs": [
    {
     "data": {
      "text/plain": [
       "[<matplotlib.lines.Line2D at 0x7fc70d49c940>]"
      ]
     },
     "execution_count": 160,
     "metadata": {},
     "output_type": "execute_result"
    },
    {
     "data": {
      "image/png": "[encoded data removed]",
      "text/plain": [
       "<Figure size 432x288 with 1 Axes>"
      ]
     },
     "metadata": {},
     "output_type": "display_data"
    }
   ],
   "source": [
    "eps = np.arange(0.05, 0.55, 0.05)\n",
    "plt.plot(eps, [x[1] for x in adv_acc])"
   ]
  },
  {
   "cell_type": "markdown",
   "metadata": {},
   "source": [
    "--- \n",
    "## Gaussian Ball Experiment\n",
    "\n",
    "Generate dataset"
   ]
  },
  {
   "cell_type": "code",
   "execution_count": 80,
   "metadata": {},
   "outputs": [
    {
     "name": "stderr",
     "output_type": "stream",
     "text": [
      "/home/chawins/.conda/envs/tsa3/lib/python3.6/site-packages/sklearn/model_selection/_split.py:2026: FutureWarning: From version 0.21, test_size will always complement train_size unless both are specified.\n",
      "  FutureWarning)\n"
     ]
    }
   ],
   "source": [
    "path = './data/gauss/'\n",
    "n = 70000\n",
    "n_train = 60000\n",
    "d = 500\n",
    "\n",
    "mean_a = np.zeros(d)\n",
    "mean_b = np.ones(d)\n",
    "std = np.sqrt(d) / 6.  # touching at 3 std\n",
    "x_a = np.random.normal(loc=mean_a, scale=std, \n",
    "                       size=(int(n/2), d))\n",
    "x_b = np.random.normal(loc=mean_b, scale=std, \n",
    "                       size=(int(n/2), d))\n",
    "x = np.concatenate([x_a, x_b])\n",
    "y = np.concatenate(([0] * int(n/2), [1] * int(n/2)))\n",
    "x_train, x_test, y_train, y_test = train_test_split(\n",
    "    x, y, train_size=n_train)"
   ]
  },
  {
   "cell_type": "code",
   "execution_count": 6,
   "metadata": {},
   "outputs": [],
   "source": [
    "pickle.dump([x_train, y_train, x_test, y_test], \n",
    "            open('{}d{}.p'.format(path, d), 'wb'), protocol=4)"
   ]
  },
  {
   "cell_type": "markdown",
   "metadata": {},
   "source": [
    "Load dataset"
   ]
  },
  {
   "cell_type": "code",
   "execution_count": 5,
   "metadata": {},
   "outputs": [],
   "source": [
    "data_path = './data/gauss/'\n",
    "path = './tmp/gauss/'\n",
    "d = 500\n",
    "x_train, y_train, x_test, y_test = pickle.load(\n",
    "    open('{}d{}.p'.format(data_path, d), 'rb'))\n",
    "y_train_cat = keras.utils.to_categorical(y_train)\n",
    "y_test_cat = keras.utils.to_categorical(y_test)"
   ]
  },
  {
   "cell_type": "code",
   "execution_count": 95,
   "metadata": {},
   "outputs": [],
   "source": [
    "model_100 = build_dnn_baseline(100)\n",
    "model_500 = build_dnn_baseline(500)"
   ]
  },
  {
   "cell_type": "code",
   "execution_count": 44,
   "metadata": {
    "scrolled": true
   },
   "outputs": [
    {
     "name": "stdout",
     "output_type": "stream",
     "text": [
      "Train on 5000 samples, validate on 10000 samples\n",
      "Epoch 1/10\n",
      "5000/5000 [==============================] - 2s 408us/step - loss: 0.1357 - acc: 0.9438 - val_loss: 0.0273 - val_acc: 0.9908\n",
      "Epoch 2/10\n",
      "5000/5000 [==============================] - 1s 228us/step - loss: 0.0100 - acc: 0.9982 - val_loss: 0.0198 - val_acc: 0.9932\n",
      "Epoch 3/10\n",
      "5000/5000 [==============================] - 1s 216us/step - loss: 0.0067 - acc: 0.9986 - val_loss: 0.0172 - val_acc: 0.9942\n",
      "Epoch 4/10\n",
      "5000/5000 [==============================] - 1s 221us/step - loss: 0.0037 - acc: 0.9998 - val_loss: 0.0151 - val_acc: 0.9948\n",
      "Epoch 5/10\n",
      "5000/5000 [==============================] - 1s 213us/step - loss: 0.0028 - acc: 1.0000 - val_loss: 0.0137 - val_acc: 0.9949\n",
      "Epoch 6/10\n",
      "5000/5000 [==============================] - 1s 220us/step - loss: 0.0013 - acc: 1.0000 - val_loss: 0.0129 - val_acc: 0.9951\n",
      "Epoch 7/10\n",
      "5000/5000 [==============================] - 1s 222us/step - loss: 0.0012 - acc: 1.0000 - val_loss: 0.0123 - val_acc: 0.9953\n",
      "Epoch 8/10\n",
      "5000/5000 [==============================] - 1s 229us/step - loss: 0.0012 - acc: 1.0000 - val_loss: 0.0116 - val_acc: 0.9956\n",
      "Epoch 9/10\n",
      "5000/5000 [==============================] - 1s 219us/step - loss: 0.0010 - acc: 1.0000 - val_loss: 0.0113 - val_acc: 0.9958\n",
      "Epoch 10/10\n",
      "5000/5000 [==============================] - 1s 223us/step - loss: 7.4453e-04 - acc: 1.0000 - val_loss: 0.0109 - val_acc: 0.9960\n"
     ]
    },
    {
     "data": {
      "text/plain": [
       "<keras.callbacks.History at 0x7f3ed238f2e8>"
      ]
     },
     "execution_count": 44,
     "metadata": {},
     "output_type": "execute_result"
    }
   ],
   "source": [
    "model.fit(x_train[:5000], y_train_cat[:5000],\n",
    "          batch_size=50,\n",
    "          epochs=10,\n",
    "          verbose=1,\n",
    "          validation_data=(x_test, y_test_cat))"
   ]
  },
  {
   "cell_type": "code",
   "execution_count": 17,
   "metadata": {},
   "outputs": [],
   "source": [
    "model.save_weights('./tmp/gauss/weights_d{}_baseline.h5'.format(d))"
   ]
  },
  {
   "cell_type": "code",
   "execution_count": 83,
   "metadata": {},
   "outputs": [],
   "source": [
    "model.load_weights('./tmp/gauss/weights_d{}_baseline.h5'.format(d))"
   ]
  },
  {
   "cell_type": "code",
   "execution_count": 84,
   "metadata": {
    "scrolled": true
   },
   "outputs": [],
   "source": [
    "x_adv = PGD(model, x_test[:100], y_test[:100], grad_fn=None, norm=\"inf\", \n",
    "            n_step=50, step_size=0.01, target=False, init_rnd=0.)"
   ]
  },
  {
   "cell_type": "code",
   "execution_count": 64,
   "metadata": {},
   "outputs": [
    {
     "name": "stdout",
     "output_type": "stream",
     "text": [
      "100/100 [==============================] - 0s 990us/step\n"
     ]
    },
    {
     "data": {
      "text/plain": [
       "[4.575765495300293, 0.44]"
      ]
     },
     "execution_count": 64,
     "metadata": {},
     "output_type": "execute_result"
    }
   ],
   "source": [
    "model.evaluate(x_adv, y_test_cat[:100])"
   ]
  },
  {
   "cell_type": "code",
   "execution_count": 76,
   "metadata": {
    "scrolled": true
   },
   "outputs": [
    {
     "name": "stdout",
     "output_type": "stream",
     "text": [
      "(array([47]),)\n",
      "(array([ 0,  1,  2,  4,  5,  6,  7,  8,  9, 10, 11, 12, 13, 14, 15, 16, 17,\n",
      "       18, 19, 20, 21, 22, 23, 24, 25, 26, 27, 28, 29, 30, 31, 32, 33, 34,\n",
      "       35, 36, 37, 38, 39, 40, 41, 42, 43, 44, 45, 46, 47, 48, 49, 50, 51,\n",
      "       52, 53, 54, 55, 56, 57, 58, 59, 60, 61, 62, 63, 64, 65, 66, 67, 68,\n",
      "       69, 70, 71, 72, 73, 74, 75, 76, 77, 78, 79, 80, 81, 82, 83, 84, 85,\n",
      "       86, 87, 88, 89, 90, 91, 93, 94, 95, 96, 97, 98, 99]),)\n",
      "(array([ 0,  1,  3,  4,  5,  6,  7,  9, 10, 11, 12, 13, 14, 15, 16, 17, 18,\n",
      "       19, 20, 21, 22, 23, 24, 25, 26, 27, 28, 29, 30, 31, 32, 33, 34, 35,\n",
      "       36, 37, 38, 39, 40, 41, 42, 43, 44, 45, 46, 47, 48, 49, 50, 51, 52,\n",
      "       53, 54, 55, 56, 57, 58, 59, 60, 61, 63, 64, 65, 66, 67, 68, 69, 70,\n",
      "       71, 72, 73, 74, 75, 76, 77, 78, 79, 81, 82, 83, 84, 85, 87, 88, 89,\n",
      "       90, 91, 92, 93, 95, 96, 97, 98, 99]),)\n",
      "(array([ 0,  1,  2,  3,  4,  5,  6,  7,  8,  9, 10, 11, 12, 13, 14, 15, 16,\n",
      "       17, 18, 19, 20, 21, 22, 23, 24, 25, 26, 27, 28, 29, 30, 31, 32, 33,\n",
      "       34, 35, 36, 37, 38, 39, 40, 41, 42, 43, 44, 45, 46, 47, 48, 49, 50,\n",
      "       51, 52, 53, 54, 56, 57, 58, 59, 60, 61, 62, 63, 64, 65, 66, 67, 68,\n",
      "       69, 70, 71, 72, 73, 74, 75, 76, 77, 78, 79, 80, 81, 82, 83, 84, 85,\n",
      "       86, 87, 88, 89, 90, 91, 92, 93, 94, 95, 96, 97, 98, 99]),)\n",
      "(array([ 0,  2,  3,  4,  5,  6,  7,  8,  9, 10, 11, 12, 13, 14, 15, 16, 17,\n",
      "       18, 19, 20, 21, 22, 23, 24, 25, 26, 27, 28, 29, 30, 31, 32, 33, 34,\n",
      "       35, 36, 37, 38, 39, 40, 41, 43, 44, 46, 47, 48, 49, 50, 51, 52, 53,\n",
      "       54, 55, 56, 57, 58, 59, 60, 61, 62, 63, 64, 65, 66, 67, 68, 69, 70,\n",
      "       71, 72, 73, 74, 75, 76, 77, 78, 79, 80, 81, 82, 83, 84, 85, 86, 87,\n",
      "       88, 89, 90, 91, 92, 93, 94, 95, 96, 97, 98, 99]),)\n",
      "(array([47]),)\n",
      "(array([], dtype=int64),)\n",
      "(array([70, 78]),)\n",
      "(array([], dtype=int64),)\n",
      "(array([70, 86]),)\n",
      "(array([ 0,  1,  2,  3,  4,  5,  6,  7,  8,  9, 10, 11, 12, 13, 14, 15, 16,\n",
      "       17, 18, 19, 20, 21, 22, 23, 24, 25, 26, 27, 28, 29, 30, 31, 32, 33,\n",
      "       34, 35, 36, 37, 38, 39, 40, 41, 42, 43, 44, 45, 46, 47, 48, 49, 50,\n",
      "       51, 52, 53, 54, 55, 56, 57, 58, 59, 60, 61, 62, 63, 64, 65, 66, 67,\n",
      "       68, 69, 70, 71, 72, 73, 74, 75, 76, 77, 78, 79, 80, 81, 82, 83, 84,\n",
      "       85, 86, 87, 88, 89, 90, 91, 92, 93, 94, 95, 96, 97, 98, 99]),)\n",
      "(array([ 0,  1,  2,  3,  4,  5,  6,  7,  8,  9, 10, 11, 12, 13, 14, 15, 16,\n",
      "       17, 18, 19, 20, 21, 22, 23, 24, 25, 26, 27, 28, 29, 30, 31, 32, 33,\n",
      "       34, 35, 36, 37, 38, 39, 40, 41, 43, 44, 45, 46, 47, 48, 49, 50, 51,\n",
      "       52, 53, 54, 55, 56, 57, 58, 59, 60, 61, 62, 63, 64, 65, 66, 67, 68,\n",
      "       69, 70, 72, 73, 74, 75, 76, 77, 78, 79, 80, 81, 82, 83, 84, 85, 86,\n",
      "       87, 88, 89, 90, 91, 92, 93, 94, 95, 96, 97, 98, 99]),)\n",
      "(array([ 0,  2,  3,  4,  5,  6,  7,  8,  9, 10, 11, 12, 13, 14, 15, 16, 17,\n",
      "       18, 19, 20, 21, 22, 23, 24, 25, 26, 27, 28, 29, 30, 31, 32, 33, 34,\n",
      "       35, 36, 37, 38, 39, 40, 41, 42, 43, 44, 45, 46, 48, 49, 50, 51, 52,\n",
      "       53, 54, 56, 57, 58, 59, 60, 61, 62, 63, 64, 65, 67, 68, 69, 70, 71,\n",
      "       72, 73, 74, 75, 76, 77, 79, 81, 82, 83, 84, 85, 87, 88, 89, 90, 91,\n",
      "       92, 93, 94, 95, 96, 97, 98, 99]),)\n",
      "(array([24, 70, 93]),)\n",
      "(array([ 0,  1,  2,  3,  4,  5,  6,  7,  8,  9, 10, 11, 12, 13, 14, 15, 16,\n",
      "       17, 18, 19, 20, 22, 24, 25, 26, 27, 28, 29, 30, 31, 32, 33, 34, 35,\n",
      "       36, 37, 38, 39, 40, 41, 42, 43, 44, 45, 46, 48, 49, 50, 51, 52, 53,\n",
      "       54, 55, 56, 57, 58, 59, 60, 61, 62, 63, 64, 65, 66, 67, 68, 69, 70,\n",
      "       71, 72, 73, 74, 75, 77, 78, 79, 80, 81, 82, 83, 84, 85, 86, 87, 88,\n",
      "       89, 90, 91, 92, 93, 94, 95, 96, 97, 98, 99]),)\n",
      "(array([36]),)\n",
      "(array([ 0,  1,  2,  3,  4,  5,  6,  7,  9, 10, 11, 12, 13, 14, 15, 16, 17,\n",
      "       18, 19, 20, 21, 22, 23, 24, 25, 26, 27, 28, 29, 30, 31, 33, 34, 35,\n",
      "       36, 37, 38, 40, 41, 42, 43, 44, 45, 46, 47, 48, 49, 50, 51, 53, 55,\n",
      "       56, 57, 58, 59, 60, 61, 62, 63, 64, 65, 66, 67, 68, 69, 70, 72, 73,\n",
      "       74, 75, 76, 77, 78, 79, 80, 81, 82, 83, 84, 85, 86, 87, 89, 90, 91,\n",
      "       92, 93, 95, 96, 97, 98, 99]),)\n",
      "(array([21]),)\n",
      "(array([], dtype=int64),)\n",
      "(array([53, 91]),)\n"
     ]
    }
   ],
   "source": [
    "for i in range(20):\n",
    "    print(np.where(x_adv[i] - x_test[i] > 0))"
   ]
  },
  {
   "cell_type": "code",
   "execution_count": 87,
   "metadata": {},
   "outputs": [
    {
     "data": {
      "text/plain": [
       "array([0.49999999, 0.49999999, 0.49999999, 0.49999999, 0.49999999,\n",
       "       0.49999999, 0.49999999, 0.49999999, 0.49999999, 0.49999999,\n",
       "       0.49999999, 0.49999999, 0.49999999, 0.49999999, 0.49999999,\n",
       "       0.49999999, 0.49999999, 0.49999999, 0.49999999, 0.49999999,\n",
       "       0.49999999, 0.49999999, 0.49999999, 0.49999999, 0.49999999,\n",
       "       0.49999999, 0.49999999, 0.49999999, 0.49999999, 0.49999999,\n",
       "       0.49999999, 0.49999999, 0.49999999, 0.49999999, 0.49999999,\n",
       "       0.49999999, 0.49999999, 0.49999999, 0.49999999, 0.49999999,\n",
       "       0.49999999, 0.49999999, 0.49999999, 0.49999999, 0.49999999,\n",
       "       0.49999999, 0.49999999, 0.49999999, 0.49999999, 0.49999999,\n",
       "       0.49999999, 0.49999999, 0.49999999, 0.49999999, 0.49999999,\n",
       "       0.49999999, 0.49999999, 0.49999999, 0.49999999, 0.49999999,\n",
       "       0.49999999, 0.49999999, 0.49999999, 0.49999999, 0.49999999,\n",
       "       0.49999999, 0.49999999, 0.49999999, 0.49999999, 0.49999999,\n",
       "       0.49999999, 0.49999999, 0.49999999, 0.49999999, 0.49999999,\n",
       "       0.49999999, 0.49999999, 0.49999999, 0.49999999, 0.49999999,\n",
       "       0.49999999, 0.49999999, 0.49999999, 0.49999999, 0.49999999,\n",
       "       0.49999999, 0.49999999, 0.49999999, 0.49999999, 0.49999999,\n",
       "       0.49999999, 0.49999999, 0.49999999, 0.49999999, 0.49999999,\n",
       "       0.49999999, 0.49999999, 0.49999999, 0.49999999, 0.49999999])"
      ]
     },
     "execution_count": 87,
     "metadata": {},
     "output_type": "execute_result"
    }
   ],
   "source": [
    "np.linalg.norm(x_adv - x_test[:100], axis=1, ord=np.inf)"
   ]
  },
  {
   "cell_type": "code",
   "execution_count": 301,
   "metadata": {},
   "outputs": [],
   "source": [
    "adv_acc1 = pickle.load(open(path + 'adv_acc_d100_baseline.p', 'rb'))\n",
    "adv_acc2 = pickle.load(open(path + 'adv_acc_d500_baseline.p', 'rb'))"
   ]
  },
  {
   "cell_type": "code",
   "execution_count": 38,
   "metadata": {},
   "outputs": [
    {
     "data": {
      "text/plain": [
       "[0.984, 0.9464, 0.8605, 0.717, 0.5213, 0.3136, 0.1568, 0.0611, 0.0193, 0.0049]"
      ]
     },
     "execution_count": 38,
     "metadata": {},
     "output_type": "execute_result"
    }
   ],
   "source": [
    "adv_acc1[1]"
   ]
  },
  {
   "cell_type": "code",
   "execution_count": 33,
   "metadata": {},
   "outputs": [
    {
     "data": {
      "text/plain": [
       "[0.9893, 0.9541, 0.8666, 0.7254, 0.5238, 0.319, 0.161, 0.066, 0.0188, 0.0045]"
      ]
     },
     "execution_count": 33,
     "metadata": {},
     "output_type": "execute_result"
    }
   ],
   "source": [
    "adv_acc2[1]"
   ]
  },
  {
   "cell_type": "code",
   "execution_count": 59,
   "metadata": {},
   "outputs": [
    {
     "data": {
      "text/plain": [
       "[<matplotlib.lines.Line2D at 0x7fc713a27ac8>]"
      ]
     },
     "execution_count": 59,
     "metadata": {},
     "output_type": "execute_result"
    },
    {
     "data": {
      "image/png": "[encoded data removed]",
      "text/plain": [
       "<Figure size 432x288 with 1 Axes>"
      ]
     },
     "metadata": {},
     "output_type": "display_data"
    }
   ],
   "source": [
    "plt.plot(adv_acc1[0], adv_acc1[1])\n",
    "plt.plot(adv_acc2[0], adv_acc2[1])"
   ]
  },
  {
   "cell_type": "code",
   "execution_count": 12,
   "metadata": {},
   "outputs": [],
   "source": [
    "x1 = x_test[y_test==0, 123]\n",
    "y1 = x_test[y_test==0, 12]\n",
    "x2 = x_test[y_test==1, 123]\n",
    "y2 = x_test[y_test==1, 12]"
   ]
  },
  {
   "cell_type": "code",
   "execution_count": 14,
   "metadata": {},
   "outputs": [],
   "source": [
    "from sklearn.decomposition import PCA\n",
    "pca = PCA(n_components=2)\n",
    "x = pca.fit_transform(x_test)"
   ]
  },
  {
   "cell_type": "code",
   "execution_count": 17,
   "metadata": {},
   "outputs": [],
   "source": [
    "x1 = x[y_test==0, 0]\n",
    "y1 = x[y_test==0, 1]\n",
    "x2 = x[y_test==1, 0]\n",
    "y2 = x[y_test==1, 1]"
   ]
  },
  {
   "cell_type": "code",
   "execution_count": 28,
   "metadata": {},
   "outputs": [],
   "source": [
    "size = 1000\n",
    "x1 = np.random.normal(0, np.sqrt(2)/6, size=size)\n",
    "y1 = np.random.normal(0, np.sqrt(2)/6, size=size)\n",
    "x2 = np.random.normal(1, np.sqrt(2)/6, size=size)\n",
    "y2 = np.random.normal(1, np.sqrt(2)/6, size=size)"
   ]
  },
  {
   "cell_type": "code",
   "execution_count": 72,
   "metadata": {},
   "outputs": [
    {
     "data": {
      "image/png": "[encoded data removed]",
      "text/plain": [
       "<Figure size 432x432 with 1 Axes>"
      ]
     },
     "metadata": {},
     "output_type": "display_data"
    }
   ],
   "source": [
    "plt.figure(figsize=(6, 6))\n",
    "plt.scatter(x1, y1, label='Zero', c='r', s=8)\n",
    "plt.scatter(x2, y2, label='One', c='b', s=8)\n",
    "plt.plot(np.arange(-1, 3)[::-1], np.arange(-1, 3), c='g', linewidth=3)\n",
    "#plt.xlabel('Number of steps used to generate PGD adversarial examples')\n",
    "#plt.ylabel('Accuracy (%)')\n",
    "plt.xlim([-1, 2])\n",
    "plt.ylim([-1, 2])\n",
    "#legend = plt.legend(title='Label', fontsize='x-large', markerscale=3, loc='best')\n",
    "plt.text(-0.7, 0.7, 'Zero', fontsize=15, color='r')\n",
    "plt.text(0.3, 1.7, 'One', fontsize=15, color='b')\n",
    "plt.text(0.4, -0.8, 'Optimal boundary', fontsize=15, color='g')\n",
    "plt.setp(legend.get_title(), fontsize='x-large')\n",
    "legend._legend_box.align = \"left\"\n",
    "plt.savefig('./fig/gauss_diagram.pdf', bbox_inches='tight')\n",
    "plt.show()"
   ]
  },
  {
   "cell_type": "code",
   "execution_count": null,
   "metadata": {},
   "outputs": [],
   "source": []
  },
  {
   "cell_type": "markdown",
   "metadata": {},
   "source": [
    "#### Model Complexity\n",
    "Linear SVM"
   ]
  },
  {
   "cell_type": "code",
   "execution_count": 19,
   "metadata": {},
   "outputs": [
    {
     "data": {
      "text/plain": [
       "LinearSVC(C=1.0, class_weight=None, dual=True, fit_intercept=True,\n",
       "     intercept_scaling=1, loss='squared_hinge', max_iter=1000,\n",
       "     multi_class='ovr', penalty='l2', random_state=None, tol=0.0001,\n",
       "     verbose=0)"
      ]
     },
     "execution_count": 19,
     "metadata": {},
     "output_type": "execute_result"
    }
   ],
   "source": [
    "from sklearn.svm import LinearSVC\n",
    "\n",
    "svm = LinearSVC(C=1.)\n",
    "svm.fit(x_train, y_train)"
   ]
  },
  {
   "cell_type": "code",
   "execution_count": 12,
   "metadata": {},
   "outputs": [
    {
     "data": {
      "text/plain": [
       "0.997"
      ]
     },
     "execution_count": 12,
     "metadata": {},
     "output_type": "execute_result"
    }
   ],
   "source": [
    "svm.score(x_test, y_test)"
   ]
  },
  {
   "cell_type": "code",
   "execution_count": 24,
   "metadata": {},
   "outputs": [],
   "source": [
    "adv_acc = []\n",
    "\n",
    "for eps in eps_list:\n",
    "    grad = svm.coef_[0]\n",
    "    x_adv = np.zeros_like(x_test)\n",
    "\n",
    "    for i, (x, y) in enumerate(zip(x_test, y_test)):\n",
    "        if not y:\n",
    "            x_adv[i] = x + np.sign(grad) * eps\n",
    "        else:\n",
    "            x_adv[i] = x - np.sign(grad) * eps\n",
    "\n",
    "    adv_acc.append(svm.score(x_adv, y_test))"
   ]
  },
  {
   "cell_type": "code",
   "execution_count": 12,
   "metadata": {},
   "outputs": [],
   "source": [
    "eps_list = np.arange(0.1, 1.1, 0.1)\n",
    "adv_acc_500 = np.array([0.986, 0.9537, 0.8592, 0.7054, 0.4923, 0.288, 0.1364, 0.0503, 0.0126, 0.0021]) * 100\n",
    "adv_acc_100 = np.array([0.9885, 0.9561, 0.8723, 0.718, 0.5062, 0.2895, 0.1251, 0.0412, 0.0108, 0.0022]) * 100"
   ]
  },
  {
   "cell_type": "code",
   "execution_count": 39,
   "metadata": {},
   "outputs": [
    {
     "data": {
      "image/png": "[encoded data removed]",
      "text/plain": [
       "<Figure size 576x360 with 1 Axes>"
      ]
     },
     "metadata": {},
     "output_type": "display_data"
    }
   ],
   "source": [
    "marker = itertools.cycle(('o', 's', '^', 'D', 'v', 'X', 'd', '+'))\n",
    "plt.figure(figsize=(8, 5))\n",
    "plt.plot(eps_list, adv_acc_100, label='d=100', color='b', marker=next(marker))\n",
    "plt.plot(eps_list, adv_acc_500, label='d=500', color='r', marker=next(marker))\n",
    "plt.xlabel(r'Epsilon $\\epsilon$')\n",
    "plt.ylabel('Accuracy (%)')\n",
    "plt.legend()\n",
    "plt.savefig('./fig/svm_gauss.pdf', bbox_inches='tight')\n",
    "plt.show()"
   ]
  },
  {
   "cell_type": "code",
   "execution_count": 203,
   "metadata": {},
   "outputs": [
    {
     "data": {
      "text/plain": [
       "array([-1.56052449])"
      ]
     },
     "execution_count": 203,
     "metadata": {},
     "output_type": "execute_result"
    }
   ],
   "source": [
    "svm.intercept_"
   ]
  },
  {
   "cell_type": "code",
   "execution_count": 202,
   "metadata": {},
   "outputs": [
    {
     "data": {
      "text/plain": [
       "3.275094463213529"
      ]
     },
     "execution_count": 202,
     "metadata": {},
     "output_type": "execute_result"
    }
   ],
   "source": [
    "np.sum(svm.coef_)"
   ]
  },
  {
   "cell_type": "code",
   "execution_count": 205,
   "metadata": {},
   "outputs": [
    {
     "data": {
      "text/plain": [
       "500"
      ]
     },
     "execution_count": 205,
     "metadata": {},
     "output_type": "execute_result"
    }
   ],
   "source": [
    "np.sum(svm.coef_ > 0)"
   ]
  },
  {
   "cell_type": "code",
   "execution_count": 26,
   "metadata": {},
   "outputs": [
    {
     "name": "stdout",
     "output_type": "stream",
     "text": [
      "0.11363474621264505\n",
      "0.2192338805861708\n",
      "[-5.6483178]\n"
     ]
    }
   ],
   "source": [
    "w = svm.coef_\n",
    "mean = np.mean(w100)\n",
    "print(mean)\n",
    "print(np.std(w100) / mean)\n",
    "print(svm.intercept_)"
   ]
  },
  {
   "cell_type": "code",
   "execution_count": 28,
   "metadata": {},
   "outputs": [
    {
     "data": {
      "text/plain": [
       "array([-49.63785591])"
      ]
     },
     "execution_count": 28,
     "metadata": {},
     "output_type": "execute_result"
    }
   ],
   "source": [
    "svm.intercept_ / mean"
   ]
  },
  {
   "cell_type": "code",
   "execution_count": 25,
   "metadata": {},
   "outputs": [
    {
     "name": "stdout",
     "output_type": "stream",
     "text": [
      "0.0216794411672221\n",
      "0.4410750176025412\n",
      "[-5.6483178]\n"
     ]
    }
   ],
   "source": [
    "w = svm.coef_\n",
    "mean = np.mean(w500)\n",
    "print(mean)\n",
    "print(np.std(w500) / mean)\n",
    "print(svm.intercept_)"
   ]
  },
  {
   "cell_type": "code",
   "execution_count": 19,
   "metadata": {},
   "outputs": [
    {
     "data": {
      "text/plain": [
       "array([-246.53620456])"
      ]
     },
     "execution_count": 19,
     "metadata": {},
     "output_type": "execute_result"
    }
   ],
   "source": [
    "svm.intercept_ / mean"
   ]
  },
  {
   "cell_type": "code",
   "execution_count": 9,
   "metadata": {},
   "outputs": [
    {
     "data": {
      "text/plain": [
       "1.3530516712423102"
      ]
     },
     "execution_count": 9,
     "metadata": {},
     "output_type": "execute_result"
    }
   ],
   "source": [
    "np.sum(np.square(svm.coef_))"
   ]
  },
  {
   "cell_type": "code",
   "execution_count": 13,
   "metadata": {},
   "outputs": [
    {
     "data": {
      "text/plain": [
       "0.28071749180598493"
      ]
     },
     "execution_count": 13,
     "metadata": {},
     "output_type": "execute_result"
    }
   ],
   "source": [
    "np.sum(np.square(svm.coef_))"
   ]
  },
  {
   "cell_type": "code",
   "execution_count": 17,
   "metadata": {},
   "outputs": [
    {
     "name": "stdout",
     "output_type": "stream",
     "text": [
      "0.08504792181613463\n"
     ]
    }
   ],
   "source": [
    "from scipy.spatial.distance import cosine\n",
    "\n",
    "print(cosine(svm.coef_, np.ones(500)))\n",
    "w500 = svm.coef_"
   ]
  },
  {
   "cell_type": "code",
   "execution_count": 21,
   "metadata": {},
   "outputs": [
    {
     "name": "stdout",
     "output_type": "stream",
     "text": [
      "0.023198758461428937\n"
     ]
    }
   ],
   "source": [
    "print(cosine(svm.coef_, np.ones(100)))\n",
    "w100 = svm.coef_"
   ]
  },
  {
   "cell_type": "markdown",
   "metadata": {},
   "source": [
    "Changing depths (no hidden (~ logistic regression), 2, 4, 8)"
   ]
  },
  {
   "cell_type": "code",
   "execution_count": 309,
   "metadata": {},
   "outputs": [],
   "source": [
    "model = Sequential()\n",
    "model.add(Dense(2, input_dim=d, activation='linear'))\n",
    "model.compile(loss=output_fn,\n",
    "              optimizer=keras.optimizers.Adam(lr=1e-3),\n",
    "              metrics=['accuracy'])"
   ]
  },
  {
   "cell_type": "code",
   "execution_count": 14,
   "metadata": {
    "scrolled": true
   },
   "outputs": [
    {
     "name": "stdout",
     "output_type": "stream",
     "text": [
      "Train on 60000 samples, validate on 10000 samples\n",
      "Epoch 1/100\n",
      "60000/60000 [==============================] - 4s 58us/step - loss: 0.3392 - acc: 0.8800 - val_loss: 0.1230 - val_acc: 0.9792\n",
      "Epoch 2/100\n",
      "60000/60000 [==============================] - 3s 54us/step - loss: 0.0845 - acc: 0.9905 - val_loss: 0.0616 - val_acc: 0.9937\n",
      "Epoch 3/100\n",
      "60000/60000 [==============================] - 3s 55us/step - loss: 0.0459 - acc: 0.9958 - val_loss: 0.0376 - val_acc: 0.9960\n",
      "Epoch 4/100\n",
      "60000/60000 [==============================] - 3s 55us/step - loss: 0.0289 - acc: 0.9971 - val_loss: 0.0258 - val_acc: 0.9966\n",
      "Epoch 5/100\n",
      "60000/60000 [==============================] - 3s 56us/step - loss: 0.0198 - acc: 0.9980 - val_loss: 0.0187 - val_acc: 0.9973\n",
      "Epoch 6/100\n",
      "60000/60000 [==============================] - 3s 56us/step - loss: 0.0145 - acc: 0.9983 - val_loss: 0.0146 - val_acc: 0.9975\n",
      "Epoch 7/100\n",
      "60000/60000 [==============================] - 3s 56us/step - loss: 0.0112 - acc: 0.9984 - val_loss: 0.0120 - val_acc: 0.9974\n",
      "Epoch 8/100\n",
      "60000/60000 [==============================] - 3s 49us/step - loss: 0.0092 - acc: 0.9984 - val_loss: 0.0103 - val_acc: 0.9978\n",
      "Epoch 9/100\n",
      "60000/60000 [==============================] - 3s 52us/step - loss: 0.0078 - acc: 0.9985 - val_loss: 0.0093 - val_acc: 0.9982\n",
      "Epoch 10/100\n",
      "60000/60000 [==============================] - 3s 51us/step - loss: 0.0070 - acc: 0.9986 - val_loss: 0.0086 - val_acc: 0.9977\n",
      "Epoch 11/100\n",
      "60000/60000 [==============================] - 3s 52us/step - loss: 0.0063 - acc: 0.9986 - val_loss: 0.0081 - val_acc: 0.9975\n",
      "Epoch 12/100\n",
      "60000/60000 [==============================] - 3s 56us/step - loss: 0.0059 - acc: 0.9986 - val_loss: 0.0079 - val_acc: 0.9976\n",
      "Epoch 13/100\n",
      "60000/60000 [==============================] - 3s 56us/step - loss: 0.0056 - acc: 0.9986 - val_loss: 0.0074 - val_acc: 0.9977\n",
      "Epoch 14/100\n",
      "60000/60000 [==============================] - 3s 57us/step - loss: 0.0053 - acc: 0.9987 - val_loss: 0.0072 - val_acc: 0.9978\n",
      "Epoch 15/100\n",
      "60000/60000 [==============================] - 3s 54us/step - loss: 0.0052 - acc: 0.9986 - val_loss: 0.0070 - val_acc: 0.9976\n",
      "Epoch 16/100\n",
      "60000/60000 [==============================] - 3s 55us/step - loss: 0.0050 - acc: 0.9988 - val_loss: 0.0068 - val_acc: 0.9981\n",
      "Epoch 17/100\n",
      "60000/60000 [==============================] - 3s 54us/step - loss: 0.0048 - acc: 0.9987 - val_loss: 0.0071 - val_acc: 0.9978\n",
      "Epoch 18/100\n",
      "60000/60000 [==============================] - 3s 53us/step - loss: 0.0047 - acc: 0.9987 - val_loss: 0.0068 - val_acc: 0.9977\n",
      "Epoch 19/100\n",
      "60000/60000 [==============================] - 3s 53us/step - loss: 0.0046 - acc: 0.9987 - val_loss: 0.0067 - val_acc: 0.9980\n",
      "Epoch 20/100\n",
      "60000/60000 [==============================] - 3s 55us/step - loss: 0.0046 - acc: 0.9987 - val_loss: 0.0067 - val_acc: 0.9977\n",
      "Epoch 21/100\n",
      "60000/60000 [==============================] - 3s 57us/step - loss: 0.0045 - acc: 0.9988 - val_loss: 0.0066 - val_acc: 0.9977\n",
      "Epoch 22/100\n",
      "60000/60000 [==============================] - 3s 54us/step - loss: 0.0044 - acc: 0.9988 - val_loss: 0.0070 - val_acc: 0.9974\n",
      "Epoch 23/100\n",
      "60000/60000 [==============================] - 3s 56us/step - loss: 0.0043 - acc: 0.9988 - val_loss: 0.0067 - val_acc: 0.9979\n",
      "Epoch 24/100\n",
      "60000/60000 [==============================] - 3s 56us/step - loss: 0.0043 - acc: 0.9987 - val_loss: 0.0065 - val_acc: 0.9978\n",
      "Epoch 25/100\n",
      "60000/60000 [==============================] - 3s 54us/step - loss: 0.0042 - acc: 0.9988 - val_loss: 0.0065 - val_acc: 0.9979\n",
      "Epoch 26/100\n",
      "60000/60000 [==============================] - 3s 55us/step - loss: 0.0042 - acc: 0.9988 - val_loss: 0.0069 - val_acc: 0.9976\n",
      "Epoch 27/100\n",
      "60000/60000 [==============================] - 3s 53us/step - loss: 0.0042 - acc: 0.9988 - val_loss: 0.0065 - val_acc: 0.9978\n",
      "Epoch 28/100\n",
      "60000/60000 [==============================] - 3s 54us/step - loss: 0.0041 - acc: 0.9988 - val_loss: 0.0067 - val_acc: 0.9973\n",
      "Epoch 29/100\n",
      "60000/60000 [==============================] - 3s 53us/step - loss: 0.0041 - acc: 0.9988 - val_loss: 0.0065 - val_acc: 0.9978\n"
     ]
    },
    {
     "data": {
      "text/plain": [
       "<keras.callbacks.History at 0x7f7d208c8fd0>"
      ]
     },
     "execution_count": 14,
     "metadata": {},
     "output_type": "execute_result"
    }
   ],
   "source": [
    "model.fit(x_train, y_train_cat,\n",
    "          batch_size=50,\n",
    "          epochs=100,\n",
    "          verbose=1,\n",
    "          callbacks=[earlystop],\n",
    "          validation_data=(x_test, y_test_cat))"
   ]
  },
  {
   "cell_type": "code",
   "execution_count": 15,
   "metadata": {},
   "outputs": [],
   "source": [
    "model.save_weights('{}weights_d{}_depth{}.h5'.format(path, d, 0))"
   ]
  },
  {
   "cell_type": "code",
   "execution_count": 310,
   "metadata": {},
   "outputs": [],
   "source": [
    "model.load_weights('{}weights_d{}_depth{}.h5'.format(path, d, 0))"
   ]
  },
  {
   "cell_type": "code",
   "execution_count": 312,
   "metadata": {},
   "outputs": [
    {
     "name": "stdout",
     "output_type": "stream",
     "text": [
      "10000/10000 [==============================] - 0s 48us/step\n"
     ]
    },
    {
     "data": {
      "text/plain": [
       "[0.009852771656082768, 0.9967]"
      ]
     },
     "execution_count": 312,
     "metadata": {},
     "output_type": "execute_result"
    }
   ],
   "source": [
    "model.evaluate(x_test, y_test_cat)"
   ]
  },
  {
   "cell_type": "code",
   "execution_count": 317,
   "metadata": {},
   "outputs": [
    {
     "name": "stdout",
     "output_type": "stream",
     "text": [
      "100/100 [==============================] - 0s 127us/step\n",
      "0.3\n",
      "100/100 [==============================] - 0s 103us/step\n",
      "0.24\n",
      "100/100 [==============================] - 0s 84us/step\n",
      "0.19\n",
      "100/100 [==============================] - 0s 102us/step\n",
      "0.12\n",
      "100/100 [==============================] - 0s 78us/step\n",
      "0.08\n"
     ]
    }
   ],
   "source": [
    "steps = np.array(range(100, 150, 10))\n",
    "for n_step in steps:\n",
    "    x_adv = PGD(model, x_test[:100], y_test[:100], grad_fn=None, norm=\"inf\",\n",
    "                n_step=n_step, step_size=0.01, target=False, init_rnd=0.)\n",
    "    score = model.evaluate(x_adv, y_test_cat[:100])\n",
    "    print(score[1])"
   ]
  },
  {
   "cell_type": "code",
   "execution_count": 129,
   "metadata": {},
   "outputs": [
    {
     "name": "stdout",
     "output_type": "stream",
     "text": [
      "10000/10000 [==============================] - 1s 116us/step\n",
      "[0.005856082954211161, 0.9982]\n",
      "10000/10000 [==============================] - 1s 138us/step\n",
      "[0.00643209421128704, 0.9978]\n",
      "10000/10000 [==============================] - 1s 132us/step\n",
      "[0.007158805751173395, 0.9978]\n",
      "10000/10000 [==============================] - 1s 141us/step\n",
      "[0.006954027240488114, 0.9982]\n",
      "10000/10000 [==============================] - 1s 146us/step\n",
      "[0.008888529565885619, 0.9964]\n",
      "10000/10000 [==============================] - 1s 128us/step\n",
      "[0.007297106870895732, 0.9979]\n",
      "10000/10000 [==============================] - 1s 142us/step\n",
      "[0.009527201462704898, 0.9973]\n",
      "10000/10000 [==============================] - 2s 156us/step\n",
      "[0.01081239316393976, 0.9962]\n",
      "10000/10000 [==============================] - 2s 200us/step\n",
      "[0.01479761506075738, 0.9963]\n",
      "10000/10000 [==============================] - 3s 283us/step\n",
      "[0.023755059307813645, 0.9976]\n"
     ]
    }
   ],
   "source": [
    "out_path = './tmp/gauss/'\n",
    "\n",
    "for d in [500]:\n",
    "    model = Sequential()\n",
    "    model.add(Dense(2, input_dim=d, activation='linear'))\n",
    "    model.compile(loss=output_fn,\n",
    "              optimizer=keras.optimizers.Adam(lr=1e-4),\n",
    "              metrics=['accuracy'])\n",
    "    model.load_weights('{}weights_d{}_depth{}.h5'.format(out_path, d, 0))\n",
    "    print(model.evaluate(x_test, y_test_cat))\n",
    "    \n",
    "    for width in [40, 200, 1000, 5000]:\n",
    "        model = build_dnn_wd(d, width, 2, out_dim=2)\n",
    "        model.load_weights('{}weights_d{}_width{}.h5'.format(out_path, d, width))\n",
    "        print(model.evaluate(x_test, y_test_cat))\n",
    "        \n",
    "    for depth in [1, 2, 4, 8, 16]:\n",
    "        model = build_dnn_wd(d, 1000, depth, out_dim=2)\n",
    "        model.load_weights('{}weights_d{}_depth{}.h5'.format(out_path, d, depth))\n",
    "        print(model.evaluate(x_test, y_test_cat))"
   ]
  },
  {
   "cell_type": "code",
   "execution_count": 5,
   "metadata": {},
   "outputs": [],
   "source": [
    "out_path = './tmp/gauss/'\n",
    "d = 500\n",
    "#steps, adv_acc1 = pickle.load(open(out_path + 'adv_acc_d100_depth-width.p', 'rb'))\n",
    "steps, adv_acc2 = pickle.load(open(out_path + 'adv_acc_d100_depth-width.p', 'rb'))\n",
    "steps, adv_acc3 = pickle.load(open(out_path + 'adv_acc_d100_depth-width_2.p', 'rb'))"
   ]
  },
  {
   "cell_type": "code",
   "execution_count": 6,
   "metadata": {
    "scrolled": true
   },
   "outputs": [],
   "source": [
    "adv_acc2[0] = adv_acc3[0]\n",
    "adv_acc_d = adv_acc2[:5]\n",
    "adv_acc_d.append(adv_acc3[1])\n",
    "adv_acc_w = [adv_acc2[0]]\n",
    "adv_acc_w.extend(adv_acc2[5:])\n",
    "\n",
    "adv_acc_d = np.array(adv_acc_d) * 100\n",
    "adv_acc_w = np.array(adv_acc_w) * 100"
   ]
  },
  {
   "cell_type": "code",
   "execution_count": 10,
   "metadata": {
    "scrolled": true
   },
   "outputs": [
    {
     "data": {
      "image/png": "[encoded data removed]",
      "text/plain": [
       "<Figure size 576x360 with 1 Axes>"
      ]
     },
     "metadata": {},
     "output_type": "display_data"
    }
   ],
   "source": [
    "marker = itertools.cycle(('o', 's', '^', 'D', 'v', 'X', 'd', '+'))\n",
    "labels = ['0', '1', '2', '4', '8', '16']\n",
    "plt.figure(figsize=(8, 5))\n",
    "for i, acc in enumerate(adv_acc_d):\n",
    "    plt.plot(steps, acc, label=labels[i], marker=next(marker))\n",
    "plt.xlabel('Number of steps used to generate PGD adversarial examples')\n",
    "plt.ylabel('Accuracy (%)')\n",
    "legend = plt.legend(title='Num Hidden Layers', fontsize='x-large', loc='lower left')\n",
    "plt.setp(legend.get_title(), fontsize='x-large')\n",
    "legend._legend_box.align = \"left\"\n",
    "plt.savefig('./fig/gauss_500_depth.pdf', bbox_inches='tight')\n",
    "plt.show()"
   ]
  },
  {
   "cell_type": "markdown",
   "metadata": {},
   "source": [
    "Changing width (40, 200, 1000, 5000)"
   ]
  },
  {
   "cell_type": "code",
   "execution_count": 19,
   "metadata": {
    "scrolled": true
   },
   "outputs": [
    {
     "name": "stdout",
     "output_type": "stream",
     "text": [
      "Train on 60000 samples, validate on 10000 samples\n",
      "Epoch 1/50\n",
      "60000/60000 [==============================] - 11s 180us/step - loss: 0.1699 - acc: 0.9320 - val_loss: 0.0332 - val_acc: 0.9924\n",
      "Epoch 2/50\n",
      "60000/60000 [==============================] - 9s 142us/step - loss: 0.0292 - acc: 0.9915 - val_loss: 0.0150 - val_acc: 0.9962\n",
      "Epoch 3/50\n",
      "60000/60000 [==============================] - 9s 150us/step - loss: 0.0174 - acc: 0.9949 - val_loss: 0.0104 - val_acc: 0.9970\n",
      "Epoch 4/50\n",
      "60000/60000 [==============================] - 9s 146us/step - loss: 0.0144 - acc: 0.9952 - val_loss: 0.0087 - val_acc: 0.9969\n",
      "Epoch 5/50\n",
      "60000/60000 [==============================] - 9s 148us/step - loss: 0.0120 - acc: 0.9959 - val_loss: 0.0079 - val_acc: 0.9973\n",
      "Epoch 6/50\n",
      "60000/60000 [==============================] - 9s 147us/step - loss: 0.0116 - acc: 0.9959 - val_loss: 0.0074 - val_acc: 0.9974\n",
      "Epoch 7/50\n",
      "60000/60000 [==============================] - 9s 150us/step - loss: 0.0104 - acc: 0.9966 - val_loss: 0.0072 - val_acc: 0.9973\n",
      "Epoch 8/50\n",
      "60000/60000 [==============================] - 9s 149us/step - loss: 0.0094 - acc: 0.9968 - val_loss: 0.0070 - val_acc: 0.9976\n",
      "Epoch 9/50\n",
      "60000/60000 [==============================] - 8s 139us/step - loss: 0.0091 - acc: 0.9969 - val_loss: 0.0069 - val_acc: 0.9976\n",
      "Epoch 10/50\n",
      "60000/60000 [==============================] - 9s 147us/step - loss: 0.0096 - acc: 0.9969 - val_loss: 0.0071 - val_acc: 0.9976\n",
      "Epoch 11/50\n",
      "60000/60000 [==============================] - 9s 152us/step - loss: 0.0086 - acc: 0.9969 - val_loss: 0.0069 - val_acc: 0.9976\n",
      "Epoch 12/50\n",
      "60000/60000 [==============================] - 9s 150us/step - loss: 0.0083 - acc: 0.9969 - val_loss: 0.0070 - val_acc: 0.9976\n",
      "Epoch 13/50\n",
      "60000/60000 [==============================] - 9s 153us/step - loss: 0.0081 - acc: 0.9972 - val_loss: 0.0070 - val_acc: 0.9976\n",
      "Epoch 14/50\n",
      "60000/60000 [==============================] - 9s 150us/step - loss: 0.0078 - acc: 0.9972 - val_loss: 0.0069 - val_acc: 0.9975\n",
      "Epoch 15/50\n",
      "60000/60000 [==============================] - 9s 146us/step - loss: 0.0080 - acc: 0.9972 - val_loss: 0.0069 - val_acc: 0.9975\n",
      "Epoch 16/50\n",
      "60000/60000 [==============================] - 9s 150us/step - loss: 0.0074 - acc: 0.9976 - val_loss: 0.0070 - val_acc: 0.9975\n",
      "Train on 60000 samples, validate on 10000 samples\n",
      "Epoch 1/50\n",
      "60000/60000 [==============================] - 11s 180us/step - loss: 0.0581 - acc: 0.9776 - val_loss: 0.0127 - val_acc: 0.9960\n",
      "Epoch 2/50\n",
      "60000/60000 [==============================] - 9s 149us/step - loss: 0.0129 - acc: 0.9956 - val_loss: 0.0098 - val_acc: 0.9968\n",
      "Epoch 3/50\n",
      "60000/60000 [==============================] - 9s 151us/step - loss: 0.0105 - acc: 0.9963 - val_loss: 0.0089 - val_acc: 0.9971\n",
      "Epoch 4/50\n",
      "60000/60000 [==============================] - 9s 154us/step - loss: 0.0090 - acc: 0.9971 - val_loss: 0.0087 - val_acc: 0.9971\n",
      "Epoch 5/50\n",
      "60000/60000 [==============================] - 9s 152us/step - loss: 0.0081 - acc: 0.9971 - val_loss: 0.0093 - val_acc: 0.9968\n",
      "Epoch 6/50\n",
      "60000/60000 [==============================] - 9s 149us/step - loss: 0.0063 - acc: 0.9978 - val_loss: 0.0085 - val_acc: 0.9976\n",
      "Epoch 7/50\n",
      "60000/60000 [==============================] - 9s 152us/step - loss: 0.0055 - acc: 0.9981 - val_loss: 0.0086 - val_acc: 0.9973\n",
      "Epoch 8/50\n",
      "60000/60000 [==============================] - 9s 150us/step - loss: 0.0050 - acc: 0.9984 - val_loss: 0.0078 - val_acc: 0.9973\n",
      "Epoch 9/50\n",
      "60000/60000 [==============================] - 9s 148us/step - loss: 0.0053 - acc: 0.9984 - val_loss: 0.0091 - val_acc: 0.9971\n",
      "Epoch 10/50\n",
      "60000/60000 [==============================] - 9s 150us/step - loss: 0.0042 - acc: 0.9985 - val_loss: 0.0085 - val_acc: 0.9973\n",
      "Epoch 11/50\n",
      "60000/60000 [==============================] - 9s 146us/step - loss: 0.0035 - acc: 0.9988 - val_loss: 0.0086 - val_acc: 0.9975\n",
      "Epoch 12/50\n",
      "60000/60000 [==============================] - 9s 148us/step - loss: 0.0037 - acc: 0.9988 - val_loss: 0.0083 - val_acc: 0.9972\n",
      "Epoch 13/50\n",
      "60000/60000 [==============================] - 9s 148us/step - loss: 0.0026 - acc: 0.9992 - val_loss: 0.0078 - val_acc: 0.9974\n",
      "Train on 60000 samples, validate on 10000 samples\n",
      "Epoch 1/50\n",
      "60000/60000 [==============================] - 11s 180us/step - loss: 0.0198 - acc: 0.9925 - val_loss: 0.0088 - val_acc: 0.9968\n",
      "Epoch 2/50\n",
      "60000/60000 [==============================] - 9s 150us/step - loss: 0.0095 - acc: 0.9966 - val_loss: 0.0101 - val_acc: 0.9967\n",
      "Epoch 3/50\n",
      "60000/60000 [==============================] - 9s 149us/step - loss: 0.0088 - acc: 0.9971 - val_loss: 0.0076 - val_acc: 0.9972\n",
      "Epoch 4/50\n",
      "60000/60000 [==============================] - 9s 144us/step - loss: 0.0058 - acc: 0.9978 - val_loss: 0.0083 - val_acc: 0.9971\n",
      "Epoch 5/50\n",
      "60000/60000 [==============================] - 9s 148us/step - loss: 0.0049 - acc: 0.9983 - val_loss: 0.0083 - val_acc: 0.9977\n",
      "Epoch 6/50\n",
      "60000/60000 [==============================] - 9s 146us/step - loss: 0.0056 - acc: 0.9978 - val_loss: 0.0100 - val_acc: 0.9967\n",
      "Epoch 7/50\n",
      "60000/60000 [==============================] - 9s 150us/step - loss: 0.0050 - acc: 0.9982 - val_loss: 0.0088 - val_acc: 0.9973\n",
      "Epoch 8/50\n",
      "60000/60000 [==============================] - 9s 150us/step - loss: 0.0032 - acc: 0.9987 - val_loss: 0.0104 - val_acc: 0.9969\n",
      "Train on 60000 samples, validate on 10000 samples\n",
      "Epoch 1/50\n",
      "60000/60000 [==============================] - 21s 344us/step - loss: 0.0480 - acc: 0.9926 - val_loss: 0.0256 - val_acc: 0.9959\n",
      "Epoch 2/50\n",
      "60000/60000 [==============================] - 18s 298us/step - loss: 0.0205 - acc: 0.9958 - val_loss: 0.0135 - val_acc: 0.9967\n",
      "Epoch 3/50\n",
      "60000/60000 [==============================] - 18s 302us/step - loss: 0.0127 - acc: 0.9962 - val_loss: 0.0126 - val_acc: 0.9966\n",
      "Epoch 4/50\n",
      "60000/60000 [==============================] - 18s 303us/step - loss: 0.0083 - acc: 0.9970 - val_loss: 0.0142 - val_acc: 0.9954\n",
      "Epoch 5/50\n",
      "60000/60000 [==============================] - 18s 302us/step - loss: 0.0087 - acc: 0.9970 - val_loss: 0.0093 - val_acc: 0.9968\n",
      "Epoch 6/50\n",
      "60000/60000 [==============================] - 18s 297us/step - loss: 0.0094 - acc: 0.9968 - val_loss: 0.0090 - val_acc: 0.9972\n",
      "Epoch 7/50\n",
      "60000/60000 [==============================] - 18s 300us/step - loss: 0.0063 - acc: 0.9977 - val_loss: 0.0104 - val_acc: 0.9966\n",
      "Epoch 8/50\n",
      "60000/60000 [==============================] - 18s 300us/step - loss: 0.0060 - acc: 0.9976 - val_loss: 0.0109 - val_acc: 0.9970\n",
      "Epoch 9/50\n",
      "60000/60000 [==============================] - 18s 296us/step - loss: 0.0066 - acc: 0.9977 - val_loss: 0.0119 - val_acc: 0.9962\n",
      "Epoch 10/50\n",
      "60000/60000 [==============================] - 18s 296us/step - loss: 0.0066 - acc: 0.9977 - val_loss: 0.0120 - val_acc: 0.9965\n",
      "Epoch 11/50\n",
      "60000/60000 [==============================] - 18s 294us/step - loss: 0.0062 - acc: 0.9976 - val_loss: 0.0090 - val_acc: 0.9972\n",
      "Epoch 12/50\n",
      "60000/60000 [==============================] - 18s 295us/step - loss: 0.0052 - acc: 0.9982 - val_loss: 0.0102 - val_acc: 0.9971\n",
      "Epoch 13/50\n",
      "60000/60000 [==============================] - 18s 298us/step - loss: 0.0047 - acc: 0.9984 - val_loss: 0.0138 - val_acc: 0.9964\n",
      "Epoch 14/50\n",
      "60000/60000 [==============================] - 18s 294us/step - loss: 0.0050 - acc: 0.9985 - val_loss: 0.0117 - val_acc: 0.9963\n",
      "Epoch 15/50\n",
      "60000/60000 [==============================] - 18s 300us/step - loss: 0.0052 - acc: 0.9983 - val_loss: 0.0124 - val_acc: 0.9964\n",
      "Epoch 16/50\n",
      "60000/60000 [==============================] - 18s 299us/step - loss: 0.0032 - acc: 0.9988 - val_loss: 0.0132 - val_acc: 0.9963\n"
     ]
    }
   ],
   "source": [
    "for width in [40, 200, 1000, 5000]:\n",
    "    model = Sequential()\n",
    "    model.add(Dense(width, input_dim=d, activation='relu'))\n",
    "    model.add(BatchNormalization())\n",
    "    model.add(Dense(width, activation='relu'))\n",
    "    model.add(BatchNormalization())\n",
    "    model.add(Dense(2, activation='linear'))\n",
    "    model.compile(loss=output_fn,\n",
    "                  optimizer=keras.optimizers.Adam(lr=1e-4),\n",
    "                  metrics=['accuracy'])\n",
    "    model.fit(x_train, y_train_cat,\n",
    "              batch_size=50,\n",
    "              epochs=50,\n",
    "              verbose=1,\n",
    "              callbacks=[earlystop],\n",
    "              validation_data=(x_test, y_test_cat))\n",
    "    model.save_weights('{}weights_d{}_width{}.h5'.format(path, d, width))"
   ]
  },
  {
   "cell_type": "code",
   "execution_count": 20,
   "metadata": {},
   "outputs": [
    {
     "name": "stdout",
     "output_type": "stream",
     "text": [
      "10000/10000 [==============================] - 1s 79us/step\n"
     ]
    },
    {
     "data": {
      "text/plain": [
       "[0.013215170873210053, 0.9963]"
      ]
     },
     "execution_count": 20,
     "metadata": {},
     "output_type": "execute_result"
    }
   ],
   "source": [
    "model.evaluate(x_test, y_test_cat)"
   ]
  },
  {
   "cell_type": "code",
   "execution_count": 11,
   "metadata": {},
   "outputs": [
    {
     "data": {
      "image/png": "[encoded data removed]",
      "text/plain": [
       "<Figure size 576x360 with 1 Axes>"
      ]
     },
     "metadata": {},
     "output_type": "display_data"
    }
   ],
   "source": [
    "marker = itertools.cycle(('o', 's', '^', 'D', 'v', 'X', 'd', '+'))\n",
    "labels = ['0', '40', '200', '1000', '5000']\n",
    "plt.figure(figsize=(8, 5))\n",
    "for i, acc in enumerate(adv_acc_w):\n",
    "    plt.plot(steps, acc, label=labels[i], marker=next(marker))\n",
    "plt.xlabel('Number of steps used to generate PGD adversarial examples')\n",
    "plt.ylabel('Accuracy (%)')\n",
    "legend = plt.legend(title='Layer Width', fontsize='x-large', loc='upper right')\n",
    "plt.setp(legend.get_title(), fontsize='x-large')\n",
    "legend._legend_box.align = \"right\"\n",
    "plt.savefig('./fig/gauss_500_width.pdf', bbox_inches='tight')\n",
    "plt.show()"
   ]
  },
  {
   "cell_type": "markdown",
   "metadata": {},
   "source": [
    "Training set size (0.01, 0.1, 0.5, 2, 5)"
   ]
  },
  {
   "cell_type": "code",
   "execution_count": 78,
   "metadata": {},
   "outputs": [],
   "source": [
    "path = './tmp/gauss/'"
   ]
  },
  {
   "cell_type": "code",
   "execution_count": 12,
   "metadata": {
    "scrolled": true
   },
   "outputs": [
    {
     "name": "stderr",
     "output_type": "stream",
     "text": [
      "/home/chawins/.conda/envs/tsa3/lib/python3.6/site-packages/sklearn/model_selection/_split.py:2026: FutureWarning: From version 0.21, test_size will always complement train_size unless both are specified.\n",
      "  FutureWarning)\n"
     ]
    },
    {
     "name": "stdout",
     "output_type": "stream",
     "text": [
      "Train on 6000 samples, validate on 10000 samples\n",
      "Epoch 1/50\n",
      "6000/6000 [==============================] - 4s 717us/step - loss: 0.0901 - acc: 0.9630 - val_loss: 0.0276 - val_acc: 0.9903\n",
      "Epoch 2/50\n",
      "6000/6000 [==============================] - 2s 302us/step - loss: 0.0088 - acc: 0.9967 - val_loss: 0.0208 - val_acc: 0.9930\n",
      "Epoch 3/50\n",
      "6000/6000 [==============================] - 2s 297us/step - loss: 0.0047 - acc: 0.9992 - val_loss: 0.0214 - val_acc: 0.9930\n",
      "Epoch 4/50\n",
      "6000/6000 [==============================] - 2s 288us/step - loss: 0.0062 - acc: 0.9973 - val_loss: 0.0305 - val_acc: 0.9906\n",
      "Epoch 5/50\n",
      "6000/6000 [==============================] - 2s 316us/step - loss: 0.0062 - acc: 0.9982 - val_loss: 0.0288 - val_acc: 0.9920\n",
      "Epoch 6/50\n",
      "6000/6000 [==============================] - 2s 291us/step - loss: 0.0023 - acc: 0.9990 - val_loss: 0.0299 - val_acc: 0.9926\n",
      "Epoch 7/50\n",
      "6000/6000 [==============================] - 2s 296us/step - loss: 0.0019 - acc: 0.9992 - val_loss: 0.0289 - val_acc: 0.9920\n",
      "10000/10000 [==============================] - 1s 77us/step\n",
      "[0.02893858062393292, 0.992]\n"
     ]
    }
   ],
   "source": [
    "for r in [0.1]:\n",
    "    \n",
    "    model = build_dnn_wd(d, 1600, 4) \n",
    "    x_t, _, y_t, _ = train_test_split(x_train, y_train, train_size=r)\n",
    "    y_t_cat = keras.utils.to_categorical(y_t)\n",
    "    \n",
    "    model.fit(x_t, y_t_cat,\n",
    "               batch_size=50,\n",
    "               epochs=50,\n",
    "               verbose=1,\n",
    "               callbacks=[earlystop],\n",
    "               validation_data=(x_test, y_test_cat))\n",
    "    #model.save_weights('{}weights_d{}_L_train{}.h5'.format(path, d, r))\n",
    "    print(model.evaluate(x_test, y_test_cat))"
   ]
  },
  {
   "cell_type": "code",
   "execution_count": 120,
   "metadata": {},
   "outputs": [],
   "source": [
    "model = build_dnn_wd(d, 2000, 5) \n",
    "model.load_weights('./tmp/gauss/weights_d500_2000-5_train0.01.h5')"
   ]
  },
  {
   "cell_type": "code",
   "execution_count": 117,
   "metadata": {
    "scrolled": true
   },
   "outputs": [
    {
     "name": "stdout",
     "output_type": "stream",
     "text": [
      "200/200 [==============================] - 0s 2ms/step\n",
      "0.89\n",
      "200/200 [==============================] - 0s 92us/step\n",
      "0.75\n",
      "200/200 [==============================] - 0s 99us/step\n",
      "0.555\n",
      "200/200 [==============================] - 0s 97us/step\n",
      "0.39\n",
      "200/200 [==============================] - 0s 105us/step\n",
      "0.225\n",
      "200/200 [==============================] - 0s 99us/step\n",
      "0.13\n",
      "200/200 [==============================] - 0s 118us/step\n",
      "0.1\n",
      "200/200 [==============================] - 0s 99us/step\n",
      "0.055\n",
      "200/200 [==============================] - 0s 100us/step\n",
      "0.025\n"
     ]
    },
    {
     "ename": "KeyboardInterrupt",
     "evalue": "",
     "output_type": "error",
     "traceback": [
      "\u001b[0;31m---------------------------------------------------------------------------\u001b[0m",
      "\u001b[0;31mKeyboardInterrupt\u001b[0m                         Traceback (most recent call last)",
      "\u001b[0;32m<ipython-input-117-270df89371ef>\u001b[0m in \u001b[0;36m<module>\u001b[0;34m()\u001b[0m\n\u001b[1;32m      2\u001b[0m \u001b[0;32mfor\u001b[0m \u001b[0mn_step\u001b[0m \u001b[0;32min\u001b[0m \u001b[0msteps\u001b[0m\u001b[0;34m:\u001b[0m\u001b[0;34m\u001b[0m\u001b[0m\n\u001b[1;32m      3\u001b[0m     x_adv = PGD(model, x_test[:200], y_test[:200], grad_fn=None, norm=\"inf\",\n\u001b[0;32m----> 4\u001b[0;31m                 n_step=n_step, step_size=0.01, target=False, init_rnd=0.)\n\u001b[0m\u001b[1;32m      5\u001b[0m     \u001b[0mscore\u001b[0m \u001b[0;34m=\u001b[0m \u001b[0mmodel\u001b[0m\u001b[0;34m.\u001b[0m\u001b[0mevaluate\u001b[0m\u001b[0;34m(\u001b[0m\u001b[0mx_adv\u001b[0m\u001b[0;34m,\u001b[0m \u001b[0my_test_cat\u001b[0m\u001b[0;34m[\u001b[0m\u001b[0;34m:\u001b[0m\u001b[0;36m200\u001b[0m\u001b[0;34m]\u001b[0m\u001b[0;34m)\u001b[0m\u001b[0;34m\u001b[0m\u001b[0m\n\u001b[1;32m      6\u001b[0m     \u001b[0mprint\u001b[0m\u001b[0;34m(\u001b[0m\u001b[0mscore\u001b[0m\u001b[0;34m[\u001b[0m\u001b[0;36m1\u001b[0m\u001b[0;34m]\u001b[0m\u001b[0;34m)\u001b[0m\u001b[0;34m\u001b[0m\u001b[0m\n",
      "\u001b[0;32m~/princeton_thesis/lib/attacks.py\u001b[0m in \u001b[0;36mPGD\u001b[0;34m(model, x, y, grad_fn, norm, n_step, step_size, target, init_rnd, proj, early_stop)\u001b[0m\n\u001b[1;32m    344\u001b[0m         \u001b[0;31m# Start update in steps\u001b[0m\u001b[0;34m\u001b[0m\u001b[0;34m\u001b[0m\u001b[0m\n\u001b[1;32m    345\u001b[0m         \u001b[0;32mfor\u001b[0m \u001b[0m_\u001b[0m \u001b[0;32min\u001b[0m \u001b[0mrange\u001b[0m\u001b[0;34m(\u001b[0m\u001b[0mn_step\u001b[0m\u001b[0;34m)\u001b[0m\u001b[0;34m:\u001b[0m\u001b[0;34m\u001b[0m\u001b[0m\n\u001b[0;32m--> 346\u001b[0;31m             \u001b[0mgrad\u001b[0m \u001b[0;34m=\u001b[0m \u001b[0mgrad_fn\u001b[0m\u001b[0;34m(\u001b[0m\u001b[0;34m[\u001b[0m\u001b[0mx_in\u001b[0m\u001b[0;34m.\u001b[0m\u001b[0mreshape\u001b[0m\u001b[0;34m(\u001b[0m\u001b[0mxshape\u001b[0m\u001b[0;34m)\u001b[0m\u001b[0;34m,\u001b[0m \u001b[0my_cat\u001b[0m\u001b[0;34m[\u001b[0m\u001b[0mi\u001b[0m\u001b[0;34m]\u001b[0m\u001b[0;34m,\u001b[0m \u001b[0;36m0\u001b[0m\u001b[0;34m]\u001b[0m\u001b[0;34m)\u001b[0m\u001b[0;34m[\u001b[0m\u001b[0;36m0\u001b[0m\u001b[0;34m]\u001b[0m\u001b[0;34m[\u001b[0m\u001b[0;36m0\u001b[0m\u001b[0;34m]\u001b[0m\u001b[0;34m\u001b[0m\u001b[0m\n\u001b[0m\u001b[1;32m    347\u001b[0m             \u001b[0;32mif\u001b[0m \u001b[0mtarget\u001b[0m\u001b[0;34m:\u001b[0m\u001b[0;34m\u001b[0m\u001b[0m\n\u001b[1;32m    348\u001b[0m                 \u001b[0mgrad\u001b[0m \u001b[0;34m*=\u001b[0m \u001b[0;34m-\u001b[0m\u001b[0;36m1\u001b[0m\u001b[0;34m\u001b[0m\u001b[0m\n",
      "\u001b[0;32m~/.conda/envs/tsa3/lib/python3.6/site-packages/keras/backend/tensorflow_backend.py\u001b[0m in \u001b[0;36m__call__\u001b[0;34m(self, inputs)\u001b[0m\n\u001b[1;32m   2476\u001b[0m         \u001b[0msession\u001b[0m \u001b[0;34m=\u001b[0m \u001b[0mget_session\u001b[0m\u001b[0;34m(\u001b[0m\u001b[0;34m)\u001b[0m\u001b[0;34m\u001b[0m\u001b[0m\n\u001b[1;32m   2477\u001b[0m         updated = session.run(fetches=fetches, feed_dict=feed_dict,\n\u001b[0;32m-> 2478\u001b[0;31m                               **self.session_kwargs)\n\u001b[0m\u001b[1;32m   2479\u001b[0m         \u001b[0;32mreturn\u001b[0m \u001b[0mupdated\u001b[0m\u001b[0;34m[\u001b[0m\u001b[0;34m:\u001b[0m\u001b[0mlen\u001b[0m\u001b[0;34m(\u001b[0m\u001b[0mself\u001b[0m\u001b[0;34m.\u001b[0m\u001b[0moutputs\u001b[0m\u001b[0;34m)\u001b[0m\u001b[0;34m]\u001b[0m\u001b[0;34m\u001b[0m\u001b[0m\n\u001b[1;32m   2480\u001b[0m \u001b[0;34m\u001b[0m\u001b[0m\n",
      "\u001b[0;32m~/.conda/envs/tsa3/lib/python3.6/site-packages/tensorflow/python/client/session.py\u001b[0m in \u001b[0;36mrun\u001b[0;34m(self, fetches, feed_dict, options, run_metadata)\u001b[0m\n\u001b[1;32m    903\u001b[0m     \u001b[0;32mtry\u001b[0m\u001b[0;34m:\u001b[0m\u001b[0;34m\u001b[0m\u001b[0m\n\u001b[1;32m    904\u001b[0m       result = self._run(None, fetches, feed_dict, options_ptr,\n\u001b[0;32m--> 905\u001b[0;31m                          run_metadata_ptr)\n\u001b[0m\u001b[1;32m    906\u001b[0m       \u001b[0;32mif\u001b[0m \u001b[0mrun_metadata\u001b[0m\u001b[0;34m:\u001b[0m\u001b[0;34m\u001b[0m\u001b[0m\n\u001b[1;32m    907\u001b[0m         \u001b[0mproto_data\u001b[0m \u001b[0;34m=\u001b[0m \u001b[0mtf_session\u001b[0m\u001b[0;34m.\u001b[0m\u001b[0mTF_GetBuffer\u001b[0m\u001b[0;34m(\u001b[0m\u001b[0mrun_metadata_ptr\u001b[0m\u001b[0;34m)\u001b[0m\u001b[0;34m\u001b[0m\u001b[0m\n",
      "\u001b[0;32m~/.conda/envs/tsa3/lib/python3.6/site-packages/tensorflow/python/client/session.py\u001b[0m in \u001b[0;36m_run\u001b[0;34m(self, handle, fetches, feed_dict, options, run_metadata)\u001b[0m\n\u001b[1;32m   1138\u001b[0m     \u001b[0;32mif\u001b[0m \u001b[0mfinal_fetches\u001b[0m \u001b[0;32mor\u001b[0m \u001b[0mfinal_targets\u001b[0m \u001b[0;32mor\u001b[0m \u001b[0;34m(\u001b[0m\u001b[0mhandle\u001b[0m \u001b[0;32mand\u001b[0m \u001b[0mfeed_dict_tensor\u001b[0m\u001b[0;34m)\u001b[0m\u001b[0;34m:\u001b[0m\u001b[0;34m\u001b[0m\u001b[0m\n\u001b[1;32m   1139\u001b[0m       results = self._do_run(handle, final_targets, final_fetches,\n\u001b[0;32m-> 1140\u001b[0;31m                              feed_dict_tensor, options, run_metadata)\n\u001b[0m\u001b[1;32m   1141\u001b[0m     \u001b[0;32melse\u001b[0m\u001b[0;34m:\u001b[0m\u001b[0;34m\u001b[0m\u001b[0m\n\u001b[1;32m   1142\u001b[0m       \u001b[0mresults\u001b[0m \u001b[0;34m=\u001b[0m \u001b[0;34m[\u001b[0m\u001b[0;34m]\u001b[0m\u001b[0;34m\u001b[0m\u001b[0m\n",
      "\u001b[0;32m~/.conda/envs/tsa3/lib/python3.6/site-packages/tensorflow/python/client/session.py\u001b[0m in \u001b[0;36m_do_run\u001b[0;34m(self, handle, target_list, fetch_list, feed_dict, options, run_metadata)\u001b[0m\n\u001b[1;32m   1319\u001b[0m     \u001b[0;32mif\u001b[0m \u001b[0mhandle\u001b[0m \u001b[0;32mis\u001b[0m \u001b[0;32mNone\u001b[0m\u001b[0;34m:\u001b[0m\u001b[0;34m\u001b[0m\u001b[0m\n\u001b[1;32m   1320\u001b[0m       return self._do_call(_run_fn, feeds, fetches, targets, options,\n\u001b[0;32m-> 1321\u001b[0;31m                            run_metadata)\n\u001b[0m\u001b[1;32m   1322\u001b[0m     \u001b[0;32melse\u001b[0m\u001b[0;34m:\u001b[0m\u001b[0;34m\u001b[0m\u001b[0m\n\u001b[1;32m   1323\u001b[0m       \u001b[0;32mreturn\u001b[0m \u001b[0mself\u001b[0m\u001b[0;34m.\u001b[0m\u001b[0m_do_call\u001b[0m\u001b[0;34m(\u001b[0m\u001b[0m_prun_fn\u001b[0m\u001b[0;34m,\u001b[0m \u001b[0mhandle\u001b[0m\u001b[0;34m,\u001b[0m \u001b[0mfeeds\u001b[0m\u001b[0;34m,\u001b[0m \u001b[0mfetches\u001b[0m\u001b[0;34m)\u001b[0m\u001b[0;34m\u001b[0m\u001b[0m\n",
      "\u001b[0;32m~/.conda/envs/tsa3/lib/python3.6/site-packages/tensorflow/python/client/session.py\u001b[0m in \u001b[0;36m_do_call\u001b[0;34m(self, fn, *args)\u001b[0m\n\u001b[1;32m   1325\u001b[0m   \u001b[0;32mdef\u001b[0m \u001b[0m_do_call\u001b[0m\u001b[0;34m(\u001b[0m\u001b[0mself\u001b[0m\u001b[0;34m,\u001b[0m \u001b[0mfn\u001b[0m\u001b[0;34m,\u001b[0m \u001b[0;34m*\u001b[0m\u001b[0margs\u001b[0m\u001b[0;34m)\u001b[0m\u001b[0;34m:\u001b[0m\u001b[0;34m\u001b[0m\u001b[0m\n\u001b[1;32m   1326\u001b[0m     \u001b[0;32mtry\u001b[0m\u001b[0;34m:\u001b[0m\u001b[0;34m\u001b[0m\u001b[0m\n\u001b[0;32m-> 1327\u001b[0;31m       \u001b[0;32mreturn\u001b[0m \u001b[0mfn\u001b[0m\u001b[0;34m(\u001b[0m\u001b[0;34m*\u001b[0m\u001b[0margs\u001b[0m\u001b[0;34m)\u001b[0m\u001b[0;34m\u001b[0m\u001b[0m\n\u001b[0m\u001b[1;32m   1328\u001b[0m     \u001b[0;32mexcept\u001b[0m \u001b[0merrors\u001b[0m\u001b[0;34m.\u001b[0m\u001b[0mOpError\u001b[0m \u001b[0;32mas\u001b[0m \u001b[0me\u001b[0m\u001b[0;34m:\u001b[0m\u001b[0;34m\u001b[0m\u001b[0m\n\u001b[1;32m   1329\u001b[0m       \u001b[0mmessage\u001b[0m \u001b[0;34m=\u001b[0m \u001b[0mcompat\u001b[0m\u001b[0;34m.\u001b[0m\u001b[0mas_text\u001b[0m\u001b[0;34m(\u001b[0m\u001b[0me\u001b[0m\u001b[0;34m.\u001b[0m\u001b[0mmessage\u001b[0m\u001b[0;34m)\u001b[0m\u001b[0;34m\u001b[0m\u001b[0m\n",
      "\u001b[0;32m~/.conda/envs/tsa3/lib/python3.6/site-packages/tensorflow/python/client/session.py\u001b[0m in \u001b[0;36m_run_fn\u001b[0;34m(feed_dict, fetch_list, target_list, options, run_metadata)\u001b[0m\n\u001b[1;32m   1310\u001b[0m       \u001b[0mself\u001b[0m\u001b[0;34m.\u001b[0m\u001b[0m_extend_graph\u001b[0m\u001b[0;34m(\u001b[0m\u001b[0;34m)\u001b[0m\u001b[0;34m\u001b[0m\u001b[0m\n\u001b[1;32m   1311\u001b[0m       return self._call_tf_sessionrun(\n\u001b[0;32m-> 1312\u001b[0;31m           options, feed_dict, fetch_list, target_list, run_metadata)\n\u001b[0m\u001b[1;32m   1313\u001b[0m \u001b[0;34m\u001b[0m\u001b[0m\n\u001b[1;32m   1314\u001b[0m     \u001b[0;32mdef\u001b[0m \u001b[0m_prun_fn\u001b[0m\u001b[0;34m(\u001b[0m\u001b[0mhandle\u001b[0m\u001b[0;34m,\u001b[0m \u001b[0mfeed_dict\u001b[0m\u001b[0;34m,\u001b[0m \u001b[0mfetch_list\u001b[0m\u001b[0;34m)\u001b[0m\u001b[0;34m:\u001b[0m\u001b[0;34m\u001b[0m\u001b[0m\n",
      "\u001b[0;32m~/.conda/envs/tsa3/lib/python3.6/site-packages/tensorflow/python/client/session.py\u001b[0m in \u001b[0;36m_call_tf_sessionrun\u001b[0;34m(self, options, feed_dict, fetch_list, target_list, run_metadata)\u001b[0m\n\u001b[1;32m   1418\u001b[0m         return tf_session.TF_Run(\n\u001b[1;32m   1419\u001b[0m             \u001b[0mself\u001b[0m\u001b[0;34m.\u001b[0m\u001b[0m_session\u001b[0m\u001b[0;34m,\u001b[0m \u001b[0moptions\u001b[0m\u001b[0;34m,\u001b[0m \u001b[0mfeed_dict\u001b[0m\u001b[0;34m,\u001b[0m \u001b[0mfetch_list\u001b[0m\u001b[0;34m,\u001b[0m \u001b[0mtarget_list\u001b[0m\u001b[0;34m,\u001b[0m\u001b[0;34m\u001b[0m\u001b[0m\n\u001b[0;32m-> 1420\u001b[0;31m             status, run_metadata)\n\u001b[0m\u001b[1;32m   1421\u001b[0m \u001b[0;34m\u001b[0m\u001b[0m\n\u001b[1;32m   1422\u001b[0m   \u001b[0;32mdef\u001b[0m \u001b[0m_call_tf_sessionprun\u001b[0m\u001b[0;34m(\u001b[0m\u001b[0mself\u001b[0m\u001b[0;34m,\u001b[0m \u001b[0mhandle\u001b[0m\u001b[0;34m,\u001b[0m \u001b[0mfeed_dict\u001b[0m\u001b[0;34m,\u001b[0m \u001b[0mfetch_list\u001b[0m\u001b[0;34m)\u001b[0m\u001b[0;34m:\u001b[0m\u001b[0;34m\u001b[0m\u001b[0m\n",
      "\u001b[0;31mKeyboardInterrupt\u001b[0m: "
     ]
    }
   ],
   "source": [
    "steps = np.array(range(10, 110, 10))\n",
    "for n_step in steps:\n",
    "    x_adv = PGD(model, x_test, y_test, grad_fn=None, norm=\"inf\",\n",
    "                n_step=n_step, step_size=0.01, target=False, init_rnd=0.)\n",
    "    score = model.evaluate(x_adv, y_test_cat)\n",
    "    print(score[1])"
   ]
  },
  {
   "cell_type": "code",
   "execution_count": null,
   "metadata": {},
   "outputs": [],
   "source": [
    "model = build_dnn_wd(d, 2000, 5) \n",
    "model.load_weights('./tmp/gauss/weights_d500_2000-5_train0.1.h5')\n",
    "steps = np.array(range(10, 110, 10))\n",
    "for n_step in steps:\n",
    "    x_adv = PGD(model, x_test[:200], y_test[:200], grad_fn=None, norm=\"inf\",\n",
    "                n_step=n_step, step_size=0.01, target=False, init_rnd=0.)\n",
    "    score = model.evaluate(x_adv, y_test_cat[:200])\n",
    "    print(score[1])"
   ]
  },
  {
   "cell_type": "code",
   "execution_count": 120,
   "metadata": {},
   "outputs": [],
   "source": [
    "path = './tmp/gauss/'\n",
    "#d = 100 \n",
    "d = 500\n",
    "train = pickle.load(open('{}train-info_d{}_train.p'.format(path, d), 'rb'))\n",
    "steps, adv_acc = pickle.load(open('{}adv_acc_d{}_train.p'.format(path, d), 'rb'))\n",
    "adv_acc = np.array(adv_acc) * 100"
   ]
  },
  {
   "cell_type": "code",
   "execution_count": 121,
   "metadata": {
    "scrolled": true
   },
   "outputs": [
    {
     "data": {
      "image/png": "[encoded data removed]",
      "text/plain": [
       "<Figure size 576x360 with 1 Axes>"
      ]
     },
     "metadata": {},
     "output_type": "display_data"
    },
    {
     "data": {
      "image/png": "[encoded data removed]",
      "text/plain": [
       "<Figure size 576x360 with 1 Axes>"
      ]
     },
     "metadata": {},
     "output_type": "display_data"
    },
    {
     "data": {
      "image/png": "[encoded data removed]",
      "text/plain": [
       "<Figure size 576x360 with 1 Axes>"
      ]
     },
     "metadata": {},
     "output_type": "display_data"
    }
   ],
   "source": [
    "marker = ['o', 's', '^', 'D', 'v', 'X', 'd', '+']\n",
    "labels = [r'$r_{train}=0.01$', r'$r_{train}=0.1$', r'$r_{train}=0.5$']\n",
    "\n",
    "for i in range(3):\n",
    "    plt.figure(figsize=(8, 5))\n",
    "    plt.plot(steps, adv_acc[0][i], label=labels[0], marker=marker[0])\n",
    "    plt.plot(steps, adv_acc[1][i], label=labels[1], marker=marker[1])\n",
    "    plt.plot(steps, adv_acc[2][i], label=labels[2], marker=marker[2])\n",
    "    plt.legend()\n",
    "    plt.xlabel('Number of steps used to generate PGD adversarial examples')\n",
    "    plt.ylabel('Accuracy (%)')\n",
    "    legend = plt.legend(fontsize='x-large', loc='upper right')\n",
    "    plt.setp(legend.get_title(), fontsize='x-large')\n",
    "    legend._legend_box.align = \"right\"\n",
    "    plt.savefig('./fig/gauss_500_train_{}.pdf'.format(i), bbox_inches='tight')\n",
    "    plt.show()"
   ]
  },
  {
   "cell_type": "code",
   "execution_count": 122,
   "metadata": {
    "scrolled": true
   },
   "outputs": [
    {
     "data": {
      "image/png": "[encoded data removed]",
      "text/plain": [
       "<Figure size 576x360 with 1 Axes>"
      ]
     },
     "metadata": {},
     "output_type": "display_data"
    },
    {
     "data": {
      "image/png": "[encoded data removed]",
      "text/plain": [
       "<Figure size 576x360 with 1 Axes>"
      ]
     },
     "metadata": {},
     "output_type": "display_data"
    },
    {
     "data": {
      "image/png": "[encoded data removed]",
      "text/plain": [
       "<Figure size 576x360 with 1 Axes>"
      ]
     },
     "metadata": {},
     "output_type": "display_data"
    }
   ],
   "source": [
    "marker = ['o', 's', '^', 'D', 'v', 'X', 'd', '+']\n",
    "labels = ['(1000, 2)', '(1600, 4)', '(2000, 5)']\n",
    "\n",
    "for i in range(3):\n",
    "    plt.figure(figsize=(8, 5))\n",
    "    plt.plot(steps, adv_acc[i][0], label=labels[0], marker=marker[0])\n",
    "    plt.plot(steps, adv_acc[i][1], label=labels[1], marker=marker[1])\n",
    "    plt.plot(steps, adv_acc[i][2], label=labels[2], marker=marker[2])\n",
    "    plt.legend()\n",
    "    plt.xlabel('Number of steps used to generate PGD adversarial examples')\n",
    "    plt.ylabel('Accuracy (%)')\n",
    "    legend = plt.legend(title='Size: (Width, Depth)', fontsize='x-large', loc='upper right')\n",
    "    plt.setp(legend.get_title(), fontsize='x-large')\n",
    "    legend._legend_box.align = \"right\"\n",
    "    plt.savefig('./fig/gauss_500_size_{}.pdf'.format(i), bbox_inches='tight')\n",
    "    plt.show()"
   ]
  },
  {
   "cell_type": "code",
   "execution_count": 133,
   "metadata": {},
   "outputs": [],
   "source": [
    "train100 = pickle.load(open('./tmp/gauss/train-info_d100_train.p', 'rb'))\n",
    "train500 = pickle.load(open('./tmp/gauss/train-info_d500_train.p', 'rb'))"
   ]
  },
  {
   "cell_type": "code",
   "execution_count": 134,
   "metadata": {},
   "outputs": [
    {
     "data": {
      "text/plain": [
       "[[[4.662867373554036e-05, 1.0, 0.015581710898556048, 0.9938],\n",
       "  [7.927266112043678e-06, 1.0, 0.022133727413235466, 0.9929],\n",
       "  [1.6966089922334505e-05, 1.0, 0.02964934873702914, 0.991]],\n",
       " [[4.5804963756381765e-05, 1.0, 0.010179972274770807, 0.9958],\n",
       "  [0.0001540543025799804, 1.0, 0.023497599331346215, 0.9942],\n",
       "  [0.0001036922332746606, 1.0, 0.01753131359720237, 0.9942]],\n",
       " [[0.00013321084526489056, 1.0, 0.01282117299372867, 0.9963],\n",
       "  [0.0004636985709279448, 0.9999, 0.01220504256905767, 0.9966],\n",
       "  [0.0016665682506907616, 0.9999666666666667, 0.012579810577001263, 0.9959]]]"
      ]
     },
     "execution_count": 134,
     "metadata": {},
     "output_type": "execute_result"
    }
   ],
   "source": [
    "train100"
   ]
  },
  {
   "cell_type": "code",
   "execution_count": 135,
   "metadata": {},
   "outputs": [
    {
     "data": {
      "text/plain": [
       "[[[0.00014040442649275065, 1.0, 0.03881420908346772, 0.9867],\n",
       "  [3.157036577855858e-06, 1.0, 0.043850115190818904, 0.9829],\n",
       "  [4.855841956062553e-06, 1.0, 0.06367428877530619, 0.9779]],\n",
       " [[0.00034262781877373644, 1.0, 0.03819325614446091, 0.9919],\n",
       "  [0.0024741302417151056, 0.9988333333333334, 0.04946269133056534, 0.99],\n",
       "  [7.601274789125274e-05, 1.0, 0.02491917304961189, 0.993]],\n",
       " [[0.00034652448140455713, 0.9999, 0.012304986752893262, 0.9962],\n",
       "  [0.0003636400196318843, 0.9999666666666667, 0.012071017920579616, 0.9964],\n",
       "  [0.0008902975676974696, 0.9998333333333334, 0.015450470417831094, 0.9952]]]"
      ]
     },
     "execution_count": 135,
     "metadata": {},
     "output_type": "execute_result"
    }
   ],
   "source": [
    "train500"
   ]
  },
  {
   "cell_type": "markdown",
   "metadata": {},
   "source": [
    "Combine plot"
   ]
  },
  {
   "cell_type": "code",
   "execution_count": 12,
   "metadata": {},
   "outputs": [],
   "source": [
    "svm = [0.986, 0.9537, 0.8592, 0.7054, 0.4923, 0.288, 0.1364, 0.0503, 0.0126, 0.0021]\n",
    "svm = np.array(svm) * 100"
   ]
  },
  {
   "cell_type": "code",
   "execution_count": 14,
   "metadata": {},
   "outputs": [
    {
     "data": {
      "image/png": "[encoded data removed]",
      "text/plain": [
       "<Figure size 576x360 with 1 Axes>"
      ]
     },
     "metadata": {},
     "output_type": "display_data"
    }
   ],
   "source": [
    "marker = itertools.cycle(('o', 's', '^', 'D', 'v', 'X', 'd', '+'))\n",
    "labels = ['0', '40', '200', '1000', '5000']\n",
    "plt.figure(figsize=(8, 5))\n",
    "plt.plot(steps, svm, label='Linear SVM', marker=next(marker))\n",
    "plt.plot(steps, adv_acc_d[0], label='No hidden', marker=next(marker))\n",
    "plt.plot(steps, adv_acc_d[-1], label='Depth 16', marker=next(marker))\n",
    "plt.plot(steps, adv_acc_w[1], label='Width 40', marker=next(marker))\n",
    "plt.plot(steps, adv_acc_w[-1], label='Width 5000', marker=next(marker))\n",
    "\n",
    "plt.xlabel('Number of steps used to generate PGD adversarial examples')\n",
    "plt.ylabel('Accuracy (%)')\n",
    "legend = plt.legend(fontsize='x-large', loc='upper right')\n",
    "plt.setp(legend.get_title(), fontsize='x-large')\n",
    "legend._legend_box.align = \"right\"\n",
    "plt.savefig('./fig/gauss_combine.pdf', bbox_inches='tight')\n",
    "plt.show()"
   ]
  },
  {
   "cell_type": "markdown",
   "metadata": {},
   "source": [
    "## Uniform spheres"
   ]
  },
  {
   "cell_type": "code",
   "execution_count": 16,
   "metadata": {},
   "outputs": [
    {
     "name": "stderr",
     "output_type": "stream",
     "text": [
      "/home/chawins/.conda/envs/tsa3/lib/python3.6/site-packages/sklearn/model_selection/_split.py:2026: FutureWarning: From version 0.21, test_size will always complement train_size unless both are specified.\n",
      "  FutureWarning)\n"
     ]
    }
   ],
   "source": [
    "path = './data/sphere/'\n",
    "n = 2000 # 70000\n",
    "n_train = 1000 # 60000\n",
    "d = 2\n",
    "\n",
    "r = 1\n",
    "R = 1.3\n",
    "x = np.random.normal(loc=0, scale=1, size=(n, d))\n",
    "x /= np.linalg.norm(x, axis=1, keepdims=True)\n",
    "x[:n//2] *= r\n",
    "x[n//2:] *= R\n",
    "y = np.concatenate(([0] * (n//2), [1] * (n//2)))\n",
    "x_train, x_test, y_train, y_test = train_test_split(\n",
    "    x, y, train_size=n_train)"
   ]
  },
  {
   "cell_type": "code",
   "execution_count": 17,
   "metadata": {},
   "outputs": [],
   "source": [
    "x1 = x_train[y_train==0, 0]\n",
    "y1 = x_train[y_train==0, 1]\n",
    "x2 = x_train[y_train==1, 0]\n",
    "y2 = x_train[y_train==1, 1]"
   ]
  },
  {
   "cell_type": "code",
   "execution_count": 33,
   "metadata": {},
   "outputs": [
    {
     "data": {
      "image/png": "[encoded data removed]",
      "text/plain": [
       "<Figure size 432x432 with 1 Axes>"
      ]
     },
     "metadata": {},
     "output_type": "display_data"
    }
   ],
   "source": [
    "import matplotlib.patches as patches\n",
    "\n",
    "fig = plt.figure(figsize=(6, 6))\n",
    "ax = fig.add_subplot(111, aspect='equal')\n",
    "ax.add_patch(\n",
    "    patches.Circle(\n",
    "        (0, 0),\n",
    "        1.15,\n",
    "        linewidth=2,\n",
    "        linestyle='dotted',\n",
    "        color='g',\n",
    "        alpha=0.3\n",
    "    )\n",
    ")\n",
    "plt.scatter(x1, y1, label='Zero', c='r', s=8)\n",
    "plt.scatter(x2, y2, label='One', c='b', s=8)\n",
    "#plt.plot(np.arange(-1, 3)[::-1], np.arange(-1, 3), c='g', linewidth=3)\n",
    "#plt.xlabel('Number of steps used to generate PGD adversarial examples')\n",
    "#plt.ylabel('Accuracy (%)')\n",
    "# plt.xlim([-1, 2])\n",
    "# plt.ylim([-1, 2])\n",
    "#legend = plt.legend(title='Label', fontsize='x-large', markerscale=3, loc='best')\n",
    "plt.text(-1.2, 1.1, 'r=1.3', fontsize=15, color='b')\n",
    "plt.text(-0.6, 0.5, 'r=1', fontsize=15, color='r')\n",
    "#plt.text(0.4, -0.8, 'Optimal boundary', fontsize=15, color='g')\n",
    "plt.setp(legend.get_title(), fontsize='x-large')\n",
    "legend._legend_box.align = \"left\"\n",
    "plt.savefig('./fig/sphere_diagram.pdf', bbox_inches='tight')\n",
    "plt.show()"
   ]
  },
  {
   "cell_type": "code",
   "execution_count": 136,
   "metadata": {},
   "outputs": [],
   "source": [
    "y_train_cat = keras.utils.to_categorical(y_train)\n",
    "y_test_cat = keras.utils.to_categorical(y_test)"
   ]
  },
  {
   "cell_type": "code",
   "execution_count": 32,
   "metadata": {},
   "outputs": [],
   "source": [
    "pickle.dump([x_train, y_train, x_test, y_test], \n",
    "            open('{}sphere_d{}.p'.format(path, d), 'wb'), protocol=4)"
   ]
  },
  {
   "cell_type": "code",
   "execution_count": 12,
   "metadata": {},
   "outputs": [],
   "source": [
    "r = 0.1\n",
    "p = np.random.permutation(len(x_train))\n",
    "x_train, y_train = x_train[p], y_train[p]\n",
    "n_t = int(len(x_train) * r)\n",
    "x_t = np.concatenate(\n",
    "    (x_train[y_train == 0][:n_t // 2], x_train[y_train == 1][:n_t // 2]))\n",
    "y_t = np.concatenate(\n",
    "    (y_train[y_train == 0][:n_t // 2], y_train[y_train == 1][:n_t // 2]))\n",
    "y_t_cat = keras.utils.to_categorical(y_t)"
   ]
  },
  {
   "cell_type": "code",
   "execution_count": 5,
   "metadata": {},
   "outputs": [],
   "source": [
    "data_path = './data/sphere/'\n",
    "path = './tmp/sphere/'\n",
    "d = 500\n",
    "x_train, y_train, x_test, y_test = pickle.load(\n",
    "    open('{}sphere_d{}.p'.format(data_path, d), 'rb'))\n",
    "y_train_cat = keras.utils.to_categorical(y_train)\n",
    "y_test_cat = keras.utils.to_categorical(y_test)"
   ]
  },
  {
   "cell_type": "code",
   "execution_count": 8,
   "metadata": {},
   "outputs": [
    {
     "name": "stdout",
     "output_type": "stream",
     "text": [
      "60000/60000 [==============================] - 4s 66us/step\n",
      "[0.0003428103106659061, 1.0]\n",
      "10000/10000 [==============================] - 1s 60us/step\n",
      "[0.0006118757113465108, 1.0]\n"
     ]
    }
   ],
   "source": [
    "model = build_dnn_baseline(500)\n",
    "model.load_weights('./tmp/sphere/weights_d500_1000-2.h5')\n",
    "print(model.evaluate(x_train, y_train_cat))\n",
    "print(model.evaluate(x_test, y_test_cat))"
   ]
  },
  {
   "cell_type": "code",
   "execution_count": 21,
   "metadata": {},
   "outputs": [
    {
     "name": "stdout",
     "output_type": "stream",
     "text": [
      "60000/60000 [==============================] - 3s 50us/step\n",
      "[1.253188914997736e-05, 1.0]\n",
      "10000/10000 [==============================] - 1s 60us/step\n",
      "[1.2595931548275984e-05, 1.0]\n"
     ]
    }
   ],
   "source": [
    "model = Sequential()\n",
    "model.add(Lambda(lambda x: x ** 2, input_shape=(d,)))\n",
    "model.add(Dense(2, activation='linear'))\n",
    "model.compile(loss=output_fn,\n",
    "              optimizer=keras.optimizers.Adam(lr=1e-4),\n",
    "              metrics=['accuracy'])\n",
    "model.load_weights('./tmp/sphere/weights_d500_quad.h5')\n",
    "print(model.evaluate(x_train, y_train_cat))\n",
    "print(model.evaluate(x_test, y_test_cat))"
   ]
  },
  {
   "cell_type": "code",
   "execution_count": 8,
   "metadata": {
    "scrolled": true
   },
   "outputs": [],
   "source": [
    "reg = 1e-9\n",
    "model = Sequential()\n",
    "model.add(Dense(1000, activation='linear', input_shape=(d,), \n",
    "                kernel_regularizer=regularizers.l2(reg)))\n",
    "model.add(Lambda(lambda x: x ** 2))\n",
    "model.add(Dense(2, activation='linear',\n",
    "                kernel_regularizer=regularizers.l2(reg)))\n",
    "model.compile(loss=output_fn,\n",
    "              optimizer=keras.optimizers.Adam(lr=1e-4),\n",
    "              metrics=['accuracy'])"
   ]
  },
  {
   "cell_type": "code",
   "execution_count": 13,
   "metadata": {},
   "outputs": [
    {
     "name": "stdout",
     "output_type": "stream",
     "text": [
      "Train on 60000 samples, validate on 10000 samples\n",
      "Epoch 1/100\n",
      "60000/60000 [==============================] - 2s 38us/step - loss: 0.6831 - acc: 0.4996 - val_loss: 0.6719 - val_acc: 0.5049\n",
      "Epoch 2/100\n",
      "60000/60000 [==============================] - 2s 38us/step - loss: 0.6605 - acc: 0.4992 - val_loss: 0.6502 - val_acc: 0.5049\n",
      "Epoch 3/100\n",
      "60000/60000 [==============================] - 2s 38us/step - loss: 0.6378 - acc: 0.4992 - val_loss: 0.6329 - val_acc: 0.5049\n",
      "Epoch 4/100\n",
      "60000/60000 [==============================] - 2s 35us/step - loss: 0.6179 - acc: 0.4992 - val_loss: 0.6180 - val_acc: 0.5049\n",
      "Epoch 5/100\n",
      "60000/60000 [==============================] - 2s 30us/step - loss: 0.5951 - acc: 0.4992 - val_loss: 0.5966 - val_acc: 0.5049\n",
      "Epoch 6/100\n",
      "60000/60000 [==============================] - 2s 31us/step - loss: 0.5607 - acc: 0.5939 - val_loss: 0.5634 - val_acc: 0.6610\n",
      "Epoch 7/100\n",
      "60000/60000 [==============================] - 2s 29us/step - loss: 0.5107 - acc: 0.9223 - val_loss: 0.5186 - val_acc: 0.9458\n",
      "Epoch 8/100\n",
      "60000/60000 [==============================] - 2s 33us/step - loss: 0.4495 - acc: 0.9947 - val_loss: 0.4669 - val_acc: 0.9877\n",
      "Epoch 9/100\n",
      "60000/60000 [==============================] - 2s 30us/step - loss: 0.3833 - acc: 0.9993 - val_loss: 0.4125 - val_acc: 0.9972\n",
      "Epoch 10/100\n",
      "60000/60000 [==============================] - 2s 32us/step - loss: 0.3176 - acc: 0.9999 - val_loss: 0.3586 - val_acc: 0.9982\n",
      "Epoch 11/100\n",
      "60000/60000 [==============================] - 2s 33us/step - loss: 0.2570 - acc: 1.0000 - val_loss: 0.3076 - val_acc: 0.9986\n",
      "Epoch 12/100\n",
      "60000/60000 [==============================] - 2s 36us/step - loss: 0.2039 - acc: 1.0000 - val_loss: 0.2624 - val_acc: 0.9983\n",
      "Epoch 13/100\n",
      "60000/60000 [==============================] - 2s 34us/step - loss: 0.1595 - acc: 1.0000 - val_loss: 0.2225 - val_acc: 0.9981\n",
      "Epoch 14/100\n",
      "60000/60000 [==============================] - 2s 32us/step - loss: 0.1236 - acc: 1.0000 - val_loss: 0.1881 - val_acc: 0.9983\n",
      "Epoch 15/100\n",
      "60000/60000 [==============================] - 2s 32us/step - loss: 0.0952 - acc: 1.0000 - val_loss: 0.1603 - val_acc: 0.9978\n",
      "Epoch 16/100\n",
      "60000/60000 [==============================] - 2s 30us/step - loss: 0.0732 - acc: 1.0000 - val_loss: 0.1359 - val_acc: 0.9980\n",
      "Epoch 17/100\n",
      "60000/60000 [==============================] - 2s 30us/step - loss: 0.0562 - acc: 1.0000 - val_loss: 0.1169 - val_acc: 0.9978\n",
      "Epoch 18/100\n",
      "60000/60000 [==============================] - 2s 30us/step - loss: 0.0432 - acc: 1.0000 - val_loss: 0.1005 - val_acc: 0.9977\n",
      "Epoch 19/100\n",
      "60000/60000 [==============================] - 2s 31us/step - loss: 0.0332 - acc: 1.0000 - val_loss: 0.0875 - val_acc: 0.9976\n",
      "Epoch 20/100\n",
      "60000/60000 [==============================] - 2s 30us/step - loss: 0.0255 - acc: 1.0000 - val_loss: 0.0764 - val_acc: 0.9974\n",
      "Epoch 21/100\n",
      "60000/60000 [==============================] - 2s 30us/step - loss: 0.0197 - acc: 1.0000 - val_loss: 0.0670 - val_acc: 0.9973\n",
      "Epoch 22/100\n",
      "60000/60000 [==============================] - 2s 32us/step - loss: 0.0152 - acc: 1.0000 - val_loss: 0.0592 - val_acc: 0.9973\n",
      "Epoch 23/100\n",
      "60000/60000 [==============================] - 2s 36us/step - loss: 0.0117 - acc: 1.0000 - val_loss: 0.0529 - val_acc: 0.9972\n",
      "Epoch 24/100\n",
      "60000/60000 [==============================] - 2s 32us/step - loss: 0.0091 - acc: 1.0000 - val_loss: 0.0470 - val_acc: 0.9972\n",
      "Epoch 25/100\n",
      "60000/60000 [==============================] - 2s 31us/step - loss: 0.0070 - acc: 1.0000 - val_loss: 0.0423 - val_acc: 0.9972\n",
      "Epoch 26/100\n",
      "60000/60000 [==============================] - 2s 32us/step - loss: 0.0054 - acc: 1.0000 - val_loss: 0.0385 - val_acc: 0.9972\n",
      "Epoch 27/100\n",
      "60000/60000 [==============================] - 2s 31us/step - loss: 0.0042 - acc: 1.0000 - val_loss: 0.0352 - val_acc: 0.9971\n",
      "Epoch 28/100\n",
      "60000/60000 [==============================] - 2s 35us/step - loss: 0.0033 - acc: 1.0000 - val_loss: 0.0323 - val_acc: 0.9970\n",
      "Epoch 29/100\n",
      "60000/60000 [==============================] - 2s 36us/step - loss: 0.0025 - acc: 1.0000 - val_loss: 0.0295 - val_acc: 0.9969\n",
      "Epoch 30/100\n",
      "60000/60000 [==============================] - 2s 33us/step - loss: 0.0020 - acc: 1.0000 - val_loss: 0.0274 - val_acc: 0.9968\n",
      "Epoch 31/100\n",
      "60000/60000 [==============================] - 2s 33us/step - loss: 0.0015 - acc: 1.0000 - val_loss: 0.0252 - val_acc: 0.9968\n",
      "Epoch 32/100\n",
      "60000/60000 [==============================] - 2s 39us/step - loss: 0.0012 - acc: 1.0000 - val_loss: 0.0239 - val_acc: 0.9966\n",
      "Epoch 33/100\n",
      "60000/60000 [==============================] - 2s 40us/step - loss: 9.3855e-04 - acc: 1.0000 - val_loss: 0.0223 - val_acc: 0.9966\n",
      "Epoch 34/100\n",
      "60000/60000 [==============================] - 2s 36us/step - loss: 7.3334e-04 - acc: 1.0000 - val_loss: 0.0212 - val_acc: 0.9966\n",
      "Epoch 35/100\n",
      "60000/60000 [==============================] - 2s 30us/step - loss: 5.7388e-04 - acc: 1.0000 - val_loss: 0.0200 - val_acc: 0.9965\n",
      "Epoch 36/100\n",
      "60000/60000 [==============================] - 2s 31us/step - loss: 4.4976e-04 - acc: 1.0000 - val_loss: 0.0192 - val_acc: 0.9965\n",
      "Epoch 37/100\n",
      "60000/60000 [==============================] - 2s 30us/step - loss: 3.5325e-04 - acc: 1.0000 - val_loss: 0.0179 - val_acc: 0.9965\n",
      "Epoch 38/100\n",
      "60000/60000 [==============================] - 2s 30us/step - loss: 2.7815e-04 - acc: 1.0000 - val_loss: 0.0170 - val_acc: 0.9965\n",
      "Epoch 39/100\n",
      "60000/60000 [==============================] - 2s 30us/step - loss: 2.1959e-04 - acc: 1.0000 - val_loss: 0.0167 - val_acc: 0.9964\n",
      "Epoch 40/100\n",
      "60000/60000 [==============================] - 2s 29us/step - loss: 1.7395e-04 - acc: 1.0000 - val_loss: 0.0158 - val_acc: 0.9964\n",
      "Epoch 41/100\n",
      "60000/60000 [==============================] - 2s 30us/step - loss: 1.3839e-04 - acc: 1.0000 - val_loss: 0.0155 - val_acc: 0.9964\n",
      "Epoch 42/100\n",
      "60000/60000 [==============================] - 2s 30us/step - loss: 1.1063e-04 - acc: 1.0000 - val_loss: 0.0147 - val_acc: 0.9964\n",
      "Epoch 43/100\n",
      "60000/60000 [==============================] - 2s 30us/step - loss: 8.8994e-05 - acc: 1.0000 - val_loss: 0.0145 - val_acc: 0.9964\n",
      "Epoch 44/100\n",
      "60000/60000 [==============================] - 2s 31us/step - loss: 7.2101e-05 - acc: 1.0000 - val_loss: 0.0142 - val_acc: 0.9963\n",
      "Epoch 45/100\n",
      "60000/60000 [==============================] - 2s 33us/step - loss: 5.8908e-05 - acc: 1.0000 - val_loss: 0.0137 - val_acc: 0.9963\n",
      "Epoch 46/100\n",
      "60000/60000 [==============================] - 2s 33us/step - loss: 4.8614e-05 - acc: 1.0000 - val_loss: 0.0133 - val_acc: 0.9963\n",
      "Epoch 47/100\n",
      "60000/60000 [==============================] - 2s 35us/step - loss: 4.0581e-05 - acc: 1.0000 - val_loss: 0.0133 - val_acc: 0.9962\n",
      "Epoch 48/100\n",
      "60000/60000 [==============================] - 2s 37us/step - loss: 3.4300e-05 - acc: 1.0000 - val_loss: 0.0131 - val_acc: 0.9962\n",
      "Epoch 49/100\n",
      "60000/60000 [==============================] - 2s 33us/step - loss: 2.9394e-05 - acc: 1.0000 - val_loss: 0.0131 - val_acc: 0.9962\n",
      "Epoch 50/100\n",
      "60000/60000 [==============================] - 2s 31us/step - loss: 2.5559e-05 - acc: 1.0000 - val_loss: 0.0130 - val_acc: 0.9962\n",
      "Epoch 51/100\n",
      "60000/60000 [==============================] - 2s 33us/step - loss: 2.2565e-05 - acc: 1.0000 - val_loss: 0.0127 - val_acc: 0.9962\n",
      "Epoch 52/100\n",
      "60000/60000 [==============================] - 2s 32us/step - loss: 2.0216e-05 - acc: 1.0000 - val_loss: 0.0125 - val_acc: 0.9962\n",
      "Epoch 53/100\n",
      "60000/60000 [==============================] - 2s 31us/step - loss: 1.8376e-05 - acc: 1.0000 - val_loss: 0.0124 - val_acc: 0.9962\n",
      "Epoch 54/100\n",
      "60000/60000 [==============================] - 2s 36us/step - loss: 1.6933e-05 - acc: 1.0000 - val_loss: 0.0123 - val_acc: 0.9962\n",
      "Epoch 55/100\n",
      "60000/60000 [==============================] - 2s 39us/step - loss: 1.5797e-05 - acc: 1.0000 - val_loss: 0.0124 - val_acc: 0.9959\n",
      "Epoch 56/100\n",
      "60000/60000 [==============================] - 2s 34us/step - loss: 1.4903e-05 - acc: 1.0000 - val_loss: 0.0127 - val_acc: 0.9957\n",
      "Epoch 57/100\n",
      "60000/60000 [==============================] - 2s 33us/step - loss: 1.4198e-05 - acc: 1.0000 - val_loss: 0.0121 - val_acc: 0.9960\n",
      "Epoch 58/100\n",
      "60000/60000 [==============================] - 2s 31us/step - loss: 1.3638e-05 - acc: 1.0000 - val_loss: 0.0125 - val_acc: 0.9957\n"
     ]
    },
    {
     "name": "stdout",
     "output_type": "stream",
     "text": [
      "Epoch 59/100\n",
      "60000/60000 [==============================] - 2s 32us/step - loss: 1.3193e-05 - acc: 1.0000 - val_loss: 0.0124 - val_acc: 0.9957\n",
      "Epoch 60/100\n",
      "60000/60000 [==============================] - 2s 33us/step - loss: 1.2838e-05 - acc: 1.0000 - val_loss: 0.0123 - val_acc: 0.9957\n",
      "Epoch 61/100\n",
      "60000/60000 [==============================] - 2s 36us/step - loss: 1.2553e-05 - acc: 1.0000 - val_loss: 0.0122 - val_acc: 0.9957\n",
      "Epoch 62/100\n",
      "60000/60000 [==============================] - 2s 29us/step - loss: 1.2322e-05 - acc: 1.0000 - val_loss: 0.0123 - val_acc: 0.9957\n",
      "60000/60000 [==============================] - 3s 47us/step\n",
      "[1.3838375330184742e-05, 1.0]\n",
      "10000/10000 [==============================] - 1s 52us/step\n",
      "[0.01213082912559621, 0.996]\n"
     ]
    }
   ],
   "source": [
    "earlystop = keras.callbacks.EarlyStopping(monitor='val_loss', patience=5)\n",
    "checkpoint = keras.callbacks.ModelCheckpoint(\n",
    "    './tmp.h5', save_best_only=True, save_weights_only=True, period=1)\n",
    "model.fit(x_train, y_train_cat,\n",
    "          batch_size=128,\n",
    "          epochs=100,\n",
    "          verbose=1,\n",
    "          callbacks=[earlystop, checkpoint],\n",
    "          validation_data=(x_test, y_test_cat))\n",
    "model.load_weights('./tmp.h5')\n",
    "print(model.evaluate(x_train, y_train_cat))\n",
    "print(model.evaluate(x_test, y_test_cat))"
   ]
  },
  {
   "cell_type": "code",
   "execution_count": 14,
   "metadata": {},
   "outputs": [],
   "source": [
    "model.save_weights('{}weights_d{}_1000-quad_reg{}.h5'.format(path, d, reg))"
   ]
  },
  {
   "cell_type": "code",
   "execution_count": 37,
   "metadata": {},
   "outputs": [],
   "source": [
    "path = './tmp/sphere/'\n",
    "adv_acc = pickle.load(open(path + 'adv_acc_1m.p', 'rb'))\n",
    "x_adv = pickle.load(open(path + 'adv_1m.p', 'rb'))"
   ]
  },
  {
   "cell_type": "code",
   "execution_count": 38,
   "metadata": {},
   "outputs": [
    {
     "data": {
      "text/plain": [
       "[[0.0, 0.9522, 0.7943, 0.5056, 0.0, 1.0, 1.0, 1.0]]"
      ]
     },
     "execution_count": 38,
     "metadata": {},
     "output_type": "execute_result"
    }
   ],
   "source": [
    "adv_acc"
   ]
  },
  {
   "cell_type": "code",
   "execution_count": 42,
   "metadata": {},
   "outputs": [
    {
     "name": "stdout",
     "output_type": "stream",
     "text": [
      "[0.10051599773189314, 0.024155044231568685, 0.0543725598973336, 0.08131985788867031]\n"
     ]
    },
    {
     "name": "stderr",
     "output_type": "stream",
     "text": [
      "/home/chawins/.conda/envs/tsa3/lib/python3.6/site-packages/numpy/core/fromnumeric.py:2957: RuntimeWarning: Mean of empty slice.\n",
      "  out=out, **kwargs)\n",
      "/home/chawins/.conda/envs/tsa3/lib/python3.6/site-packages/numpy/core/_methods.py:80: RuntimeWarning: invalid value encountered in double_scalars\n",
      "  ret = ret.dtype.type(ret / rcount)\n"
     ]
    },
    {
     "name": "stdout",
     "output_type": "stream",
     "text": [
      "[0.15726999654191998, nan, nan, nan]\n"
     ]
    }
   ],
   "source": [
    "model.load_weights('{}weights_d{}_1000-quad.h5'.format(path, d))\n",
    "x_a = x_adv[0]\n",
    "adv = []\n",
    "for x in x_a[:4]:\n",
    "    ind = np.argmax(model.predict(x), axis=1) != y_test\n",
    "    norm = np.linalg.norm(x - x_test, axis=1)\n",
    "    adv.append(np.mean(norm[ind]))\n",
    "print(adv)\n",
    "\n",
    "model.load_weights('{}weights_d{}_1000-quad_1m.h5'.format(path, d))\n",
    "\n",
    "adv = []\n",
    "for x in x_a[4:]:\n",
    "    ind = np.argmax(model.predict(x), axis=1) != y_test\n",
    "    norm = np.linalg.norm(x - x_test, axis=1)\n",
    "    adv.append(np.mean(norm[ind]))\n",
    "print(adv)"
   ]
  },
  {
   "cell_type": "code",
   "execution_count": 43,
   "metadata": {},
   "outputs": [],
   "source": [
    "path = './tmp/sphere/'\n",
    "adv_acc = pickle.load(open(path + 'adv_acc_base.p', 'rb'))\n",
    "x_adv = pickle.load(open(path + 'adv_base.p', 'rb'))"
   ]
  },
  {
   "cell_type": "code",
   "execution_count": 44,
   "metadata": {},
   "outputs": [
    {
     "data": {
      "text/plain": [
       "[[0.0247, 0.9984, 0.9709, 0.8244, 0.0, 1.0, 1.0, 1.0]]"
      ]
     },
     "execution_count": 44,
     "metadata": {},
     "output_type": "execute_result"
    }
   ],
   "source": [
    "adv_acc"
   ]
  },
  {
   "cell_type": "code",
   "execution_count": 46,
   "metadata": {},
   "outputs": [
    {
     "name": "stdout",
     "output_type": "stream",
     "text": [
      "[0.11224859254794652, 0.027379944209170032, 0.06178956868861893, 0.09225841005789846]\n"
     ]
    },
    {
     "name": "stderr",
     "output_type": "stream",
     "text": [
      "/home/chawins/.conda/envs/tsa3/lib/python3.6/site-packages/numpy/core/fromnumeric.py:2957: RuntimeWarning: Mean of empty slice.\n",
      "  out=out, **kwargs)\n",
      "/home/chawins/.conda/envs/tsa3/lib/python3.6/site-packages/numpy/core/_methods.py:80: RuntimeWarning: invalid value encountered in double_scalars\n",
      "  ret = ret.dtype.type(ret / rcount)\n"
     ]
    },
    {
     "name": "stdout",
     "output_type": "stream",
     "text": [
      "[0.1609501886720096, nan, nan, nan]\n"
     ]
    }
   ],
   "source": [
    "model = build_dnn_baseline(500)\n",
    "model.load_weights('{}weights_d{}_1000-2.h5'.format(path, d))\n",
    "x_a = x_adv[0]\n",
    "adv = []\n",
    "for x in x_a[:4]:\n",
    "    ind = np.argmax(model.predict(x), axis=1) != y_test\n",
    "    norm = np.linalg.norm(x - x_test, axis=1)\n",
    "    adv.append(np.mean(norm[ind]))\n",
    "print(adv)\n",
    "\n",
    "model = Sequential()\n",
    "model.add(Lambda(lambda x: x ** 2, input_shape=(d,)))\n",
    "model.add(Dense(2, activation='linear'))\n",
    "model.compile(loss=output_fn,\n",
    "              optimizer=keras.optimizers.Adam(lr=1e-4),\n",
    "              metrics=['accuracy'])\n",
    "model.load_weights('{}weights_d{}_quad.h5'.format(path, d))\n",
    "\n",
    "adv = []\n",
    "for x in x_a[4:]:\n",
    "    ind = np.argmax(model.predict(x), axis=1) != y_test\n",
    "    norm = np.linalg.norm(x - x_test, axis=1)\n",
    "    adv.append(np.mean(norm[ind]))\n",
    "print(adv)"
   ]
  },
  {
   "cell_type": "code",
   "execution_count": 6,
   "metadata": {},
   "outputs": [],
   "source": [
    "path = './tmp/sphere/'\n",
    "adv_acc = pickle.load(open(path + 'adv_acc_reg_2.p', 'rb'))\n",
    "x_adv = pickle.load(open(path + 'adv_reg_2.p', 'rb'))"
   ]
  },
  {
   "cell_type": "code",
   "execution_count": 7,
   "metadata": {},
   "outputs": [
    {
     "data": {
      "text/plain": [
       "[[0.0001, 0.9632, 0.8427, 0.598],\n",
       " [0.0006, 0.9565, 0.8193, 0.5469],\n",
       " [0.0016, 0.9583, 0.8044, 0.5299]]"
      ]
     },
     "execution_count": 7,
     "metadata": {},
     "output_type": "execute_result"
    }
   ],
   "source": [
    "adv_acc"
   ]
  },
  {
   "cell_type": "code",
   "execution_count": 10,
   "metadata": {},
   "outputs": [
    {
     "name": "stdout",
     "output_type": "stream",
     "text": [
      "[0.10446793566936693, 0.024819476712800513, 0.05473673918341023, 0.08170395000648732]\n",
      "[0.10194007633107932, 0.02445199752954808, 0.054238652732250425, 0.08159996150756892]\n",
      "[0.10105338487276933, 0.024142011798443132, 0.05563373043503923, 0.08157333340171444]\n"
     ]
    }
   ],
   "source": [
    "model.load_weights('{}weights_d{}_1000-quad_reg1e-07.h5'.format(path, d))\n",
    "x_a = x_adv[0]\n",
    "adv = []\n",
    "for x in x_a:\n",
    "    ind = np.argmax(model.predict(x), axis=1) != y_test\n",
    "    norm = np.linalg.norm(x - x_test, axis=1)\n",
    "    adv.append(np.mean(norm[ind]))\n",
    "print(adv)\n",
    "\n",
    "model.load_weights('{}weights_d{}_1000-quad_reg1e-08.h5'.format(path, d))\n",
    "x_a = x_adv[1]\n",
    "adv = []\n",
    "for x in x_a:\n",
    "    ind = np.argmax(model.predict(x), axis=1) != y_test\n",
    "    norm = np.linalg.norm(x - x_test, axis=1)\n",
    "    adv.append(np.mean(norm[ind]))\n",
    "print(adv)\n",
    "\n",
    "model.load_weights('{}weights_d{}_1000-quad_reg1e-09.h5'.format(path, d))\n",
    "x_a = x_adv[2]\n",
    "adv = []\n",
    "for x in x_a:\n",
    "    ind = np.argmax(model.predict(x), axis=1) != y_test\n",
    "    norm = np.linalg.norm(x - x_test, axis=1)\n",
    "    adv.append(np.mean(norm[ind]))\n",
    "print(adv)"
   ]
  },
  {
   "cell_type": "code",
   "execution_count": 59,
   "metadata": {},
   "outputs": [
    {
     "data": {
      "text/plain": [
       "8806"
      ]
     },
     "execution_count": 59,
     "metadata": {},
     "output_type": "execute_result"
    }
   ],
   "source": [
    "np.sum(ind)"
   ]
  },
  {
   "cell_type": "code",
   "execution_count": null,
   "metadata": {},
   "outputs": [],
   "source": [
    "\n",
    "for x_a in x_adv:\n",
    "    adv = []\n",
    "    for x in x_a:\n",
    "        ind = np.argmax(model.predict(x), axis=1) != y_test\n",
    "        norm = np.linalg.norm(x - x_test, axis=1)\n",
    "        adv.append(np.mean(norm[ind]))\n",
    "    print(adv)"
   ]
  },
  {
   "cell_type": "code",
   "execution_count": 14,
   "metadata": {},
   "outputs": [
    {
     "name": "stdout",
     "output_type": "stream",
     "text": [
      "[0.08368436660515984, 0.02438582119093957, 0.05514596887543847, 0.07705920544326718]\n",
      "[0.66328245, 0.529568, 0.51311487, 0.51015747]\n"
     ]
    }
   ],
   "source": [
    "mean_norm = []\n",
    "mean_prob = []\n",
    "\n",
    "for x in x_adv[2]:\n",
    "    y = model.predict(x)\n",
    "    yi = np.argmax(y, axis=1)\n",
    "    ind = yi != y_test\n",
    "    hi_prob = np.array([np.max(softmax(yy)) for yy in y])\n",
    "    hi_prob = hi_prob[ind]\n",
    "    mean_prob.append(np.mean(hi_prob))\n",
    "    norm = np.linalg.norm(x[ind] - x_test[ind], axis=1)\n",
    "    mean_norm.append(np.mean(norm))\n",
    "print(mean_norm)\n",
    "print(mean_prob)"
   ]
  },
  {
   "cell_type": "markdown",
   "metadata": {},
   "source": [
    "---\n",
    "## MNIST train"
   ]
  },
  {
   "cell_type": "code",
   "execution_count": 6,
   "metadata": {},
   "outputs": [],
   "source": [
    "out_path = './tmp/gauss/'\n",
    "train = pickle.load(open('{}train-info_mnist_train.p'.format(out_path), 'rb'))\n",
    "steps, output = pickle.load(open('{}adv_acc_mnist_train.p'.format(out_path), 'rb'))"
   ]
  },
  {
   "cell_type": "code",
   "execution_count": 8,
   "metadata": {},
   "outputs": [],
   "source": [
    "acc_all = []\n",
    "acc_all.append(output[1])\n",
    "acc_all.append(output[0])\n",
    "acc_all.append(output[3])\n",
    "acc_all.append(output[2])"
   ]
  },
  {
   "cell_type": "code",
   "execution_count": 10,
   "metadata": {},
   "outputs": [
    {
     "data": {
      "image/png": "[encoded data removed]",
      "text/plain": [
       "<Figure size 576x360 with 1 Axes>"
      ]
     },
     "metadata": {},
     "output_type": "display_data"
    }
   ],
   "source": [
    "marker = itertools.cycle(('o', 's', '^', 'D', 'v', 'X', 'd', '+'))\n",
    "labels = [r'Gauss: $r_{train}=0.1$', r'Gauss: $r_{train}=1$', \n",
    "          r'MNIST: $r_{train}=0.1$', r'MNIST: $r_{train}=1$']\n",
    "plt.figure(figsize=(8, 5))\n",
    "for i, acc in enumerate(acc_all):\n",
    "    plt.plot(steps, acc, label=labels[i], marker=next(marker))\n",
    "plt.xlabel('Number of steps used to generate PGD adversarial examples')\n",
    "plt.ylabel('Accuracy (%)')\n",
    "legend = plt.legend(fontsize='x-large', loc='upper right')\n",
    "plt.setp(legend.get_title(), fontsize='x-large')\n",
    "legend._legend_box.align = \"right\"\n",
    "plt.savefig('./fig/mnist_gauss_train.pdf', bbox_inches='tight')\n",
    "plt.show()"
   ]
  },
  {
   "cell_type": "code",
   "execution_count": 52,
   "metadata": {},
   "outputs": [
    {
     "data": {
      "text/plain": [
       "[[0.0004917106354493247, 0.9999333333333333, 0.011094897520777703, 0.9961],\n",
       " [0.0008956877431299949, 0.9998333333333334, 0.055006565226741806, 0.9864],\n",
       " [0.011197314531664598, 0.9962333333333333, 0.08738800471769519, 0.9791],\n",
       " [0.03969251252051132, 0.9868333333333333, 0.29941794978664255, 0.9274]]"
      ]
     },
     "execution_count": 52,
     "metadata": {},
     "output_type": "execute_result"
    }
   ],
   "source": [
    "train"
   ]
  },
  {
   "cell_type": "code",
   "execution_count": 6,
   "metadata": {},
   "outputs": [],
   "source": [
    "model = build_dnn_wd(784, 1600, 4, out_dim=10)\n",
    "model.load_weights('{}weights_mnist_{}-{}_train{}.h5'.format(out_path, 1600, 4, 1))"
   ]
  },
  {
   "cell_type": "code",
   "execution_count": 9,
   "metadata": {},
   "outputs": [
    {
     "name": "stdout",
     "output_type": "stream",
     "text": [
      "200/200 [==============================] - 0s 100us/step\n"
     ]
    },
    {
     "data": {
      "text/plain": [
       "[25.16868476867676, 0.07]"
      ]
     },
     "execution_count": 9,
     "metadata": {},
     "output_type": "execute_result"
    }
   ],
   "source": [
    "x_adv = PGD(model, x_test.reshape(-1, 784)[:200], \n",
    "            y_test[:200], grad_fn=None, norm=\"inf\",\n",
    "            n_step=20, step_size=0.01, target=False, init_rnd=0.)\n",
    "model.evaluate(x_adv, y_test_cat[:200])"
   ]
  },
  {
   "cell_type": "markdown",
   "metadata": {},
   "source": [
    "--- \n",
    "## Adding Gaussian Noise"
   ]
  },
  {
   "cell_type": "code",
   "execution_count": 54,
   "metadata": {},
   "outputs": [],
   "source": [
    "from keras.datasets import mnist\n",
    "\n",
    "x_train, y_train, x_test, y_test = load_dataset_mnist()\n",
    "\n",
    "y_train_cat = keras.utils.to_categorical(y_train)\n",
    "y_test_cat = keras.utils.to_categorical(y_test)\n",
    "\n",
    "path = './tmp/mnist_gauss/'"
   ]
  },
  {
   "cell_type": "code",
   "execution_count": 52,
   "metadata": {},
   "outputs": [],
   "source": [
    "model_A = build_cnn_mnist()\n",
    "model_B = build_cnn_mnist_2()\n",
    "model_C = build_dnn_mnist(784, 300, 4)\n",
    "model_D = build_dnn_mnist(784, 1200, 6)"
   ]
  },
  {
   "cell_type": "code",
   "execution_count": 13,
   "metadata": {},
   "outputs": [],
   "source": [
    "train_acc = []\n",
    "test_acc = []\n",
    "\n",
    "for i, m in enumerate(['A', 'B', 'C', 'D']):\n",
    "    if i == 0:\n",
    "        model = build_cnn_mnist()\n",
    "    elif i == 1:\n",
    "        model = build_cnn_mnist_2()   \n",
    "    elif i == 2:\n",
    "        model = build_dnn_mnist(784, 300, 4)\n",
    "    else:\n",
    "        model = build_dnn_mnist(784, 1200, 6)\n",
    "    \n",
    "    model.load_weights('./tmp/weights/mnist_{}.h5'.format(m))\n",
    "    train_acc.append(model.evaluate(x_train, y_train_cat, verbose=0)[1] * 100)\n",
    "    test_acc.append(model.evaluate(x_test, y_test_cat, verbose=0)[1] * 100)"
   ]
  },
  {
   "cell_type": "code",
   "execution_count": 14,
   "metadata": {},
   "outputs": [
    {
     "name": "stdout",
     "output_type": "stream",
     "text": [
      "& 99.82 & 99.09 \\\\\n",
      "& 99.94 & 99.26 \\\\\n",
      "& 99.23 & 97.90 \\\\\n",
      "& 99.56 & 98.23 \\\\\n"
     ]
    }
   ],
   "source": [
    "for a, b in zip(train_acc, test_acc):\n",
    "    print('& {:.2f} & {:.2f} \\\\\\\\'.format(a, b))"
   ]
  },
  {
   "cell_type": "code",
   "execution_count": 53,
   "metadata": {},
   "outputs": [],
   "source": [
    "model = model_D"
   ]
  },
  {
   "cell_type": "code",
   "execution_count": 35,
   "metadata": {
    "scrolled": true
   },
   "outputs": [
    {
     "name": "stdout",
     "output_type": "stream",
     "text": [
      "epoch: 0 - [0.6251116827487946, 0.8448]\n",
      "epoch: 1 - [0.4376235461473465, 0.8837]\n",
      "epoch: 2 - [0.33528435881137847, 0.915]\n",
      "epoch: 3 - [0.27753707238435743, 0.9328]\n",
      "epoch: 4 - [0.23591122381091117, 0.9428]\n",
      "epoch: 5 - [0.20205029751360418, 0.9494]\n",
      "epoch: 6 - [0.17743048726320268, 0.9542]\n",
      "epoch: 7 - [0.16312584053575993, 0.9573]\n",
      "epoch: 8 - [0.1562374541401863, 0.9592]\n",
      "epoch: 9 - [0.14787338250130416, 0.9606]\n",
      "epoch: 10 - [0.1407295901209116, 0.9616]\n",
      "epoch: 11 - [0.13787592879980803, 0.9615]\n",
      "epoch: 12 - [0.13507719425708056, 0.9617]\n",
      "epoch: 13 - [0.12627877158969641, 0.9639]\n",
      "epoch: 14 - [0.12851692274659873, 0.9631]\n",
      "epoch: 15 - [0.1228666020847857, 0.9655]\n",
      "epoch: 16 - [0.12592043323516847, 0.9639]\n",
      "epoch: 17 - [0.11795834875553847, 0.966]\n",
      "epoch: 18 - [0.1159811177149415, 0.967]\n",
      "epoch: 19 - [0.11663278012871742, 0.9673]\n",
      "epoch: 20 - [0.1174728402003646, 0.9651]\n",
      "epoch: 21 - [0.1140441600613296, 0.967]\n",
      "epoch: 22 - [0.11549331450015307, 0.9651]\n",
      "epoch: 23 - [0.1161523839764297, 0.9659]\n",
      "epoch: 24 - [0.11576484187841415, 0.9668]\n",
      "epoch: 25 - [0.11688030495047569, 0.9657]\n",
      "epoch: 26 - [0.11140920215286315, 0.9671]\n",
      "epoch: 27 - [0.11245009082145989, 0.9673]\n",
      "epoch: 28 - [0.11349218073934317, 0.9658]\n",
      "epoch: 29 - [0.1152488021530211, 0.9673]\n",
      "epoch: 30 - [0.11336197664290666, 0.9666]\n",
      "epoch: 31 - [0.11302242941558362, 0.9673]\n",
      "[0.11669569038053354, 0.9664166666666667]\n",
      "[0.11140920215286315, 0.9671]\n"
     ]
    }
   ],
   "source": [
    "std = 1\n",
    "\n",
    "epochs = 100\n",
    "batch_size = 128\n",
    "n_batch = len(x_train) // batch_size\n",
    "min_loss = np.inf\n",
    "\n",
    "for epoch in range(epochs):\n",
    "    ind = np.random.permutation(len(x_train))\n",
    "    for batch in range(n_batch):\n",
    "        b_ind = ind[batch * batch_size:(batch + 1) * batch_size]\n",
    "        x, y = x_train[b_ind], y_train_cat[b_ind]\n",
    "        # Add Gaussian noise\n",
    "        x_t = x + np.random.normal(0, std, size=x.shape)\n",
    "        \n",
    "        model.train_on_batch(x_t, y)\n",
    "    \n",
    "    score = model.evaluate(x_test, y_test_cat, verbose=0)\n",
    "    print('epoch: {} - {}'.format(epoch, score))\n",
    "    val_loss = score[0]\n",
    "    if val_loss < min_loss:\n",
    "        min_loss = val_loss\n",
    "        model.save_weights('./tmp.h5')\n",
    "        early_stop_counter = 0\n",
    "    else:\n",
    "        early_stop_counter += 1\n",
    "        if early_stop_counter == 5:\n",
    "            break\n",
    "    \n",
    "model.load_weights('./tmp.h5')\n",
    "print(model.evaluate(x_train, y_train_cat, verbose=0))\n",
    "print(model.evaluate(x_test, y_test_cat, verbose=0))"
   ]
  },
  {
   "cell_type": "code",
   "execution_count": 126,
   "metadata": {},
   "outputs": [],
   "source": [
    "model.save_weights('{}weights_test.h5'.format(path))"
   ]
  },
  {
   "cell_type": "code",
   "execution_count": 11,
   "metadata": {},
   "outputs": [],
   "source": [
    "model.load_weights('./tmp/weights/mnist_A.h5')"
   ]
  },
  {
   "cell_type": "code",
   "execution_count": 33,
   "metadata": {},
   "outputs": [],
   "source": [
    "adv_acc = pickle.load(open(path + 'adv_acc_baseline.p', 'rb'))\n",
    "norm = pickle.load(open(path + 'x_adv_baseline.p', 'rb'))"
   ]
  },
  {
   "cell_type": "code",
   "execution_count": 39,
   "metadata": {},
   "outputs": [],
   "source": [
    "adv_acc = np.array(adv_acc) * 100"
   ]
  },
  {
   "cell_type": "code",
   "execution_count": 45,
   "metadata": {},
   "outputs": [
    {
     "name": "stdout",
     "output_type": "stream",
     "text": [
      "& 4.90\\% (3.703) & 2.31\\% (3.960) & 18.43\\% (2.133) & 10.23\\% (2.385) \\\\\n",
      "& 10.10\\% (3.518) & 7.53\\% (3.727) & 21.33\\% (2.020) & 12.85\\% (2.250) \\\\\n",
      "& 6.12\\% (1.797) & 5.43\\% (1.882) & 8.05\\% (1.208) & 6.48\\% (1.285) \\\\\n",
      "& 15.86\\% (1.790) & 14.66\\% (1.943) & 16.43\\% (1.279) & 16.08\\% (1.295) \\\\\n"
     ]
    }
   ],
   "source": [
    "for out, x_a in zip(adv_acc, norm):\n",
    "    adv = []\n",
    "    for x in x_a:\n",
    "        adv.append(np.mean(x))\n",
    "    string = ''\n",
    "    for i in range(4):\n",
    "        string += '& {:.2f}\\\\% ({:.3f}) '.format(out[i], adv[i])\n",
    "    string += '\\\\\\\\'\n",
    "    print(string)"
   ]
  },
  {
   "cell_type": "code",
   "execution_count": 48,
   "metadata": {},
   "outputs": [],
   "source": [
    "path = './tmp/mnist_gauss/'\n",
    "adv_acc = pickle.load(open(path + 'adv_acc.p', 'rb'))\n",
    "norm = pickle.load(open(path + 'x_adv.p', 'rb'))"
   ]
  },
  {
   "cell_type": "code",
   "execution_count": 51,
   "metadata": {},
   "outputs": [
    {
     "name": "stdout",
     "output_type": "stream",
     "text": [
      "& 4.44\\% (4.218) & 2.48\\% (4.398) & 12.68\\% (2.232) & 6.71\\% (2.399) \\\\\n",
      "& 6.14\\% (5.426) & 2.84\\% (5.666) & 24.20\\% (2.652) & 8.91\\% (3.080) \\\\\n",
      "& 2.53\\% (5.447) & 0.42\\% (5.590) & 23.90\\% (2.601) & 4.20\\% (3.210) \\\\\n",
      "& 1.48\\% (4.417) & 0.92\\% (4.468) & 8.04\\% (2.341) & 3.93\\% (2.459) \\\\\n",
      "& 8.81\\% (5.736) & 2.99\\% (6.125) & 31.63\\% (2.668) & 17.14\\% (3.082) \\\\\n",
      "& 3.68\\% (5.771) & 0.36\\% (5.991) & 28.03\\% (2.677) & 8.12\\% (3.303) \\\\\n",
      "& 8.24\\% (2.181) & 5.11\\% (2.665) & 9.01\\% (1.490) & 7.86\\% (1.549) \\\\\n",
      "& 5.62\\% (3.325) & 0.61\\% (4.114) & 6.55\\% (2.119) & 4.46\\% (2.202) \\\\\n",
      "& 5.66\\% (3.313) & 0.36\\% (4.095) & 8.03\\% (2.075) & 4.22\\% (2.229) \\\\\n",
      "& 31.65\\% (2.061) & 30.01\\% (2.348) & 32.58\\% (1.382) & 31.45\\% (1.452) \\\\\n",
      "& 8.07\\% (3.714) & 3.59\\% (4.361) & 10.61\\% (2.332) & 6.54\\% (2.507) \\\\\n",
      "& 6.04\\% (3.761) & 0.84\\% (4.548) & 9.70\\% (2.349) & 3.65\\% (2.589) \\\\\n"
     ]
    }
   ],
   "source": [
    "adv_acc = np.array(adv_acc) * 100\n",
    "for out, x_a in zip(adv_acc, norm):\n",
    "    adv = []\n",
    "    for x in x_a:\n",
    "        adv.append(np.mean(x))\n",
    "    string = ''\n",
    "    for i in range(4):\n",
    "        string += '& {:.2f}\\\\% ({:.3f}) '.format(out[i], adv[i])\n",
    "    string += '\\\\\\\\'\n",
    "    print(string)\n",
    "# model, std"
   ]
  },
  {
   "cell_type": "code",
   "execution_count": 55,
   "metadata": {},
   "outputs": [],
   "source": [
    "model.load_weights('./tmp/mnist_gauss/weights_3_s0.1.h5')"
   ]
  },
  {
   "cell_type": "code",
   "execution_count": 65,
   "metadata": {},
   "outputs": [
    {
     "name": "stdout",
     "output_type": "stream",
     "text": [
      "1.3182708\n",
      "200/200 [==============================] - 0s 91us/step\n",
      "0.245\n"
     ]
    }
   ],
   "source": [
    "x_adv = PGD(model, x_test[:200], y_test[:200], grad_fn=None, norm=\"2\", n_step=50,\n",
    "                step_size=0.1, target=False, init_rnd=0., early_stop=True, proj='img')\n",
    "ind = np.argmax(model.predict(x_adv), axis=1) != y_test[:200]\n",
    "print(np.mean(np.linalg.norm((x_adv - x_test[:200])[ind].reshape(-1, 784), axis=1)))\n",
    "print(model.evaluate(x_adv, y_test_cat[:200])[1])"
   ]
  },
  {
   "cell_type": "code",
   "execution_count": 10,
   "metadata": {},
   "outputs": [],
   "source": [
    "train_acc_all = []\n",
    "test_acc_all = []\n",
    "\n",
    "for i in range(4):\n",
    "    if i == 0:\n",
    "        model = build_cnn_mnist()\n",
    "    elif i == 1:\n",
    "        model = build_cnn_mnist_2()\n",
    "    elif i == 2:\n",
    "        model = build_dnn_mnist(784, 300, 4)\n",
    "    else:\n",
    "        model = build_dnn_mnist(784, 1200, 6)\n",
    "    train_acc = []\n",
    "    test_acc = []\n",
    "    for s in [0.1, 0.5, 1.0]:\n",
    "        model.load_weights('./tmp/mnist_gauss/weights_{}_s{}.h5'.format(i, s))\n",
    "        train_acc.append(model.evaluate(x_train, y_train_cat, verbose=0)[1] * 100)\n",
    "        test_acc.append(model.evaluate(x_test, y_test_cat, verbose=0)[1] * 100)\n",
    "    train_acc_all.append(train_acc)\n",
    "    test_acc_all.append(test_acc)"
   ]
  },
  {
   "cell_type": "code",
   "execution_count": 12,
   "metadata": {},
   "outputs": [
    {
     "name": "stdout",
     "output_type": "stream",
     "text": [
      "& 99.68 & 99.13 \\\\\n",
      "& 99.32 & 98.84 \\\\\n",
      "& 98.24 & 97.96 \\\\\n",
      "& 99.57 & 99.11 \\\\\n",
      "& 99.64 & 99.20 \\\\\n",
      "& 98.74 & 98.37 \\\\\n",
      "& 99.26 & 98.12 \\\\\n",
      "& 98.15 & 97.70 \\\\\n",
      "& 97.16 & 96.66 \\\\\n",
      "& 99.77 & 98.64 \\\\\n",
      "& 99.24 & 98.52 \\\\\n",
      "& 98.53 & 97.66 \\\\\n"
     ]
    }
   ],
   "source": [
    "for train, test in zip(train_acc_all, test_acc_all):\n",
    "    for a, b in zip(train, test):\n",
    "        print('& {:.2f} & {:.2f} \\\\\\\\'.format(a, b))"
   ]
  },
  {
   "cell_type": "markdown",
   "metadata": {},
   "source": [
    "---\n",
    "## Regularization - MNIST"
   ]
  },
  {
   "cell_type": "code",
   "execution_count": 5,
   "metadata": {},
   "outputs": [],
   "source": [
    "model_A = build_cnn_mnist()\n",
    "model_B = build_cnn_mnist_2()\n",
    "model_C = build_dnn_mnist(784, 300, 4)\n",
    "model_D = build_dnn_mnist(784, 1200, 6)"
   ]
  },
  {
   "cell_type": "code",
   "execution_count": 29,
   "metadata": {},
   "outputs": [],
   "source": [
    "model = build_cnn_mnist(reg='l2', lamda=1e-5)"
   ]
  },
  {
   "cell_type": "code",
   "execution_count": 20,
   "metadata": {},
   "outputs": [
    {
     "name": "stdout",
     "output_type": "stream",
     "text": [
      "60000/60000 [==============================] - 4s 65us/step\n",
      "[0.02209440834383616, 0.9938666666666667]\n",
      "10000/10000 [==============================] - 1s 60us/step\n",
      "[0.06877572418080236, 0.9816]\n"
     ]
    }
   ],
   "source": [
    "model_D.load_weights('./tmp/mnist_reg/weights_3_l2_L1e-05.h5')\n",
    "print(model_D.evaluate(x_train, y_train_cat))\n",
    "print(model_D.evaluate(x_test, y_test_cat))"
   ]
  },
  {
   "cell_type": "code",
   "execution_count": null,
   "metadata": {},
   "outputs": [],
   "source": []
  },
  {
   "cell_type": "code",
   "execution_count": null,
   "metadata": {},
   "outputs": [],
   "source": []
  },
  {
   "cell_type": "code",
   "execution_count": 30,
   "metadata": {
    "scrolled": true
   },
   "outputs": [
    {
     "name": "stdout",
     "output_type": "stream",
     "text": [
      "Train on 60000 samples, validate on 10000 samples\n",
      "Epoch 1/100\n",
      "60000/60000 [==============================] - 5s 81us/step - loss: 0.6422 - acc: 0.8130 - val_loss: 0.2142 - val_acc: 0.9401\n",
      "Epoch 2/100\n",
      "60000/60000 [==============================] - 4s 68us/step - loss: 0.2630 - acc: 0.9241 - val_loss: 0.1351 - val_acc: 0.9598\n",
      "Epoch 3/100\n",
      "60000/60000 [==============================] - 4s 70us/step - loss: 0.1912 - acc: 0.9456 - val_loss: 0.1006 - val_acc: 0.9690\n",
      "Epoch 4/100\n",
      "60000/60000 [==============================] - 4s 69us/step - loss: 0.1506 - acc: 0.9570 - val_loss: 0.0797 - val_acc: 0.9749\n",
      "Epoch 5/100\n",
      "60000/60000 [==============================] - 4s 69us/step - loss: 0.1291 - acc: 0.9639 - val_loss: 0.0691 - val_acc: 0.9797\n",
      "Epoch 6/100\n",
      "60000/60000 [==============================] - 4s 68us/step - loss: 0.1101 - acc: 0.9693 - val_loss: 0.0605 - val_acc: 0.9820\n",
      "Epoch 7/100\n",
      "60000/60000 [==============================] - 4s 69us/step - loss: 0.0993 - acc: 0.9715 - val_loss: 0.0554 - val_acc: 0.9834\n",
      "Epoch 8/100\n",
      "60000/60000 [==============================] - 4s 68us/step - loss: 0.0904 - acc: 0.9743 - val_loss: 0.0513 - val_acc: 0.9847\n",
      "Epoch 9/100\n",
      "60000/60000 [==============================] - 4s 68us/step - loss: 0.0821 - acc: 0.9772 - val_loss: 0.0480 - val_acc: 0.9848\n",
      "Epoch 10/100\n",
      "60000/60000 [==============================] - 4s 69us/step - loss: 0.0753 - acc: 0.9796 - val_loss: 0.0454 - val_acc: 0.9860\n",
      "Epoch 11/100\n",
      "60000/60000 [==============================] - 4s 69us/step - loss: 0.0705 - acc: 0.9797 - val_loss: 0.0414 - val_acc: 0.9873\n",
      "Epoch 12/100\n",
      "60000/60000 [==============================] - 4s 68us/step - loss: 0.0651 - acc: 0.9814 - val_loss: 0.0417 - val_acc: 0.9869\n",
      "Epoch 13/100\n",
      "60000/60000 [==============================] - 4s 68us/step - loss: 0.0619 - acc: 0.9822 - val_loss: 0.0419 - val_acc: 0.9865\n",
      "Epoch 14/100\n",
      "60000/60000 [==============================] - 4s 66us/step - loss: 0.0589 - acc: 0.9830 - val_loss: 0.0380 - val_acc: 0.9881\n",
      "Epoch 15/100\n",
      "60000/60000 [==============================] - 4s 68us/step - loss: 0.0538 - acc: 0.9849 - val_loss: 0.0396 - val_acc: 0.9874\n",
      "Epoch 16/100\n",
      "60000/60000 [==============================] - 4s 69us/step - loss: 0.0524 - acc: 0.9849 - val_loss: 0.0372 - val_acc: 0.9884\n",
      "Epoch 17/100\n",
      "60000/60000 [==============================] - 4s 72us/step - loss: 0.0502 - acc: 0.9859 - val_loss: 0.0363 - val_acc: 0.9889\n",
      "Epoch 18/100\n",
      "60000/60000 [==============================] - 4s 68us/step - loss: 0.0482 - acc: 0.9866 - val_loss: 0.0359 - val_acc: 0.9895\n",
      "Epoch 19/100\n",
      "60000/60000 [==============================] - 4s 65us/step - loss: 0.0442 - acc: 0.9880 - val_loss: 0.0358 - val_acc: 0.9891\n",
      "Epoch 20/100\n",
      "60000/60000 [==============================] - 4s 65us/step - loss: 0.0438 - acc: 0.9880 - val_loss: 0.0348 - val_acc: 0.9897\n",
      "Epoch 21/100\n",
      "60000/60000 [==============================] - 4s 65us/step - loss: 0.0407 - acc: 0.9890 - val_loss: 0.0335 - val_acc: 0.9899\n",
      "Epoch 22/100\n",
      "60000/60000 [==============================] - 4s 64us/step - loss: 0.0395 - acc: 0.9893 - val_loss: 0.0339 - val_acc: 0.9894\n",
      "Epoch 23/100\n",
      "60000/60000 [==============================] - 4s 66us/step - loss: 0.0387 - acc: 0.9892 - val_loss: 0.0348 - val_acc: 0.9896\n",
      "Epoch 24/100\n",
      "60000/60000 [==============================] - 4s 66us/step - loss: 0.0391 - acc: 0.9890 - val_loss: 0.0347 - val_acc: 0.9898\n",
      "Epoch 25/100\n",
      "60000/60000 [==============================] - 4s 67us/step - loss: 0.0369 - acc: 0.9896 - val_loss: 0.0332 - val_acc: 0.9902\n",
      "Epoch 26/100\n",
      "60000/60000 [==============================] - 4s 65us/step - loss: 0.0356 - acc: 0.9902 - val_loss: 0.0336 - val_acc: 0.9901\n",
      "Epoch 27/100\n",
      "60000/60000 [==============================] - 4s 67us/step - loss: 0.0344 - acc: 0.9905 - val_loss: 0.0319 - val_acc: 0.9901\n",
      "Epoch 28/100\n",
      "60000/60000 [==============================] - 4s 65us/step - loss: 0.0340 - acc: 0.9909 - val_loss: 0.0319 - val_acc: 0.9907\n",
      "Epoch 29/100\n",
      "60000/60000 [==============================] - 4s 67us/step - loss: 0.0328 - acc: 0.9909 - val_loss: 0.0322 - val_acc: 0.9908\n",
      "Epoch 30/100\n",
      "60000/60000 [==============================] - 4s 65us/step - loss: 0.0316 - acc: 0.9913 - val_loss: 0.0329 - val_acc: 0.9907\n",
      "Epoch 31/100\n",
      "60000/60000 [==============================] - 4s 66us/step - loss: 0.0288 - acc: 0.9923 - val_loss: 0.0330 - val_acc: 0.9910\n",
      "Epoch 32/100\n",
      "60000/60000 [==============================] - 4s 66us/step - loss: 0.0291 - acc: 0.9925 - val_loss: 0.0333 - val_acc: 0.9916\n",
      "Epoch 33/100\n",
      "60000/60000 [==============================] - 4s 64us/step - loss: 0.0289 - acc: 0.9923 - val_loss: 0.0323 - val_acc: 0.9912\n",
      "60000/60000 [==============================] - 4s 75us/step\n",
      "[0.013347160784651835, 0.9981333333333333]\n",
      "10000/10000 [==============================] - 1s 80us/step\n",
      "[0.03187931394428015, 0.9907]\n"
     ]
    }
   ],
   "source": [
    "earlystop = keras.callbacks.EarlyStopping(monitor='val_loss', patience=5)\n",
    "checkpoint = keras.callbacks.ModelCheckpoint(\n",
    "    './tmp.h5', save_best_only=True, save_weights_only=True, period=1)\n",
    "model.fit(x_train, y_train_cat,\n",
    "          batch_size=128,\n",
    "          epochs=100,\n",
    "          verbose=1,\n",
    "          callbacks=[earlystop, checkpoint],\n",
    "          validation_data=(x_test, y_test_cat))\n",
    "model.load_weights('./tmp.h5')\n",
    "print(model.evaluate(x_train, y_train_cat))\n",
    "print(model.evaluate(x_test, y_test_cat))"
   ]
  },
  {
   "cell_type": "code",
   "execution_count": 31,
   "metadata": {},
   "outputs": [],
   "source": [
    "model.save_weights('./tmp/mnist_reg/weights_0_l2_L1e-05.h5')"
   ]
  },
  {
   "cell_type": "code",
   "execution_count": 32,
   "metadata": {},
   "outputs": [
    {
     "name": "stdout",
     "output_type": "stream",
     "text": [
      "200/200 [==============================] - 0s 84us/step\n"
     ]
    },
    {
     "data": {
      "text/plain": [
       "[0.7130848360061646, 0.245]"
      ]
     },
     "execution_count": 32,
     "metadata": {},
     "output_type": "execute_result"
    }
   ],
   "source": [
    "x_adv = PGD(model, x_test[:200], y_test[:200], grad_fn=None, norm=\"2\",\n",
    "            n_step=50, step_size=0.1, target=False, init_rnd=0., proj='img', early_stop=True)\n",
    "model.evaluate(x_adv, y_test_cat[:200])"
   ]
  },
  {
   "cell_type": "code",
   "execution_count": 8,
   "metadata": {},
   "outputs": [
    {
     "name": "stdout",
     "output_type": "stream",
     "text": [
      "200/200 [==============================] - 0s 187us/step\n"
     ]
    },
    {
     "data": {
      "text/plain": [
       "[0.6130856466293335, 0.355]"
      ]
     },
     "execution_count": 8,
     "metadata": {},
     "output_type": "execute_result"
    }
   ],
   "source": [
    "x_adv = PGD(model, x_test[:200], y_test[:200], grad_fn=None, norm=\"2\",\n",
    "            n_step=50, step_size=0.1, target=False, init_rnd=0., proj='img', early_stop=True)\n",
    "model.evaluate(x_adv, y_test_cat[:200])"
   ]
  },
  {
   "cell_type": "code",
   "execution_count": 27,
   "metadata": {},
   "outputs": [],
   "source": [
    "model.load_weights('./tmp/mnist_reg/weights_0_l2_L1e-06.h5')"
   ]
  },
  {
   "cell_type": "code",
   "execution_count": 28,
   "metadata": {},
   "outputs": [
    {
     "name": "stdout",
     "output_type": "stream",
     "text": [
      "200/200 [==============================] - 0s 930us/step\n"
     ]
    },
    {
     "data": {
      "text/plain": [
       "[0.6879241180419922, 0.27]"
      ]
     },
     "execution_count": 28,
     "metadata": {},
     "output_type": "execute_result"
    }
   ],
   "source": [
    "x_adv = PGD(model, x_test[:200], y_test[:200], grad_fn=None, norm=\"2\",\n",
    "            n_step=50, step_size=0.1, target=False, init_rnd=0., proj='img', early_stop=True)\n",
    "model.evaluate(x_adv, y_test_cat[:200])"
   ]
  },
  {
   "cell_type": "code",
   "execution_count": 65,
   "metadata": {},
   "outputs": [
    {
     "name": "stdout",
     "output_type": "stream",
     "text": [
      "200/200 [==============================] - 0s 100us/step\n"
     ]
    },
    {
     "data": {
      "text/plain": [
       "[1.9917819213867187, 0.0]"
      ]
     },
     "execution_count": 65,
     "metadata": {},
     "output_type": "execute_result"
    }
   ],
   "source": [
    "x_adv = PGD(model, x_test[:200], y_test[:200], grad_fn=None, norm=\"2\",\n",
    "            n_step=100, step_size=0.1, target=False, init_rnd=0., proj='img', early_stop=True)\n",
    "model.evaluate(x_adv, y_test_cat[:200])"
   ]
  },
  {
   "cell_type": "code",
   "execution_count": 15,
   "metadata": {},
   "outputs": [],
   "source": [
    "path = './tmp/mnist_reg/'\n",
    "out_all = pickle.load(open(path + 'adv_acc_4.p', 'rb'))\n",
    "norm = pickle.load(open(path + 'norm_4.p', 'rb'))"
   ]
  },
  {
   "cell_type": "code",
   "execution_count": 8,
   "metadata": {},
   "outputs": [
    {
     "name": "stdout",
     "output_type": "stream",
     "text": [
      "& 0.00\\% & 0.00\\% & 1.77\\% & 0.00\\% \\\\\n",
      "& 4.07\\% & 2.47\\% & 24.95\\% & 16.96\\% \\\\\n",
      "& 4.70\\% & 2.89\\% & 29.55\\% & 21.76\\% \\\\\n",
      "& 0.00\\% & 0.00\\% & 1.71\\% & 0.00\\% \\\\\n",
      "& 4.19\\% & 3.17\\% & 24.80\\% & 18.20\\% \\\\\n",
      "& 9.40\\% & 6.51\\% & 40.33\\% & 35.28\\% \\\\\n",
      "& 0.00\\% & 0.00\\% & 0.49\\% & 0.00\\% \\\\\n",
      "& 5.98\\% & 2.24\\% & 8.47\\% & 6.38\\% \\\\\n",
      "& 11.40\\% & 7.42\\% & 20.33\\% & 18.96\\% \\\\\n",
      "& 0.00\\% & 0.00\\% & 0.98\\% & 0.00\\% \\\\\n",
      "& 13.27\\% & 9.41\\% & 17.58\\% & 14.92\\% \\\\\n",
      "& 27.39\\% & 24.86\\% & 29.07\\% & 28.32\\% \\\\\n"
     ]
    }
   ],
   "source": [
    "out = np.array(out_all) * 100\n",
    "for i in [0, 4, 8, 1, 5, 9, 2, 6, 10, 3, 7, 11]: \n",
    "    print('& {:.2f}\\\\% & {:.2f}\\\\% & {:.2f}\\\\% & {:.2f}\\\\% \\\\\\\\'.format(*out[i]))"
   ]
  },
  {
   "cell_type": "code",
   "execution_count": 13,
   "metadata": {},
   "outputs": [],
   "source": [
    "path = './tmp/mnist_reg/'\n",
    "out_all = pickle.load(open(path + 'adv_acc_5.p', 'rb'))\n",
    "norm = pickle.load(open(path + 'norm_5.p', 'rb'))"
   ]
  },
  {
   "cell_type": "code",
   "execution_count": 10,
   "metadata": {},
   "outputs": [
    {
     "name": "stdout",
     "output_type": "stream",
     "text": [
      "& 1.18\\% & 0.00\\% & 18.12\\% & 1.38\\% \\\\\n",
      "& 2.71\\% & 1.52\\% & 24.55\\% & 16.64\\% \\\\\n",
      "& 3.20\\% & 1.22\\% & 24.14\\% & 16.33\\% \\\\\n",
      "& 0.78\\% & 0.00\\% & 18.20\\% & 1.23\\% \\\\\n",
      "& 3.25\\% & 2.04\\% & 22.92\\% & 14.70\\% \\\\\n",
      "& 4.90\\% & 3.72\\% & 37.18\\% & 30.47\\% \\\\\n",
      "& 0.13\\% & 0.00\\% & 8.65\\% & 1.02\\% \\\\\n",
      "& 3.94\\% & 0.30\\% & 9.07\\% & 7.01\\% \\\\\n",
      "& 6.07\\% & 4.92\\% & 9.26\\% & 7.51\\% \\\\\n",
      "& 11.35\\% & 11.35\\% & 11.35\\% & 11.35\\% \\\\\n",
      "& 6.44\\% & 0.80\\% & 17.48\\% & 13.89\\% \\\\\n",
      "& 13.34\\% & 12.79\\% & 15.78\\% & 13.98\\% \\\\\n"
     ]
    }
   ],
   "source": [
    "out = np.array(out_all) * 100\n",
    "for i in [0, 4, 8, 1, 5, 9, 2, 6, 10, 3, 7, 11]: \n",
    "    print('& {:.2f}\\\\% & {:.2f}\\\\% & {:.2f}\\\\% & {:.2f}\\\\% \\\\\\\\'.format(*out[i]))"
   ]
  },
  {
   "cell_type": "code",
   "execution_count": 16,
   "metadata": {},
   "outputs": [
    {
     "name": "stdout",
     "output_type": "stream",
     "text": [
      "[3.466027, 3.466027, 2.097997, 2.1531568]\n",
      "[2.7239463, 2.7239463, 2.0254414, 2.0749388]\n",
      "[2.4687166, 2.4687166, 1.528845, 1.5462861]\n",
      "[2.4863017, 2.4863017, 1.5848464, 1.6188873]\n",
      "[3.7136474, 3.8555164, 1.9378282, 2.0852458]\n",
      "[3.248454, 3.3283625, 1.8236632, 1.9441906]\n",
      "[2.2057667, 2.7210798, 1.3818226, 1.4536977]\n",
      "[2.432264, 3.0246167, 1.4410797, 1.5258893]\n",
      "[3.695662, 3.8606808, 1.8941284, 2.052534]\n",
      "[4.077711, 4.349017, 1.6974311, 1.7896813]\n",
      "[2.0591614, 2.5279837, 1.1193666, 1.2045435]\n",
      "[1.9463419, 2.3005285, 1.2261314, 1.2695005]\n"
     ]
    }
   ],
   "source": [
    "for x_a in norm:\n",
    "    adv = []\n",
    "    for x in x_a:\n",
    "        adv.append(np.mean(x))\n",
    "    print(adv)"
   ]
  },
  {
   "cell_type": "code",
   "execution_count": 5,
   "metadata": {},
   "outputs": [],
   "source": [
    "path = './tmp/mnist_reg/'\n",
    "out_all = pickle.load(open(path + 'adv_acc_2.p', 'rb'))\n",
    "norm = pickle.load(open(path + 'norm_2.p', 'rb'))"
   ]
  },
  {
   "cell_type": "code",
   "execution_count": 6,
   "metadata": {},
   "outputs": [
    {
     "data": {
      "text/plain": [
       "[[0.0524, 0.0323, 0.3301, 0.2639], [0.0166, 0.0115, 0.1367, 0.0754]]"
      ]
     },
     "execution_count": 6,
     "metadata": {},
     "output_type": "execute_result"
    }
   ],
   "source": [
    "out_all"
   ]
  },
  {
   "cell_type": "code",
   "execution_count": 21,
   "metadata": {},
   "outputs": [],
   "source": [
    "path = './tmp/mnist_reg/'\n",
    "out_all = pickle.load(open(path + 'adv_acc_7.p', 'rb'))\n",
    "norm = pickle.load(open(path + 'norm_7.p', 'rb'))"
   ]
  },
  {
   "cell_type": "code",
   "execution_count": 22,
   "metadata": {},
   "outputs": [
    {
     "data": {
      "text/plain": [
       "[[0.0524, 0.0323, 0.3301, 0.2639], [0.0166, 0.0115, 0.1367, 0.0754]]"
      ]
     },
     "execution_count": 22,
     "metadata": {},
     "output_type": "execute_result"
    }
   ],
   "source": [
    "out_all"
   ]
  },
  {
   "cell_type": "code",
   "execution_count": 23,
   "metadata": {},
   "outputs": [
    {
     "name": "stdout",
     "output_type": "stream",
     "text": [
      "[3.8966942, 4.079552, 1.7485583, 1.8703465]\n",
      "[3.740661, 3.7834938, 2.0219855, 2.1215885]\n"
     ]
    }
   ],
   "source": [
    "for x_a in norm:\n",
    "    adv = []\n",
    "    for x in x_a:\n",
    "        adv.append(np.mean(x))\n",
    "    print(adv)"
   ]
  },
  {
   "cell_type": "markdown",
   "metadata": {},
   "source": [
    "---\n",
    "## Adversarial Training"
   ]
  },
  {
   "cell_type": "code",
   "execution_count": 21,
   "metadata": {},
   "outputs": [],
   "source": [
    "path = './tmp/mnist_adv/'\n",
    "adv_acc = pickle.load(open(path + 'adv_acc.p', 'rb'))\n",
    "norm = pickle.load(open(path + 'norm.p', 'rb'))"
   ]
  },
  {
   "cell_type": "code",
   "execution_count": 71,
   "metadata": {},
   "outputs": [
    {
     "name": "stdout",
     "output_type": "stream",
     "text": [
      "& 18.09\\% (3.808) & 7.69\\% (4.556) & 80.35\\% (1.157) & 78.42\\% (1.246) \\\\\n",
      "& 19.92\\% (4.363) & 7.34\\% (5.486) & 91.05\\% (0.632) & 90.16\\% (0.700) \\\\\n",
      "& 28.41\\% (2.268) & 23.71\\% (2.973) & 47.67\\% (1.004) & 46.61\\% (1.095) \\\\\n",
      "& 24.43\\% (1.916) & 22.25\\% (2.260) & 67.74\\% (0.990) & 65.96\\% (1.118) \\\\\n"
     ]
    }
   ],
   "source": [
    "adv_acc = np.array(adv_acc) * 100\n",
    "for out, x_a in zip(adv_acc, norm):\n",
    "    adv = []\n",
    "    for x in x_a:\n",
    "        adv.append(np.mean(x))\n",
    "    string = ''\n",
    "    for i in range(4):\n",
    "        string += '& {:.2f}\\\\% ({:.3f}) '.format(out[i], adv[i])\n",
    "    string += '\\\\\\\\'\n",
    "    print(string)\n",
    "# model, std"
   ]
  },
  {
   "cell_type": "code",
   "execution_count": 48,
   "metadata": {},
   "outputs": [
    {
     "name": "stdout",
     "output_type": "stream",
     "text": [
      "A & 18.09\\% & 7.69\\% & 80.35\\% & 78.42\\% \\\\\n",
      "B & 19.92\\% & 7.34\\% & 91.05\\% & 90.16\\% \\\\\n",
      "C & 28.41\\% & 23.71\\% & 47.67\\% & 46.61\\% \\\\\n",
      "D & 24.43\\% & 22.25\\% & 67.74\\% & 65.96\\% \\\\\n"
     ]
    }
   ],
   "source": [
    "model = ['A', 'B', 'C', 'D']\n",
    "out = np.array(out_all) * 100\n",
    "for m, o in zip(model, out):\n",
    "    print('{} & {:.2f}\\\\% & {:.2f}\\\\% & {:.2f}\\\\% & {:.2f}\\\\% \\\\\\\\'.format(m, *o))"
   ]
  },
  {
   "cell_type": "code",
   "execution_count": 50,
   "metadata": {},
   "outputs": [
    {
     "name": "stdout",
     "output_type": "stream",
     "text": [
      "[3.8081129, 4.5558825, 1.1571115, 1.2459921]\n",
      "[4.362948, 5.485732, 0.6317042, 0.6999941]\n",
      "[2.2682433, 2.9729567, 1.0037736, 1.0949409]\n",
      "[1.9159247, 2.2598581, 0.99010086, 1.1183044]\n"
     ]
    }
   ],
   "source": [
    "for n in norm:\n",
    "    adv = []\n",
    "    for m in n:\n",
    "        adv.append(np.mean(m))\n",
    "    print(adv)"
   ]
  },
  {
   "cell_type": "code",
   "execution_count": 15,
   "metadata": {},
   "outputs": [],
   "source": [
    "train_acc = []\n",
    "test_acc = []\n",
    "\n",
    "for i, m in enumerate(['A', 'B', 'C', 'D']):\n",
    "    if i == 0:\n",
    "        model = build_cnn_mnist()\n",
    "    elif i == 1:\n",
    "        model = build_cnn_mnist_2()   \n",
    "    elif i == 2:\n",
    "        model = build_dnn_mnist(784, 300, 4)\n",
    "    else:\n",
    "        model = build_dnn_mnist(784, 1200, 6)\n",
    "    \n",
    "    model.load_weights('./tmp/adv_train/weights_{}_mnist_40-0.01.h5'.format(m))\n",
    "    train_acc.append(model.evaluate(x_train, y_train_cat, verbose=0)[1] * 100)\n",
    "    test_acc.append(model.evaluate(x_test, y_test_cat, verbose=0)[1] * 100)"
   ]
  },
  {
   "cell_type": "code",
   "execution_count": 16,
   "metadata": {},
   "outputs": [
    {
     "name": "stdout",
     "output_type": "stream",
     "text": [
      "& 99.99 & 99.30 \\\\\n",
      "& 100.00 & 99.18 \\\\\n",
      "& 99.48 & 98.05 \\\\\n",
      "& 99.14 & 98.03 \\\\\n"
     ]
    }
   ],
   "source": [
    "for a, b in zip(train_acc, test_acc):\n",
    "    print('& {:.2f} & {:.2f} \\\\\\\\'.format(a, b))"
   ]
  },
  {
   "cell_type": "code",
   "execution_count": null,
   "metadata": {},
   "outputs": [],
   "source": []
  },
  {
   "cell_type": "markdown",
   "metadata": {},
   "source": [
    "## MNIST Hinge"
   ]
  },
  {
   "cell_type": "code",
   "execution_count": 22,
   "metadata": {},
   "outputs": [],
   "source": [
    "path = './tmp/mnist_hinge/'\n",
    "out_all = pickle.load(open(path + 'adv_acc.p', 'rb'))\n",
    "norm = pickle.load(open(path + 'norm.p', 'rb'))"
   ]
  },
  {
   "cell_type": "code",
   "execution_count": 23,
   "metadata": {},
   "outputs": [
    {
     "name": "stdout",
     "output_type": "stream",
     "text": [
      "& 4.77\\% (3.490) & 3.67\\% (3.583) & 22.59\\% (2.245) & 13.04\\% (2.571) \\\\\n",
      "& 98.12\\% (0.318) & 98.12\\% (0.318) & 98.85\\% (0.089) & 98.83\\% (0.089) \\\\\n",
      "& 99.10\\% (0.206) & 99.10\\% (0.206) & 99.10\\% (0.079) & 99.10\\% (0.079) \\\\\n",
      "& 10.31\\% (3.076) & 7.70\\% (3.306) & 33.54\\% (1.928) & 23.69\\% (2.325) \\\\\n",
      "& 98.85\\% (0.206) & 98.85\\% (0.206) & 99.13\\% (0.084) & 99.13\\% (0.084) \\\\\n",
      "& 99.07\\% (0.207) & 99.07\\% (0.207) & 99.08\\% (0.085) & 99.08\\% (0.085) \\\\\n",
      "& 0.05\\% (1.838) & 0.00\\% (1.844) & 0.46\\% (1.316) & 0.07\\% (1.334) \\\\\n",
      "& 97.54\\% (0.217) & 97.54\\% (0.217) & 98.20\\% (0.073) & 98.20\\% (0.073) \\\\\n",
      "& 98.24\\% (0.205) & 98.24\\% (0.205) & 98.24\\% (0.070) & 98.24\\% (0.070) \\\\\n",
      "& 0.04\\% (2.129) & 0.01\\% (2.132) & 0.17\\% (1.484) & 0.02\\% (1.490) \\\\\n",
      "& 97.66\\% (0.225) & 97.66\\% (0.225) & 98.26\\% (0.074) & 98.26\\% (0.074) \\\\\n",
      "& 98.26\\% (0.206) & 98.26\\% (0.206) & 98.26\\% (0.075) & 98.26\\% (0.075) \\\\\n"
     ]
    }
   ],
   "source": [
    "adv_acc = np.array(out_all) * 100\n",
    "for out, x_a in zip(adv_acc, norm):\n",
    "    adv = []\n",
    "    for x in x_a:\n",
    "        adv.append(np.mean(x))\n",
    "    string = ''\n",
    "    for i in range(4):\n",
    "        string += '& {:.2f}\\\\% ({:.3f}) '.format(out[i], adv[i])\n",
    "    string += '\\\\\\\\'\n",
    "    print(string)"
   ]
  },
  {
   "cell_type": "code",
   "execution_count": 18,
   "metadata": {},
   "outputs": [
    {
     "data": {
      "text/plain": [
       "[[0.0477, 0.0367, 0.2259, 0.1304],\n",
       " [0.9812, 0.9812, 0.9885, 0.9883],\n",
       " [0.991, 0.991, 0.991, 0.991],\n",
       " [0.1031, 0.077, 0.3354, 0.2369],\n",
       " [0.9885, 0.9885, 0.9913, 0.9913],\n",
       " [0.9907, 0.9907, 0.9908, 0.9908],\n",
       " [0.0005, 0.0, 0.0046, 0.0007],\n",
       " [0.9754, 0.9754, 0.982, 0.982],\n",
       " [0.9824, 0.9824, 0.9824, 0.9824],\n",
       " [0.0004, 0.0001, 0.0017, 0.0002],\n",
       " [0.9766, 0.9766, 0.9826, 0.9826],\n",
       " [0.9826, 0.9826, 0.9826, 0.9826]]"
      ]
     },
     "execution_count": 18,
     "metadata": {},
     "output_type": "execute_result"
    }
   ],
   "source": [
    "out_all"
   ]
  },
  {
   "cell_type": "code",
   "execution_count": 19,
   "metadata": {},
   "outputs": [
    {
     "name": "stdout",
     "output_type": "stream",
     "text": [
      "& 4.77\\% & 3.67\\% & 22.59\\% & 13.04\\% \\\\\n",
      "& 98.12\\% & 98.12\\% & 98.85\\% & 98.83\\% \\\\\n",
      "& 99.10\\% & 99.10\\% & 99.10\\% & 99.10\\% \\\\\n",
      "& 10.31\\% & 7.70\\% & 33.54\\% & 23.69\\% \\\\\n",
      "& 98.85\\% & 98.85\\% & 99.13\\% & 99.13\\% \\\\\n",
      "& 99.07\\% & 99.07\\% & 99.08\\% & 99.08\\% \\\\\n",
      "& 0.05\\% & 0.00\\% & 0.46\\% & 0.07\\% \\\\\n",
      "& 97.54\\% & 97.54\\% & 98.20\\% & 98.20\\% \\\\\n",
      "& 98.24\\% & 98.24\\% & 98.24\\% & 98.24\\% \\\\\n",
      "& 0.04\\% & 0.01\\% & 0.17\\% & 0.02\\% \\\\\n",
      "& 97.66\\% & 97.66\\% & 98.26\\% & 98.26\\% \\\\\n",
      "& 98.26\\% & 98.26\\% & 98.26\\% & 98.26\\% \\\\\n"
     ]
    }
   ],
   "source": [
    "#model = ['A', 'B', 'C', 'D']\n",
    "out = np.array(out_all) * 100\n",
    "for o in out:\n",
    "    print('& & {:.2f}\\\\% & {:.2f}\\\\% & {:.2f}\\\\% & {:.2f}\\\\% \\\\\\\\'.format(*o))"
   ]
  },
  {
   "cell_type": "code",
   "execution_count": 13,
   "metadata": {},
   "outputs": [],
   "source": [
    "model = build_cnn_mnist()\n",
    "model.load_weights('./tmp/mnist_a_hinge_c1e4/model.h5')"
   ]
  },
  {
   "cell_type": "code",
   "execution_count": 14,
   "metadata": {},
   "outputs": [
    {
     "name": "stdout",
     "output_type": "stream",
     "text": [
      "200/200 [==============================] - 0s 492us/step\n"
     ]
    },
    {
     "data": {
      "text/plain": [
       "[3.3896484375, 0.99]"
      ]
     },
     "execution_count": 14,
     "metadata": {},
     "output_type": "execute_result"
    }
   ],
   "source": [
    "grad_fn = gradient_fn(model, fn='mse')\n",
    "x_adv = PGD(model, x_test[:200], y_test[:200], grad_fn=grad_fn, norm=\"2\", n_step=100,\n",
    "                step_size=0.1, target=False, init_rnd=0, early_stop=True, proj='img')\n",
    "model.evaluate(x_adv, y_test_cat[:200])"
   ]
  },
  {
   "cell_type": "code",
   "execution_count": null,
   "metadata": {},
   "outputs": [],
   "source": []
  },
  {
   "cell_type": "code",
   "execution_count": 60,
   "metadata": {},
   "outputs": [
    {
     "data": {
      "text/plain": [
       "0.7449348"
      ]
     },
     "execution_count": 60,
     "metadata": {},
     "output_type": "execute_result"
    }
   ],
   "source": [
    "np.mean(np.linalg.norm((x_test[:200] - x_adv).reshape((-1, 784)), axis=1))"
   ]
  },
  {
   "cell_type": "code",
   "execution_count": 20,
   "metadata": {
    "scrolled": true
   },
   "outputs": [
    {
     "name": "stdout",
     "output_type": "stream",
     "text": [
      "[3.4899096, 3.583348, 2.2446651, 2.5708919]\n",
      "[0.31761956, 0.31761956, 0.08887988, 0.08942088]\n",
      "[0.20621184, 0.20621184, 0.078597784, 0.078597784]\n",
      "[3.075867, 3.305542, 1.927946, 2.324614]\n",
      "[0.20608595, 0.20608595, 0.08394684, 0.08394684]\n",
      "[0.20678778, 0.20678778, 0.085187994, 0.08518799]\n",
      "[1.8379561, 1.843642, 1.3160349, 1.3336991]\n",
      "[0.21748272, 0.21748272, 0.07320984, 0.07320984]\n",
      "[0.2054545, 0.2054545, 0.070391946, 0.070391946]\n",
      "[2.12854, 2.1317558, 1.4835951, 1.4902529]\n",
      "[0.22533785, 0.22533785, 0.073872164, 0.073872164]\n",
      "[0.20605744, 0.20605744, 0.07450759, 0.07450759]\n"
     ]
    }
   ],
   "source": [
    "for n in norm:\n",
    "    tmp = []\n",
    "    for m in n:\n",
    "        tmp.append(np.mean(m))\n",
    "    print(tmp)"
   ]
  },
  {
   "cell_type": "code",
   "execution_count": 92,
   "metadata": {
    "scrolled": true
   },
   "outputs": [
    {
     "name": "stdout",
     "output_type": "stream",
     "text": [
      "834 1.249677\n",
      "955 1.0085694\n",
      "688 0.87732315\n",
      "961 1.0266873\n",
      "403 0.473719\n",
      "357 0.46422395\n",
      "646 1.6913913\n",
      "835 1.5604444\n",
      "683 1.7266155\n",
      "610 0.7848365\n",
      "815 1.5394458\n",
      "771 1.6924123\n",
      "562 1.115763\n",
      "577 1.2391906\n",
      "853 1.4778733\n",
      "584 0.34626687\n",
      "664 1.3739657\n",
      "631 1.0673243\n",
      "601 1.3017255\n",
      "781 1.7501563\n",
      "508 0.9494593\n",
      "605 1.4051365\n",
      "838 1.4699451\n",
      "730 1.5199435\n",
      "671 0.920124\n",
      "478 0.99887663\n",
      "427 1.3910831\n",
      "652 1.1353099\n",
      "952 1.5259749\n",
      "565 0.97829425\n",
      "489 1.2699574\n",
      "977 1.3346845\n",
      "747 1.1208651\n",
      "865 0.88325137\n",
      "722 0.8242347\n",
      "795 0.65399235\n",
      "717 1.0098903\n",
      "663 0.93388575\n",
      "469 1.1722908\n",
      "451 1.2835174\n",
      "757 1.8556249\n",
      "419 0.5876409\n",
      "821 1.2211102\n",
      "648 1.7742425\n",
      "932 1.7079213\n",
      "512 1.1397663\n",
      "685 1.9748063\n",
      "674 1.3481584\n",
      "509 1.4811864\n",
      "827 0.8413359\n",
      "707 1.3226146\n",
      "420 0.76849604\n",
      "787 1.4434363\n",
      "500 0.34278885\n",
      "739 0.6183671\n",
      "825 1.434292\n",
      "467 0.876911\n",
      "706 1.3783139\n",
      "600 0.740553\n",
      "684 1.4701891\n",
      "663 1.4078088\n",
      "932 1.9833622\n",
      "450 1.5085076\n",
      "792 0.8745393\n",
      "959 1.165659\n",
      "679 1.414678\n",
      "439 1.3986557\n",
      "527 0.78746235\n",
      "356 0.83332753\n",
      "477 0.5301823\n",
      "632 1.7328244\n",
      "803 1.6212063\n",
      "699 0.9211725\n",
      "430 1.3588022\n",
      "458 0.9697762\n",
      "753 1.3769503\n",
      "545 0.92290455\n",
      "698 1.2749978\n",
      "914 1.5493137\n",
      "456 0.050829254\n",
      "473 0.81620455\n",
      "615 0.8849616\n",
      "486 0.68543553\n",
      "544 0.43893504\n",
      "648 1.0875828\n",
      "751 1.4362388\n",
      "579 1.5702938\n"
     ]
    }
   ],
   "source": [
    "opt = OptCarlini(model, target=False, c=1, lr=0.1, init_scl=0.,\n",
    "                 use_bound=False, loss_op=0, k=0, var_change=True,\n",
    "                 use_mask=False)\n",
    "\n",
    "x_adv = np.zeros_like(x_test[:100])\n",
    "norm = np.zeros(100)\n",
    "\n",
    "for i, (x, y) in enumerate(zip(x_test[:100], y_test_cat[:100])):\n",
    "    y_pred = predict(model, x)\n",
    "    if y_pred is not np.argmax(y):\n",
    "        x_adv[i], norm[i] = opt.optimize(x, y, \n",
    "                                         './tmp/mnist_a_hinge_c1/model.h5', \n",
    "                                         n_step=1000, prog=False)"
   ]
  },
  {
   "cell_type": "code",
   "execution_count": 85,
   "metadata": {},
   "outputs": [
    {
     "name": "stdout",
     "output_type": "stream",
     "text": [
      "Step: 0, norm=0.215, loss=8.768, obj=8.984\n",
      "Step: 50, norm=1.581, loss=5.409, obj=6.990\n",
      "Step: 100, norm=2.114, loss=0.000, obj=2.114\n",
      "Step: 150, norm=2.025, loss=0.000, obj=2.025\n",
      "Step: 200, norm=2.055, loss=0.000, obj=2.055\n",
      "Step: 250, norm=1.872, loss=0.000, obj=1.872\n",
      "Step: 300, norm=1.821, loss=0.019, obj=1.840\n",
      "Step: 350, norm=1.800, loss=0.000, obj=1.800\n",
      "Step: 400, norm=1.768, loss=0.000, obj=1.768\n",
      "Step: 450, norm=1.761, loss=0.000, obj=1.761\n",
      "Step: 500, norm=1.708, loss=0.088, obj=1.796\n",
      "Step: 550, norm=1.698, loss=0.024, obj=1.722\n",
      "Step: 600, norm=1.693, loss=0.088, obj=1.781\n",
      "Step: 650, norm=1.728, loss=0.000, obj=1.728\n",
      "Step: 700, norm=1.731, loss=0.000, obj=1.731\n",
      "Step: 750, norm=1.760, loss=0.000, obj=1.760\n",
      "771 1.6924123\n"
     ]
    }
   ],
   "source": [
    "opt = OptCarlini(model, target=False, c=1, lr=0.1, init_scl=0.,\n",
    "                 use_bound=False, loss_op=0, k=0, var_change=True,\n",
    "                 use_mask=False)\n",
    "\n",
    "i = 14\n",
    "x_adv, norm = opt.optimize(x_test[i], y_test_cat[i], \n",
    "                           './tmp/mnist_a_hinge_c1/model.h5', \n",
    "                           n_step=1000, prog=True)"
   ]
  },
  {
   "cell_type": "code",
   "execution_count": 87,
   "metadata": {},
   "outputs": [
    {
     "data": {
      "text/plain": [
       "<matplotlib.image.AxesImage at 0x7fc11c6c4d68>"
      ]
     },
     "execution_count": 87,
     "metadata": {},
     "output_type": "execute_result"
    },
    {
     "data": {
      "image/png": "[encoded data removed]",
      "text/plain": [
       "<Figure size 432x288 with 1 Axes>"
      ]
     },
     "metadata": {},
     "output_type": "display_data"
    }
   ],
   "source": [
    "plt.imshow(x_adv.reshape(28, 28))"
   ]
  },
  {
   "cell_type": "code",
   "execution_count": 93,
   "metadata": {},
   "outputs": [
    {
     "name": "stdout",
     "output_type": "stream",
     "text": [
      "100/100 [==============================] - 0s 2ms/step\n"
     ]
    },
    {
     "data": {
      "text/plain": [
       "[0.8083432149887085, 0.0]"
      ]
     },
     "execution_count": 93,
     "metadata": {},
     "output_type": "execute_result"
    }
   ],
   "source": [
    "model.evaluate(x_adv, y_test_cat[:100])"
   ]
  },
  {
   "cell_type": "code",
   "execution_count": 95,
   "metadata": {},
   "outputs": [
    {
     "data": {
      "text/plain": [
       "1.2061219992488623"
      ]
     },
     "execution_count": 95,
     "metadata": {},
     "output_type": "execute_result"
    }
   ],
   "source": [
    "np.mean(norm)"
   ]
  },
  {
   "cell_type": "code",
   "execution_count": 51,
   "metadata": {},
   "outputs": [],
   "source": [
    "path = './tmp/mnist_hinge/'\n",
    "out_all = []\n",
    "norm = []\n",
    "out_all.append(pickle.load(open(path + 'adv_acc_cw_a.p', 'rb')))\n",
    "norm.append(pickle.load(open(path + 'norm_cw_a.p', 'rb')))\n",
    "out_all.append(pickle.load(open(path + 'adv_acc_cw_b.p', 'rb')))\n",
    "norm.append(pickle.load(open(path + 'norm_cw_b.p', 'rb')))\n",
    "out_all.append(pickle.load(open(path + 'adv_acc_cw_c.p', 'rb')))\n",
    "norm.append(pickle.load(open(path + 'norm_cw_c.p', 'rb')))\n",
    "out_all.append(pickle.load(open(path + 'adv_acc_cw_d.p', 'rb')))\n",
    "norm.append(pickle.load(open(path + 'norm_cw_d.p', 'rb')))\n",
    "out_all = np.array(out_all)\n",
    "norm = np.array(norm)"
   ]
  },
  {
   "cell_type": "code",
   "execution_count": 52,
   "metadata": {},
   "outputs": [
    {
     "data": {
      "text/plain": [
       "array([[0.0015, 0.    , 0.    ],\n",
       "       [0.001 , 0.0005, 0.    ],\n",
       "       [0.0005, 0.    , 0.    ],\n",
       "       [0.4355, 0.    , 0.    ]])"
      ]
     },
     "execution_count": 52,
     "metadata": {},
     "output_type": "execute_result"
    }
   ],
   "source": [
    "out_all"
   ]
  },
  {
   "cell_type": "code",
   "execution_count": 53,
   "metadata": {},
   "outputs": [
    {
     "name": "stdout",
     "output_type": "stream",
     "text": [
      "[1.2597697622869788, 3.2441625574416246, 5.626747233669507]\n",
      "[1.0124896123609808, 3.157218853380956, 5.562136739145906]\n",
      "[0.975609056695037, 2.888066176317399, 5.152594895969611]\n",
      "[1.1216221650436675, 2.8534364917376878, 5.214344760305015]\n"
     ]
    }
   ],
   "source": [
    "for n in norm:\n",
    "    tmp = []\n",
    "    for m in n:\n",
    "        tmp.append(np.mean(m))\n",
    "    print(tmp)"
   ]
  },
  {
   "cell_type": "code",
   "execution_count": 58,
   "metadata": {},
   "outputs": [
    {
     "name": "stdout",
     "output_type": "stream",
     "text": [
      "& 0.15\\% (1.260) & 0.00\\% (3.244) & 0.00\\% (5.627) \\\\\n",
      "& 0.10\\% (1.012) & 0.05\\% (3.157) & 0.00\\% (5.562) \\\\\n",
      "& 0.05\\% (0.976) & 0.00\\% (2.888) & 0.00\\% (5.153) \\\\\n",
      "& 43.55\\% (1.122) & 0.00\\% (2.853) & 0.00\\% (5.214) \\\\\n"
     ]
    }
   ],
   "source": [
    "adv_acc = np.array(out_all) * 100\n",
    "for out, x_a in zip(adv_acc, norm):\n",
    "    adv = []\n",
    "    for x in x_a:\n",
    "        adv.append(np.mean(x))\n",
    "    string = ''\n",
    "    for i in range(3):\n",
    "        string += '& {:.2f}\\\\% ({:.3f}) '.format(out[i], adv[i])\n",
    "    string += '\\\\\\\\'\n",
    "    print(string)"
   ]
  },
  {
   "cell_type": "code",
   "execution_count": 27,
   "metadata": {},
   "outputs": [
    {
     "name": "stdout",
     "output_type": "stream",
     "text": [
      "[0.0]\n"
     ]
    }
   ],
   "source": [
    "print(pickle.load(open(path + 'adv_acc_cw_d_2.p', 'rb')))\n",
    "norm = pickle.load(open(path + 'norm_cw_d_2.p', 'rb'))"
   ]
  },
  {
   "cell_type": "code",
   "execution_count": 28,
   "metadata": {},
   "outputs": [
    {
     "data": {
      "text/plain": [
       "2.177731128770276"
      ]
     },
     "execution_count": 28,
     "metadata": {},
     "output_type": "execute_result"
    }
   ],
   "source": [
    "np.mean(norm)"
   ]
  },
  {
   "cell_type": "code",
   "execution_count": 5,
   "metadata": {
    "scrolled": true
   },
   "outputs": [
    {
     "name": "stdout",
     "output_type": "stream",
     "text": [
      "60000/60000 [==============================] - 5s 90us/step\n",
      "10000/10000 [==============================] - 1s 67us/step\n",
      "60000/60000 [==============================] - 4s 68us/step\n",
      "10000/10000 [==============================] - 1s 68us/step\n",
      "60000/60000 [==============================] - 4s 70us/step\n",
      "10000/10000 [==============================] - 1s 69us/step\n",
      "60000/60000 [==============================] - 6s 103us/step\n",
      "10000/10000 [==============================] - 1s 102us/step\n",
      "60000/60000 [==============================] - 6s 101us/step\n",
      "10000/10000 [==============================] - 1s 101us/step\n",
      "60000/60000 [==============================] - 6s 100us/step\n",
      "10000/10000 [==============================] - 1s 102us/step\n",
      "60000/60000 [==============================] - 3s 49us/step\n",
      "10000/10000 [==============================] - 0s 49us/step\n",
      "60000/60000 [==============================] - 3s 48us/step\n",
      "10000/10000 [==============================] - 1s 50us/step\n",
      "60000/60000 [==============================] - 3s 48us/step\n",
      "10000/10000 [==============================] - 0s 47us/step\n",
      "60000/60000 [==============================] - 3s 52us/step\n",
      "10000/10000 [==============================] - 1s 50us/step\n",
      "60000/60000 [==============================] - 3s 51us/step\n",
      "10000/10000 [==============================] - 1s 50us/step\n",
      "60000/60000 [==============================] - 3s 51us/step\n",
      "10000/10000 [==============================] - 0s 50us/step\n"
     ]
    }
   ],
   "source": [
    "acc = []\n",
    "for m in ['a', 'b', 'c', 'd']:\n",
    "\n",
    "    if m == 'a':\n",
    "        model = build_cnn_mnist()\n",
    "    elif m == 'b':\n",
    "        model = build_cnn_mnist_2()\n",
    "    elif m == 'c':\n",
    "        model = build_dnn_mnist(784, 300, 4)\n",
    "    else:\n",
    "        model = build_dnn_mnist(784, 1200, 6)\n",
    "\n",
    "    for C in ['1', '1e2', '1e4']:\n",
    "\n",
    "        model.load_weights('./tmp/mnist_{}_hinge_c{}/model.h5'.format(m, C))\n",
    "        acc.append(model.evaluate(x_train, y_train_cat)[1])\n",
    "        acc.append(model.evaluate(x_test, y_test_cat)[1])"
   ]
  },
  {
   "cell_type": "code",
   "execution_count": 12,
   "metadata": {},
   "outputs": [
    {
     "name": "stdout",
     "output_type": "stream",
     "text": [
      "&  & 99.77 & 99.30 \\\\\n",
      "&  & 99.67 & 99.09 \\\\\n",
      "&  & 99.64 & 99.11 \\\\\n",
      "&  & 99.98 & 99.37 \\\\\n",
      "&  & 99.99 & 99.25 \\\\\n",
      "&  & 99.84 & 99.08 \\\\\n",
      "&  & 99.22 & 97.88 \\\\\n",
      "&  & 99.63 & 98.41 \\\\\n",
      "&  & 99.61 & 98.24 \\\\\n",
      "&  & 99.09 & 98.01 \\\\\n",
      "&  & 99.71 & 98.40 \\\\\n",
      "&  & 99.50 & 98.26 \\\\\n"
     ]
    }
   ],
   "source": [
    "for i in range(0, len(acc), 2):\n",
    "    print('&  & {:.2f} & {:.2f} \\\\\\\\'.format(acc[i]*100, acc[i+1]*100))"
   ]
  },
  {
   "cell_type": "markdown",
   "metadata": {},
   "source": [
    "## MNIST Margin"
   ]
  },
  {
   "cell_type": "code",
   "execution_count": 7,
   "metadata": {},
   "outputs": [],
   "source": [
    "model = build_cnn_mnist()\n",
    "weight_path = './tmp/mnist_a_margin_c1e4_l1/model.h5'\n",
    "model.load_weights(weight_path)"
   ]
  },
  {
   "cell_type": "code",
   "execution_count": 41,
   "metadata": {},
   "outputs": [
    {
     "name": "stdout",
     "output_type": "stream",
     "text": [
      "200/200 [==============================] - 0s 2ms/step\n"
     ]
    },
    {
     "data": {
      "text/plain": [
       "[0.33224853515625, 0.995]"
      ]
     },
     "execution_count": 41,
     "metadata": {},
     "output_type": "execute_result"
    }
   ],
   "source": [
    "x_adv = PGD(model, x_test[:200], y_test[:200], grad_fn=None, norm=\"2\", n_step=50,\n",
    "                step_size=0.1, target=False, init_rnd=0., early_stop=True, proj='img')\n",
    "model.evaluate(x_adv, y_test_cat[:200])"
   ]
  },
  {
   "cell_type": "code",
   "execution_count": 42,
   "metadata": {},
   "outputs": [
    {
     "data": {
      "text/plain": [
       "array([[1145.8126 ,  670.1632 , 1085.8052 , 1177.4717 ,  798.5478 ,\n",
       "        1021.3019 ,  408.73645, 1679.8677 , 1168.2714 , 1157.1459 ],\n",
       "       [1343.5153 , 1570.4952 , 2023.2434 , 1218.5148 ,  786.3806 ,\n",
       "         880.0475 , 1260.1282 ,  939.68207, 1065.7428 ,  846.4018 ],\n",
       "       [ 429.84335,  697.86206,  400.6856 ,  309.1889 ,  479.19394,\n",
       "         286.99948,  355.9588 ,  391.09897,  408.78375,  300.49057]],\n",
       "      dtype=float32)"
      ]
     },
     "execution_count": 42,
     "metadata": {},
     "output_type": "execute_result"
    }
   ],
   "source": [
    "model.predict(x_test[:3])"
   ]
  },
  {
   "cell_type": "code",
   "execution_count": 43,
   "metadata": {},
   "outputs": [
    {
     "data": {
      "text/plain": [
       "0.00040482354"
      ]
     },
     "execution_count": 43,
     "metadata": {},
     "output_type": "execute_result"
    }
   ],
   "source": [
    "np.mean(np.linalg.norm((x_adv - x_test[:200]).reshape(-1, 784), axis=1))"
   ]
  },
  {
   "cell_type": "code",
   "execution_count": 8,
   "metadata": {
    "scrolled": true
   },
   "outputs": [],
   "source": [
    "opt = OptCarlini(model, target=False, c=1, lr=0.1, init_scl=0.,\n",
    "                 use_bound=False, loss_op=0, k=0, var_change=True,\n",
    "                 use_mask=False)\n",
    "\n",
    "x_adv = np.zeros_like(x_test[:100])\n",
    "norm = np.zeros(100)\n",
    "\n",
    "for i, (x, y) in enumerate(zip(x_test[:100], y_test_cat[:100])):\n",
    "    y_pred = predict(model, x)\n",
    "    if y_pred is not np.argmax(y):\n",
    "        x_adv[i], norm[i] = opt.optimize(x, y, \n",
    "                                         weight_path, \n",
    "                                         n_step=1000, prog=False)"
   ]
  },
  {
   "cell_type": "code",
   "execution_count": 9,
   "metadata": {},
   "outputs": [
    {
     "name": "stdout",
     "output_type": "stream",
     "text": [
      "100/100 [==============================] - 0s 2ms/step\n"
     ]
    },
    {
     "data": {
      "text/plain": [
       "[31874.501953125, 0.0]"
      ]
     },
     "execution_count": 9,
     "metadata": {},
     "output_type": "execute_result"
    }
   ],
   "source": [
    "model.evaluate(x_adv, y_test_cat[:100])"
   ]
  },
  {
   "cell_type": "code",
   "execution_count": 10,
   "metadata": {},
   "outputs": [
    {
     "data": {
      "text/plain": [
       "5.434279597997666"
      ]
     },
     "execution_count": 10,
     "metadata": {},
     "output_type": "execute_result"
    }
   ],
   "source": [
    "np.mean(norm[np.logical_not(np.isnan(norm))])"
   ]
  },
  {
   "cell_type": "code",
   "execution_count": 69,
   "metadata": {
    "scrolled": true
   },
   "outputs": [
    {
     "name": "stdout",
     "output_type": "stream",
     "text": [
      "744 2.0976593\n",
      "680 1.4234893\n",
      "685 1.0837396\n",
      "854 1.3824831\n",
      "822 0.88617533\n",
      "427 1.3765026\n",
      "604 1.0581111\n",
      "584 1.6073186\n",
      "920 1.6673732\n",
      "563 1.8580561\n",
      "614 1.146233\n",
      "784 1.6139787\n",
      "801 1.0290034\n",
      "531 0.42269847\n",
      "664 1.5942067\n",
      "485 1.287493\n",
      "480 1.381505\n",
      "848 1.4288517\n",
      "603 1.8513505\n",
      "513 1.1680964\n",
      "583 2.00475\n",
      "618 1.2472271\n",
      "567 1.564692\n",
      "900 1.4698888\n",
      "653 1.5241773\n",
      "989 1.8209057\n",
      "531 1.3541716\n",
      "903 1.7546698\n",
      "624 1.3804842\n",
      "623 2.0396028\n",
      "739 2.2753258\n",
      "872 1.1168981\n",
      "979 1.5000628\n",
      "630 1.6409396\n",
      "592 1.1835889\n",
      "380 0.7829149\n",
      "763 1.3537356\n",
      "360 0.9672389\n",
      "529 1.4134364\n",
      "594 2.572223\n",
      "390 0.7130056\n",
      "801 1.3611034\n",
      "814 1.6742055\n",
      "789 1.9146276\n",
      "859 1.268057\n",
      "682 2.1516047\n",
      "465 1.569587\n",
      "445 1.6547742\n",
      "498 1.8234901\n",
      "579 0.9257151\n",
      "743 1.6210896\n",
      "711 1.7517837\n",
      "469 0.7394538\n",
      "536 0.6107891\n",
      "552 2.2891004\n",
      "597 0.9878317\n",
      "367 1.5816675\n",
      "628 1.1373577\n",
      "561 1.4323629\n",
      "955 2.0402324\n",
      "825 1.9668934\n",
      "477 0.9501202\n",
      "849 2.139251\n",
      "524 1.384037\n",
      "860 1.8868606\n",
      "463 0.95960486\n",
      "828 2.1473489\n",
      "427 0.8000736\n",
      "778 2.3824108\n",
      "576 1.2443228\n",
      "543 2.061536\n",
      "336 1.4696071\n",
      "672 1.9438924\n",
      "664 1.4287981\n",
      "649 1.9107181\n",
      "644 1.5045508\n",
      "588 1.7164931\n",
      "426 0.41386902\n",
      "594 1.0843555\n",
      "442 1.1664987\n",
      "688 0.9682844\n",
      "642 1.100049\n",
      "638 1.7932587\n",
      "716 1.503045\n"
     ]
    }
   ],
   "source": [
    "model = build_cnn_mnist()\n",
    "model.load_weights('./tmp/mnist_a_margin_c1_l1e-1/model.h5')\n",
    "\n",
    "opt = OptCarlini(model, target=False, c=1, lr=0.1, init_scl=0.,\n",
    "                 use_bound=False, loss_op=0, k=0, var_change=True,\n",
    "                 use_mask=False)\n",
    "\n",
    "x_adv = np.zeros_like(x_test[:100])\n",
    "norm = np.zeros(100)\n",
    "\n",
    "for i, (x, y) in enumerate(zip(x_test[:100], y_test_cat[:100])):\n",
    "    y_pred = predict(model, x)\n",
    "    if y_pred is not np.argmax(y):\n",
    "        x_adv[i], norm[i] = opt.optimize(x, y, \n",
    "                                         './tmp/mnist_a_margin_c1_l1e-1/model.h5', \n",
    "                                         n_step=1000, prog=False)"
   ]
  },
  {
   "cell_type": "code",
   "execution_count": 70,
   "metadata": {},
   "outputs": [
    {
     "name": "stdout",
     "output_type": "stream",
     "text": [
      "100/100 [==============================] - 1s 8ms/step\n"
     ]
    },
    {
     "data": {
      "text/plain": [
       "[0.7449737215042114, 0.04]"
      ]
     },
     "execution_count": 70,
     "metadata": {},
     "output_type": "execute_result"
    }
   ],
   "source": [
    "model.evaluate(x_adv, y_test_cat[:100])"
   ]
  },
  {
   "cell_type": "code",
   "execution_count": 71,
   "metadata": {},
   "outputs": [
    {
     "data": {
      "text/plain": [
       "1.4323890718072654"
      ]
     },
     "execution_count": 71,
     "metadata": {},
     "output_type": "execute_result"
    }
   ],
   "source": [
    "np.mean(norm[np.logical_not(np.isnan(norm))])"
   ]
  },
  {
   "cell_type": "code",
   "execution_count": 27,
   "metadata": {},
   "outputs": [
    {
     "name": "stdout",
     "output_type": "stream",
     "text": [
      "\n",
      " & 9.75\\% & 0.005 \\\\\n",
      " & 0.00\\% & 1.885 \\\\\n"
     ]
    }
   ],
   "source": [
    "path = './tmp/mnist_margin/'\n",
    "adv = pickle.load(open(path + 'adv_acc_cw_0_c1e2.p', 'rb'))\n",
    "norm = pickle.load(open(path + 'norm_cw_0_c1e2.p', 'rb'))\n",
    "norm = [np.mean(n) for n in norm]\n",
    "string = ''\n",
    "for i in range(len(adv)):\n",
    "    string += '\\n & {:.2f}\\\\% & {:.3f} \\\\\\\\'.format(adv[i] * 100, norm[i])\n",
    "print(string)"
   ]
  },
  {
   "cell_type": "code",
   "execution_count": 28,
   "metadata": {},
   "outputs": [
    {
     "name": "stdout",
     "output_type": "stream",
     "text": [
      "\n",
      " & 0.00\\% & 2.843 \\\\\n",
      " & 0.00\\% & 2.752 \\\\\n",
      " & 0.00\\% & 2.888 \\\\\n"
     ]
    }
   ],
   "source": [
    "path = './tmp/mnist_margin/'\n",
    "adv = pickle.load(open(path + 'adv_acc_cw_0_c1e2_2.p', 'rb'))\n",
    "norm = pickle.load(open(path + 'norm_cw_0_c1e2_2.p', 'rb'))\n",
    "norm = [np.mean(n) for n in norm]\n",
    "string = ''\n",
    "for i in range(len(adv)):\n",
    "    string += '\\n & {:.2f}\\\\% & {:.3f} \\\\\\\\'.format(adv[i] * 100, norm[i])\n",
    "print(string)"
   ]
  },
  {
   "cell_type": "code",
   "execution_count": 16,
   "metadata": {},
   "outputs": [
    {
     "name": "stdout",
     "output_type": "stream",
     "text": [
      "\n",
      "& 97.15\\% (0.333) & 97.15\\% (0.333) & 98.52\\% (0.088) & 98.49\\% (0.088) \n",
      "& 97.79\\% (0.269) & 97.79\\% (0.269) & 98.65\\% (0.086) & 98.63\\% (0.086) \n",
      "& 97.15\\% (0.418) & 97.15\\% (0.418) & 98.50\\% (0.087) & 98.50\\% (0.087) \\\\\n"
     ]
    }
   ],
   "source": [
    "path = './tmp/mnist_margin/'\n",
    "adv = pickle.load(open(path + 'adv_acc_0_c1e2_pgd.p', 'rb'))\n",
    "norm = pickle.load(open(path + 'norm_0_c1e2_pgd.p', 'rb'))\n",
    "norm = [[np.mean(m) for m in n] for n in norm]\n",
    "string = ''\n",
    "for i in range(len(adv)):\n",
    "    string += '\\n'\n",
    "    for j in range(4):\n",
    "        string += '& {:.2f}\\\\% ({:.3f}) '.format(adv[i][j] * 100, norm[i][j])\n",
    "string += '\\\\\\\\'\n",
    "print(string)"
   ]
  },
  {
   "cell_type": "code",
   "execution_count": 17,
   "metadata": {},
   "outputs": [
    {
     "name": "stdout",
     "output_type": "stream",
     "text": [
      "\n",
      "& 9.82\\% (0.232) & 9.68\\% (0.255) & 9.82\\% (0.087) & 9.82\\% (0.087) \n",
      "& 67.22\\% (0.441) & 67.18\\% (0.450) & 76.42\\% (0.091) & 76.32\\% (0.091) \\\\\n"
     ]
    }
   ],
   "source": [
    "path = './tmp/mnist_margin/'\n",
    "adv = pickle.load(open(path + 'adv_acc_0_c1e2_pgd_2.p', 'rb'))\n",
    "norm = pickle.load(open(path + 'norm_0_c1e2_pgd_2.p', 'rb'))\n",
    "norm = [[np.mean(m) for m in n] for n in norm]\n",
    "string = ''\n",
    "for i in range(len(adv)):\n",
    "    string += '\\n'\n",
    "    for j in range(4):\n",
    "        string += '& {:.2f}\\\\% ({:.3f}) '.format(adv[i][j] * 100, norm[i][j])\n",
    "string += '\\\\\\\\'\n",
    "print(string)"
   ]
  },
  {
   "cell_type": "code",
   "execution_count": 6,
   "metadata": {},
   "outputs": [
    {
     "name": "stdout",
     "output_type": "stream",
     "text": [
      "[0.0, 0.0, 0.001]\n"
     ]
    },
    {
     "data": {
      "text/plain": [
       "[2.8292246243220287, 3.096051563514164, 2.8196359638544686]"
      ]
     },
     "execution_count": 6,
     "metadata": {},
     "output_type": "execute_result"
    }
   ],
   "source": [
    "path = './tmp/mnist_margin/'\n",
    "print(pickle.load(open(path + 'adv_acc_cw_a_c1e2.p', 'rb')))\n",
    "norm = pickle.load(open(path + 'norm_cw_a_c1e2.p', 'rb'))\n",
    "[np.mean(n) for n in norm]"
   ]
  },
  {
   "cell_type": "code",
   "execution_count": null,
   "metadata": {},
   "outputs": [],
   "source": [
    "# large c means larger dist but gradient seems to be large as well\n",
    "# large l means smaller gradient"
   ]
  },
  {
   "cell_type": "code",
   "execution_count": 6,
   "metadata": {},
   "outputs": [],
   "source": [
    "path = './tmp/mnist_margin/'\n",
    "acc = pickle.load(open('./tmp/mnist_margin/acc_1.p', 'rb'))"
   ]
  },
  {
   "cell_type": "code",
   "execution_count": 7,
   "metadata": {},
   "outputs": [
    {
     "data": {
      "text/plain": [
       "[0.10218333333333333, 0.101]"
      ]
     },
     "execution_count": 7,
     "metadata": {},
     "output_type": "execute_result"
    }
   ],
   "source": [
    "acc"
   ]
  },
  {
   "cell_type": "code",
   "execution_count": 14,
   "metadata": {
    "scrolled": true
   },
   "outputs": [
    {
     "name": "stdout",
     "output_type": "stream",
     "text": [
      "60000/60000 [==============================] - 5s 80us/step\n",
      "10000/10000 [==============================] - 1s 79us/step\n",
      "60000/60000 [==============================] - 5s 76us/step\n",
      "10000/10000 [==============================] - 1s 70us/step\n",
      "60000/60000 [==============================] - 5s 76us/step\n",
      "10000/10000 [==============================] - 1s 76us/step\n",
      "60000/60000 [==============================] - 5s 77us/step\n",
      "10000/10000 [==============================] - 1s 73us/step\n",
      "60000/60000 [==============================] - 5s 78us/step\n",
      "10000/10000 [==============================] - 1s 79us/step\n",
      "60000/60000 [==============================] - 5s 81us/step\n",
      "10000/10000 [==============================] - 1s 81us/step\n",
      "60000/60000 [==============================] - 5s 85us/step\n",
      "10000/10000 [==============================] - 1s 80us/step\n",
      "60000/60000 [==============================] - 5s 80us/step\n",
      "10000/10000 [==============================] - 1s 70us/step\n",
      "60000/60000 [==============================] - 5s 81us/step\n",
      "10000/10000 [==============================] - 1s 78us/step\n",
      "60000/60000 [==============================] - 5s 87us/step\n",
      "10000/10000 [==============================] - 1s 80us/step\n",
      "60000/60000 [==============================] - 6s 97us/step\n",
      "10000/10000 [==============================] - 1s 96us/step\n",
      "60000/60000 [==============================] - 5s 86us/step\n",
      "10000/10000 [==============================] - 1s 88us/step\n",
      "60000/60000 [==============================] - 6s 97us/step\n",
      "10000/10000 [==============================] - 1s 97us/step\n",
      "60000/60000 [==============================] - 6s 94us/step\n",
      "10000/10000 [==============================] - 1s 81us/step\n",
      "60000/60000 [==============================] - 5s 92us/step\n",
      "10000/10000 [==============================] - 1s 78us/step\n",
      "60000/60000 [==============================] - 5s 92us/step\n",
      "10000/10000 [==============================] - 1s 80us/step\n",
      "60000/60000 [==============================] - 6s 96us/step\n",
      "10000/10000 [==============================] - 1s 94us/step\n",
      "60000/60000 [==============================] - 5s 87us/step\n",
      "10000/10000 [==============================] - 1s 84us/step\n",
      "60000/60000 [==============================] - 6s 94us/step\n",
      "10000/10000 [==============================] - 1s 91us/step\n",
      "60000/60000 [==============================] - 6s 98us/step\n",
      "10000/10000 [==============================] - 1s 92us/step\n",
      "60000/60000 [==============================] - 6s 96us/step\n",
      "10000/10000 [==============================] - 1s 82us/step\n",
      "60000/60000 [==============================] - 5s 91us/step\n",
      "10000/10000 [==============================] - 1s 94us/step\n",
      "60000/60000 [==============================] - 5s 91us/step\n",
      "10000/10000 [==============================] - 1s 80us/step\n",
      "60000/60000 [==============================] - 5s 90us/step\n",
      "10000/10000 [==============================] - 1s 97us/step\n",
      "60000/60000 [==============================] - 6s 97us/step\n",
      "10000/10000 [==============================] - 1s 82us/step\n",
      "60000/60000 [==============================] - 5s 88us/step\n",
      "10000/10000 [==============================] - 1s 90us/step\n",
      "60000/60000 [==============================] - 5s 91us/step\n",
      "10000/10000 [==============================] - 1s 83us/step\n"
     ]
    }
   ],
   "source": [
    "train_test_acc = []\n",
    "for C in [1, 1e2, 1e4]:\n",
    "    for lamda in [1e-8, 1e-7, 1e-6, 1e-5, 1e-4, 1e-3, 1e-2, 1e-1, 1]:\n",
    "        \n",
    "        path = './tmp/mnist_0_margin_c{}_l{}/'.format(C, lamda)\n",
    "        model = build_cnn_mnist()\n",
    "        model.load_weights(path + 'model.h5')\n",
    "        train_test_acc.append(model.evaluate(x_train, y_train_cat)[1])\n",
    "        train_test_acc.append(model.evaluate(x_test, y_test_cat)[1])"
   ]
  },
  {
   "cell_type": "code",
   "execution_count": 15,
   "metadata": {},
   "outputs": [
    {
     "name": "stdout",
     "output_type": "stream",
     "text": [
      "1 & 1e-08 & 99.60 & 98.98\n",
      "1 & 1e-07 & 99.76 & 98.93\n",
      "1 & 1e-06 & 99.70 & 98.88\n",
      "1 & 1e-05 & 99.31 & 98.88\n",
      "1 & 0.0001 & 94.14 & 94.48\n",
      "1 & 0.001 & 9.86 & 9.58\n",
      "1 & 0.01 & 19.95 & 20.40\n",
      "1 & 0.1 & 9.92 & 10.09\n",
      "1 & 1 & 9.75 & 9.74\n",
      "100.0 & 1e-08 & 99.45 & 98.73\n",
      "100.0 & 1e-07 & 99.57 & 98.88\n",
      "100.0 & 1e-06 & 99.83 & 98.97\n",
      "100.0 & 1e-05 & 99.54 & 98.85\n",
      "100.0 & 0.0001 & 99.55 & 98.72\n",
      "100.0 & 0.001 & 46.10 & 46.02\n",
      "100.0 & 0.01 & 10.43 & 10.30\n",
      "100.0 & 0.1 & 9.72 & 9.80\n",
      "100.0 & 1 & 9.75 & 9.74\n",
      "10000.0 & 1e-08 & 99.52 & 98.70\n",
      "10000.0 & 1e-07 & 99.23 & 98.52\n",
      "10000.0 & 1e-06 & 99.62 & 98.74\n",
      "10000.0 & 1e-05 & 99.62 & 98.61\n",
      "10000.0 & 0.0001 & 99.04 & 98.55\n",
      "10000.0 & 0.001 & 54.99 & 55.23\n",
      "10000.0 & 0.01 & 18.06 & 18.24\n",
      "10000.0 & 0.1 & 10.44 & 10.28\n",
      "10000.0 & 1 & 9.04 & 8.92\n"
     ]
    }
   ],
   "source": [
    "i = 0\n",
    "for C in [1, 1e2, 1e4]:\n",
    "    for lamda in [1e-8, 1e-7, 1e-6, 1e-5, 1e-4, 1e-3, 1e-2, 1e-1, 1]:\n",
    "        print('{} & {} & {:.2f} & {:.2f}'.format(C, lamda, \n",
    "                                                 train_test_acc[2*i] * 100, \n",
    "                                                 train_test_acc[2*i + 1] * 100))\n",
    "        i += 1"
   ]
  },
  {
   "cell_type": "code",
   "execution_count": 13,
   "metadata": {},
   "outputs": [
    {
     "name": "stdout",
     "output_type": "stream",
     "text": [
      "1 & 1e-08 & 99.73 & 98.94\n",
      "1 & 1e-07 & 98.74 & 98.41\n",
      "1 & 1e-06 & 67.89 & 67.00\n",
      "1 & 1e-05 & 68.52 & 68.46\n",
      "1 & 0.0001 & 13.15 & 13.49\n",
      "1 & 0.001 & 27.92 & 28.48\n",
      "1 & 0.01 & 9.86 & 9.58\n",
      "1 & 0.1 & 10.44 & 10.28\n",
      "1 & 1 & 9.93 & 10.32\n",
      "100.0 & 1e-08 & 99.74 & 98.90\n",
      "100.0 & 1e-07 & 95.19 & 95.28\n",
      "100.0 & 1e-06 & 78.57 & 78.77\n",
      "100.0 & 1e-05 & 41.66 & 43.19\n",
      "100.0 & 0.0001 & 19.00 & 19.05\n",
      "100.0 & 0.001 & 9.87 & 9.80\n",
      "100.0 & 0.01 & 9.87 & 9.58\n",
      "100.0 & 0.1 & 9.75 & 9.74\n",
      "100.0 & 1 & 9.03 & 8.92\n",
      "10000.0 & 1e-08 & 99.64 & 98.63\n",
      "10000.0 & 1e-07 & 98.82 & 98.27\n",
      "10000.0 & 1e-06 & 97.69 & 97.65\n",
      "10000.0 & 1e-05 & 61.53 & 62.84\n",
      "10000.0 & 0.0001 & 13.15 & 13.66\n",
      "10000.0 & 0.001 & 11.24 & 11.36\n",
      "10000.0 & 0.01 & 10.22 & 10.10\n",
      "10000.0 & 0.1 & 11.24 & 11.35\n",
      "10000.0 & 1 & 10.22 & 10.10\n"
     ]
    }
   ],
   "source": [
    "#2\n",
    "i = 0\n",
    "for C in [1, 1e2, 1e4]:\n",
    "    for lamda in [1e-8, 1e-7, 1e-6, 1e-5, 1e-4, 1e-3, 1e-2, 1e-1, 1]:\n",
    "        print('{} & {} & {:.2f} & {:.2f}'.format(C, lamda, \n",
    "                                                 train_test_acc[2*i] * 100, \n",
    "                                                 train_test_acc[2*i + 1] * 100))\n",
    "        i += 1"
   ]
  },
  {
   "cell_type": "code",
   "execution_count": null,
   "metadata": {},
   "outputs": [
    {
     "name": "stdout",
     "output_type": "stream",
     "text": [
      "1 1e-08\n",
      "100/100 [==============================] - 1s 6ms/step\n",
      "[0.7665975379943848, 0.0]\n",
      "1.198652681335807\n",
      "\n",
      "\n",
      "1 1e-07\n",
      "100/100 [==============================] - 1s 7ms/step\n",
      "[0.7297619724273682, 0.0]\n",
      "1.1501960013061763\n",
      "\n",
      "\n",
      "1 1e-06\n",
      "100/100 [==============================] - 1s 10ms/step\n",
      "[0.7763922476768493, 0.0]\n",
      "1.1546933438442648\n",
      "\n",
      "\n",
      "1 1e-05\n",
      "100/100 [==============================] - 1s 10ms/step\n",
      "[0.840819640159607, 0.0]\n",
      "1.4016218279115855\n",
      "\n",
      "\n",
      "1 0.0001\n",
      "100/100 [==============================] - 1s 13ms/step\n",
      "[0.9358652687072754, 0.01]\n",
      "1.4178136832267045\n",
      "\n",
      "\n",
      "100.0 1e-08\n",
      "100/100 [==============================] - 2s 16ms/step\n",
      "[2.4843095207214354, 0.0]\n",
      "2.7985320806503298\n",
      "\n",
      "\n",
      "100.0 1e-07\n",
      "100/100 [==============================] - 2s 18ms/step\n",
      "[3.769030156135559, 0.0]\n",
      "2.74230490044225\n",
      "\n",
      "\n",
      "100.0 1e-06\n",
      "100/100 [==============================] - 2s 23ms/step\n",
      "[5.6684349203109745, 0.0]\n",
      "2.6979609151929616\n",
      "\n",
      "\n",
      "100.0 1e-05\n",
      "100/100 [==============================] - 2s 21ms/step\n",
      "[0.8400825309753418, 0.0]\n",
      "2.4557943892478944\n",
      "\n",
      "\n",
      "100.0 0.0001\n",
      "100/100 [==============================] - 2s 24ms/step\n",
      "[1.8323309516906738, 0.0]\n",
      "2.7026943272352217\n",
      "\n",
      "\n",
      "10000.0 1e-08\n",
      "100/100 [==============================] - 3s 27ms/step\n",
      "[31159.89875, 0.0]\n",
      "4.767745268126018\n",
      "\n",
      "\n",
      "10000.0 1e-07\n",
      "100/100 [==============================] - 3s 30ms/step\n",
      "[27875.9990625, 0.0]\n",
      "4.846811549663544\n",
      "\n",
      "\n"
     ]
    }
   ],
   "source": [
    "for C in [1, 1e2, 1e4]:\n",
    "    for lamda in [1e-8, 1e-7, 1e-6, 1e-5, 1e-4]:\n",
    "        \n",
    "        path = './tmp/mnist_0_margin_c{}_l{}/'.format(C, lamda)\n",
    "        model = build_cnn_mnist()\n",
    "        model.load_weights(path + 'model.h5')\n",
    "        \n",
    "#         x_adv = PGD(model, x_test[:200], y_test[:200], grad_fn=None, norm=\"2\", n_step=50,\n",
    "#                 step_size=0.1, target=False, init_rnd=0., early_stop=True, proj='img')\n",
    "        opt = OptCarlini(model, target=False, c=1, lr=0.1, init_scl=0.,\n",
    "                 use_bound=False, loss_op=0, k=0, var_change=True,\n",
    "                 use_mask=False)\n",
    "\n",
    "        x_adv = np.zeros_like(x_test[:100])\n",
    "        norm = np.zeros(100)\n",
    "\n",
    "        for i, (x, y) in enumerate(zip(x_test[:100], y_test_cat[:100])):\n",
    "            y_pred = predict(model, x)\n",
    "            if y_pred is not np.argmax(y):\n",
    "                x_adv[i], norm[i] = opt.optimize(x, y, \n",
    "                                                 path + 'model.h5', \n",
    "                                                 n_step=1000, prog=False)\n",
    "        print(C, lamda)\n",
    "        print(model.evaluate(x_adv, y_test_cat[:100]))\n",
    "        print(np.mean(norm[np.logical_not(np.isnan(norm))]))\n",
    "        print('\\n')"
   ]
  },
  {
   "cell_type": "code",
   "execution_count": 5,
   "metadata": {},
   "outputs": [
    {
     "name": "stdout",
     "output_type": "stream",
     "text": [
      "10000.0 1e-06\n",
      "100/100 [==============================] - 0s 823us/step\n",
      "[37708.47390625, 0.0]\n",
      "4.56059256516397\n",
      "\n",
      "\n",
      "10000.0 1e-05\n",
      "100/100 [==============================] - 0s 1ms/step\n",
      "[37574.60671875, 0.0]\n",
      "4.733556143045425\n",
      "\n",
      "\n",
      "10000.0 0.0001\n",
      "100/100 [==============================] - 0s 1ms/step\n",
      "[25737.76890625, 0.0]\n",
      "4.761446526050568\n",
      "\n",
      "\n"
     ]
    }
   ],
   "source": [
    "for C in [1e4]:\n",
    "    for lamda in [1e-6, 1e-5, 1e-4]:\n",
    "        \n",
    "        path = './tmp/mnist_0_margin_c{}_l{}/'.format(C, lamda)\n",
    "        model = build_cnn_mnist()\n",
    "        model.load_weights(path + 'model.h5')\n",
    "        \n",
    "#         x_adv = PGD(model, x_test[:200], y_test[:200], grad_fn=None, norm=\"2\", n_step=50,\n",
    "#                 step_size=0.1, target=False, init_rnd=0., early_stop=True, proj='img')\n",
    "        opt = OptCarlini(model, target=False, c=1, lr=0.1, init_scl=0.,\n",
    "                 use_bound=False, loss_op=0, k=0, var_change=True,\n",
    "                 use_mask=False)\n",
    "\n",
    "        x_adv = np.zeros_like(x_test[:100])\n",
    "        norm = np.zeros(100)\n",
    "\n",
    "        for i, (x, y) in enumerate(zip(x_test[:100], y_test_cat[:100])):\n",
    "            y_pred = predict(model, x)\n",
    "            if y_pred is not np.argmax(y):\n",
    "                x_adv[i], norm[i] = opt.optimize(x, y, \n",
    "                                                 path + 'model.h5', \n",
    "                                                 n_step=1000, prog=False)\n",
    "        print(C, lamda)\n",
    "        print(model.evaluate(x_adv, y_test_cat[:100]))\n",
    "        print(np.mean(norm[np.logical_not(np.isnan(norm))]))\n",
    "        print('\\n')"
   ]
  },
  {
   "cell_type": "code",
   "execution_count": 13,
   "metadata": {},
   "outputs": [
    {
     "name": "stdout",
     "output_type": "stream",
     "text": [
      "1e2 1e-1\n",
      "100/100 [==============================] - 0s 3ms/step\n",
      "[1.115299298763275, 0.0]\n",
      "2.8013450357317926\n",
      "\n",
      "\n",
      "1e2 1\n",
      "100/100 [==============================] - 0s 3ms/step\n",
      "[1.390903151035309, 0.0]\n",
      "3.0650123450299724\n",
      "\n",
      "\n",
      "1e2 1e1\n",
      "100/100 [==============================] - 0s 4ms/step\n",
      "[1.0216299629211425, 0.0]\n",
      "2.870854597017169\n",
      "\n",
      "\n"
     ]
    }
   ],
   "source": [
    "for C in ['1e2']:\n",
    "    for lamda in ['1e-1', 1, '1e1']:\n",
    "        \n",
    "        path = './tmp/mnist_a_margin_c{}_l{}/'.format(C, lamda)\n",
    "        model = build_cnn_mnist()\n",
    "        model.load_weights(path + 'model.h5')\n",
    "        \n",
    "#         x_adv = PGD(model, x_test[:200], y_test[:200], grad_fn=None, norm=\"2\", n_step=50,\n",
    "#                 step_size=0.1, target=False, init_rnd=0., early_stop=True, proj='img')\n",
    "        opt = OptCarlini(model, target=False, c=1, lr=0.1, init_scl=0.,\n",
    "                 use_bound=False, loss_op=0, k=0, var_change=True,\n",
    "                 use_mask=False)\n",
    "\n",
    "        x_adv = np.zeros_like(x_test[:100])\n",
    "        norm = np.zeros(100)\n",
    "\n",
    "        for i, (x, y) in enumerate(zip(x_test[:100], y_test_cat[:100])):\n",
    "            y_pred = predict(model, x)\n",
    "            if y_pred is not np.argmax(y):\n",
    "                x_adv[i], norm[i] = opt.optimize(x, y, \n",
    "                                                 path + 'model.h5', \n",
    "                                                 n_step=1000, prog=False)\n",
    "        print(C, lamda)\n",
    "        print(model.evaluate(x_adv, y_test_cat[:100]))\n",
    "        print(np.mean(norm[np.logical_not(np.isnan(norm))]))\n",
    "        print('\\n')"
   ]
  },
  {
   "cell_type": "code",
   "execution_count": 15,
   "metadata": {},
   "outputs": [
    {
     "name": "stdout",
     "output_type": "stream",
     "text": [
      "1 1e-08\n",
      "100/100 [==============================] - 1s 7ms/step\n",
      "[0.7749014210700989, 0.0]\n",
      "1.2698889727145433\n",
      "\n",
      "\n",
      "1 1e-07\n",
      "100/100 [==============================] - 1s 8ms/step\n",
      "[0.8966481113433837, 0.0]\n",
      "1.218768122792244\n",
      "\n",
      "\n",
      "1 1e-06\n",
      "100/100 [==============================] - 1s 12ms/step\n",
      "[1.4161449623107911, 0.01]\n",
      "0.640521601724904\n",
      "\n",
      "\n",
      "100.0 1e-08\n",
      "100/100 [==============================] - 1s 13ms/step\n",
      "[7.748566370010376, 0.0]\n",
      "2.829295699899085\n",
      "\n",
      "\n",
      "100.0 1e-07\n",
      "100/100 [==============================] - 2s 16ms/step\n",
      "[5.625596179962158, 0.0]\n",
      "2.5516858717706055\n",
      "\n",
      "\n",
      "100.0 1e-06\n",
      "100/100 [==============================] - 2s 18ms/step\n",
      "[20.169281721115112, 0.0]\n",
      "1.971486208755523\n",
      "\n",
      "\n",
      "10000.0 1e-08\n",
      "100/100 [==============================] - 2s 20ms/step\n",
      "[39639.9259375, 0.0]\n",
      "4.647837112769484\n",
      "\n",
      "\n",
      "10000.0 1e-07\n",
      "100/100 [==============================] - 2s 21ms/step\n",
      "[27615.072734375, 0.0]\n",
      "4.768170896922238\n",
      "\n",
      "\n",
      "10000.0 1e-06\n",
      "100/100 [==============================] - 2s 23ms/step\n",
      "[20880.52171875, 0.0]\n",
      "4.962135551129467\n",
      "\n",
      "\n"
     ]
    }
   ],
   "source": [
    "for C in [1, 1e2, 1e4]:\n",
    "    for lamda in [1e-8, 1e-7, 1e-6]:\n",
    "        \n",
    "        path = './tmp/mnist_0_margin_c{}_l{}_2/'.format(C, lamda)\n",
    "        model = build_cnn_mnist()\n",
    "        model.load_weights(path + 'model.h5')\n",
    "        \n",
    "        opt = OptCarlini(model, target=False, c=1, lr=0.1, init_scl=0.,\n",
    "                 use_bound=False, loss_op=0, k=0, var_change=True,\n",
    "                 use_mask=False)\n",
    "\n",
    "        x_adv = np.zeros_like(x_test[:100])\n",
    "        norm = np.zeros(100)\n",
    "\n",
    "        for i, (x, y) in enumerate(zip(x_test[:100], y_test_cat[:100])):\n",
    "            y_pred = predict(model, x)\n",
    "            if y_pred is not np.argmax(y):\n",
    "                x_adv[i], norm[i] = opt.optimize(x, y, \n",
    "                                                 path + 'model.h5', \n",
    "                                                 n_step=1000, prog=False)\n",
    "        print(C, lamda)\n",
    "        print(model.evaluate(x_adv, y_test_cat[:100]))\n",
    "        print(np.mean(norm[np.logical_not(np.isnan(norm))]))\n",
    "        print('\\n')"
   ]
  },
  {
   "cell_type": "code",
   "execution_count": null,
   "metadata": {},
   "outputs": [
    {
     "name": "stdout",
     "output_type": "stream",
     "text": [
      "1e2 1e-10\n",
      "100/100 [==============================] - 3s 26ms/step\n",
      "[0.8474851775169373, 0.0]\n",
      "2.8101647889614103\n",
      "\n",
      "\n",
      "1e2 1e-12\n",
      "100/100 [==============================] - 3s 27ms/step\n",
      "[0.8462567973136902, 0.0]\n",
      "2.7255279180407523\n",
      "\n",
      "\n",
      "1e2 1e-14\n",
      "100/100 [==============================] - 3s 33ms/step\n",
      "[2.8178737354278565, 0.0]\n",
      "2.7057058642432095\n",
      "\n",
      "\n",
      "1e2 1e-16\n",
      "100/100 [==============================] - 3s 32ms/step\n",
      "[3.4454725122451784, 0.0]\n",
      "2.8033681517094373\n",
      "\n",
      "\n",
      "1e2 1e-18\n",
      "100/100 [==============================] - 4s 36ms/step\n",
      "[1.7928581714630127, 0.0]\n",
      "2.8278158891201017\n",
      "\n",
      "\n",
      "1e2 1e-20\n",
      "100/100 [==============================] - 4s 37ms/step\n",
      "[1.4956170129776, 0.0]\n",
      "2.856091097667813\n",
      "\n",
      "\n"
     ]
    }
   ],
   "source": [
    "# square but file name doesnt have _2\n",
    "for C in ['1e2']:\n",
    "    for lamda in ['1e-10', '1e-12', '1e-14', '1e-16', '1e-18', '1e-20', \n",
    "                 '1e-22', '1e-24']:\n",
    "        \n",
    "        path = './tmp/mnist_0_margin_c{}_l{}/'.format(C, lamda)\n",
    "        model = build_cnn_mnist()\n",
    "        model.load_weights(path + 'model.h5')\n",
    "        \n",
    "        opt = OptCarlini(model, target=False, c=1, lr=0.1, init_scl=0.,\n",
    "                 use_bound=False, loss_op=0, k=0, var_change=True,\n",
    "                 use_mask=False)\n",
    "\n",
    "        x_adv = np.zeros_like(x_test[:100])\n",
    "        norm = np.zeros(100)\n",
    "\n",
    "        for i, (x, y) in enumerate(zip(x_test[:100], y_test_cat[:100])):\n",
    "            y_pred = predict(model, x)\n",
    "            if y_pred is not np.argmax(y):\n",
    "                x_adv[i], norm[i] = opt.optimize(x, y, \n",
    "                                                 path + 'model.h5', \n",
    "                                                 n_step=1000, prog=False)\n",
    "        print(C, lamda)\n",
    "        print(model.evaluate(x_adv, y_test_cat[:100]))\n",
    "        print(np.mean(norm[np.logical_not(np.isnan(norm))]))\n",
    "        print('\\n')"
   ]
  },
  {
   "cell_type": "code",
   "execution_count": 17,
   "metadata": {
    "scrolled": true
   },
   "outputs": [
    {
     "name": "stdout",
     "output_type": "stream",
     "text": [
      "1e2 1e-22\n",
      "100/100 [==============================] - 5s 53ms/step\n",
      "[2.729799175262451, 0.0]\n",
      "2.6238374414294956\n",
      "\n",
      "\n"
     ]
    },
    {
     "ename": "OSError",
     "evalue": "Unable to open file (Unable to open file: name = './tmp/mnist_0_margin_c1e2_l1e-24/model.h5', errno = 2, error message = 'no such file or directory', flags = 0, o_flags = 0)",
     "output_type": "error",
     "traceback": [
      "\u001b[0;31m---------------------------------------------------------------------------\u001b[0m",
      "\u001b[0;31mOSError\u001b[0m                                   Traceback (most recent call last)",
      "\u001b[0;32m<ipython-input-17-4c2c13cc2045>\u001b[0m in \u001b[0;36m<module>\u001b[0;34m()\u001b[0m\n\u001b[1;32m      5\u001b[0m         \u001b[0mpath\u001b[0m \u001b[0;34m=\u001b[0m \u001b[0;34m'./tmp/mnist_0_margin_c{}_l{}/'\u001b[0m\u001b[0;34m.\u001b[0m\u001b[0mformat\u001b[0m\u001b[0;34m(\u001b[0m\u001b[0mC\u001b[0m\u001b[0;34m,\u001b[0m \u001b[0mlamda\u001b[0m\u001b[0;34m)\u001b[0m\u001b[0;34m\u001b[0m\u001b[0m\n\u001b[1;32m      6\u001b[0m         \u001b[0mmodel\u001b[0m \u001b[0;34m=\u001b[0m \u001b[0mbuild_cnn_mnist\u001b[0m\u001b[0;34m(\u001b[0m\u001b[0;34m)\u001b[0m\u001b[0;34m\u001b[0m\u001b[0m\n\u001b[0;32m----> 7\u001b[0;31m         \u001b[0mmodel\u001b[0m\u001b[0;34m.\u001b[0m\u001b[0mload_weights\u001b[0m\u001b[0;34m(\u001b[0m\u001b[0mpath\u001b[0m \u001b[0;34m+\u001b[0m \u001b[0;34m'model.h5'\u001b[0m\u001b[0;34m)\u001b[0m\u001b[0;34m\u001b[0m\u001b[0m\n\u001b[0m\u001b[1;32m      8\u001b[0m \u001b[0;34m\u001b[0m\u001b[0m\n\u001b[1;32m      9\u001b[0m         opt = OptCarlini(model, target=False, c=1, lr=0.1, init_scl=0.,\n",
      "\u001b[0;32m~/.conda/envs/tsa3/lib/python3.6/site-packages/keras/models.py\u001b[0m in \u001b[0;36mload_weights\u001b[0;34m(self, filepath, by_name, skip_mismatch, reshape)\u001b[0m\n\u001b[1;32m    722\u001b[0m         \u001b[0;32mif\u001b[0m \u001b[0mh5py\u001b[0m \u001b[0;32mis\u001b[0m \u001b[0;32mNone\u001b[0m\u001b[0;34m:\u001b[0m\u001b[0;34m\u001b[0m\u001b[0m\n\u001b[1;32m    723\u001b[0m             \u001b[0;32mraise\u001b[0m \u001b[0mImportError\u001b[0m\u001b[0;34m(\u001b[0m\u001b[0;34m'`load_weights` requires h5py.'\u001b[0m\u001b[0;34m)\u001b[0m\u001b[0;34m\u001b[0m\u001b[0m\n\u001b[0;32m--> 724\u001b[0;31m         \u001b[0;32mwith\u001b[0m \u001b[0mh5py\u001b[0m\u001b[0;34m.\u001b[0m\u001b[0mFile\u001b[0m\u001b[0;34m(\u001b[0m\u001b[0mfilepath\u001b[0m\u001b[0;34m,\u001b[0m \u001b[0mmode\u001b[0m\u001b[0;34m=\u001b[0m\u001b[0;34m'r'\u001b[0m\u001b[0;34m)\u001b[0m \u001b[0;32mas\u001b[0m \u001b[0mf\u001b[0m\u001b[0;34m:\u001b[0m\u001b[0;34m\u001b[0m\u001b[0m\n\u001b[0m\u001b[1;32m    725\u001b[0m             \u001b[0;32mif\u001b[0m \u001b[0;34m'layer_names'\u001b[0m \u001b[0;32mnot\u001b[0m \u001b[0;32min\u001b[0m \u001b[0mf\u001b[0m\u001b[0;34m.\u001b[0m\u001b[0mattrs\u001b[0m \u001b[0;32mand\u001b[0m \u001b[0;34m'model_weights'\u001b[0m \u001b[0;32min\u001b[0m \u001b[0mf\u001b[0m\u001b[0;34m:\u001b[0m\u001b[0;34m\u001b[0m\u001b[0m\n\u001b[1;32m    726\u001b[0m                 \u001b[0mf\u001b[0m \u001b[0;34m=\u001b[0m \u001b[0mf\u001b[0m\u001b[0;34m[\u001b[0m\u001b[0;34m'model_weights'\u001b[0m\u001b[0;34m]\u001b[0m\u001b[0;34m\u001b[0m\u001b[0m\n",
      "\u001b[0;32m~/.conda/envs/tsa3/lib/python3.6/site-packages/h5py/_hl/files.py\u001b[0m in \u001b[0;36m__init__\u001b[0;34m(self, name, mode, driver, libver, userblock_size, swmr, **kwds)\u001b[0m\n\u001b[1;32m    269\u001b[0m \u001b[0;34m\u001b[0m\u001b[0m\n\u001b[1;32m    270\u001b[0m                 \u001b[0mfapl\u001b[0m \u001b[0;34m=\u001b[0m \u001b[0mmake_fapl\u001b[0m\u001b[0;34m(\u001b[0m\u001b[0mdriver\u001b[0m\u001b[0;34m,\u001b[0m \u001b[0mlibver\u001b[0m\u001b[0;34m,\u001b[0m \u001b[0;34m**\u001b[0m\u001b[0mkwds\u001b[0m\u001b[0;34m)\u001b[0m\u001b[0;34m\u001b[0m\u001b[0m\n\u001b[0;32m--> 271\u001b[0;31m                 \u001b[0mfid\u001b[0m \u001b[0;34m=\u001b[0m \u001b[0mmake_fid\u001b[0m\u001b[0;34m(\u001b[0m\u001b[0mname\u001b[0m\u001b[0;34m,\u001b[0m \u001b[0mmode\u001b[0m\u001b[0;34m,\u001b[0m \u001b[0muserblock_size\u001b[0m\u001b[0;34m,\u001b[0m \u001b[0mfapl\u001b[0m\u001b[0;34m,\u001b[0m \u001b[0mswmr\u001b[0m\u001b[0;34m=\u001b[0m\u001b[0mswmr\u001b[0m\u001b[0;34m)\u001b[0m\u001b[0;34m\u001b[0m\u001b[0m\n\u001b[0m\u001b[1;32m    272\u001b[0m \u001b[0;34m\u001b[0m\u001b[0m\n\u001b[1;32m    273\u001b[0m                 \u001b[0;32mif\u001b[0m \u001b[0mswmr_support\u001b[0m\u001b[0;34m:\u001b[0m\u001b[0;34m\u001b[0m\u001b[0m\n",
      "\u001b[0;32m~/.conda/envs/tsa3/lib/python3.6/site-packages/h5py/_hl/files.py\u001b[0m in \u001b[0;36mmake_fid\u001b[0;34m(name, mode, userblock_size, fapl, fcpl, swmr)\u001b[0m\n\u001b[1;32m     99\u001b[0m         \u001b[0;32mif\u001b[0m \u001b[0mswmr\u001b[0m \u001b[0;32mand\u001b[0m \u001b[0mswmr_support\u001b[0m\u001b[0;34m:\u001b[0m\u001b[0;34m\u001b[0m\u001b[0m\n\u001b[1;32m    100\u001b[0m             \u001b[0mflags\u001b[0m \u001b[0;34m|=\u001b[0m \u001b[0mh5f\u001b[0m\u001b[0;34m.\u001b[0m\u001b[0mACC_SWMR_READ\u001b[0m\u001b[0;34m\u001b[0m\u001b[0m\n\u001b[0;32m--> 101\u001b[0;31m         \u001b[0mfid\u001b[0m \u001b[0;34m=\u001b[0m \u001b[0mh5f\u001b[0m\u001b[0;34m.\u001b[0m\u001b[0mopen\u001b[0m\u001b[0;34m(\u001b[0m\u001b[0mname\u001b[0m\u001b[0;34m,\u001b[0m \u001b[0mflags\u001b[0m\u001b[0;34m,\u001b[0m \u001b[0mfapl\u001b[0m\u001b[0;34m=\u001b[0m\u001b[0mfapl\u001b[0m\u001b[0;34m)\u001b[0m\u001b[0;34m\u001b[0m\u001b[0m\n\u001b[0m\u001b[1;32m    102\u001b[0m     \u001b[0;32melif\u001b[0m \u001b[0mmode\u001b[0m \u001b[0;34m==\u001b[0m \u001b[0;34m'r+'\u001b[0m\u001b[0;34m:\u001b[0m\u001b[0;34m\u001b[0m\u001b[0m\n\u001b[1;32m    103\u001b[0m         \u001b[0mfid\u001b[0m \u001b[0;34m=\u001b[0m \u001b[0mh5f\u001b[0m\u001b[0;34m.\u001b[0m\u001b[0mopen\u001b[0m\u001b[0;34m(\u001b[0m\u001b[0mname\u001b[0m\u001b[0;34m,\u001b[0m \u001b[0mh5f\u001b[0m\u001b[0;34m.\u001b[0m\u001b[0mACC_RDWR\u001b[0m\u001b[0;34m,\u001b[0m \u001b[0mfapl\u001b[0m\u001b[0;34m=\u001b[0m\u001b[0mfapl\u001b[0m\u001b[0;34m)\u001b[0m\u001b[0;34m\u001b[0m\u001b[0m\n",
      "\u001b[0;32mh5py/_objects.pyx\u001b[0m in \u001b[0;36mh5py._objects.with_phil.wrapper (/home/ilan/minonda/conda-bld/h5py_1496889914775/work/h5py/_objects.c:2846)\u001b[0;34m()\u001b[0m\n",
      "\u001b[0;32mh5py/_objects.pyx\u001b[0m in \u001b[0;36mh5py._objects.with_phil.wrapper (/home/ilan/minonda/conda-bld/h5py_1496889914775/work/h5py/_objects.c:2804)\u001b[0;34m()\u001b[0m\n",
      "\u001b[0;32mh5py/h5f.pyx\u001b[0m in \u001b[0;36mh5py.h5f.open (/home/ilan/minonda/conda-bld/h5py_1496889914775/work/h5py/h5f.c:2123)\u001b[0;34m()\u001b[0m\n",
      "\u001b[0;31mOSError\u001b[0m: Unable to open file (Unable to open file: name = './tmp/mnist_0_margin_c1e2_l1e-24/model.h5', errno = 2, error message = 'no such file or directory', flags = 0, o_flags = 0)"
     ]
    }
   ],
   "source": [
    "# square but file name doesnt have _2\n",
    "for C in ['1e2']:\n",
    "    for lamda in ['1e-22', '1e-24']:\n",
    "        \n",
    "        path = './tmp/mnist_0_margin_c{}_l{}/'.format(C, lamda)\n",
    "        model = build_cnn_mnist()\n",
    "        model.load_weights(path + 'model.h5')\n",
    "        \n",
    "        opt = OptCarlini(model, target=False, c=1, lr=0.1, init_scl=0.,\n",
    "                 use_bound=False, loss_op=0, k=0, var_change=True,\n",
    "                 use_mask=False)\n",
    "\n",
    "        x_adv = np.zeros_like(x_test[:100])\n",
    "        norm = np.zeros(100)\n",
    "\n",
    "        for i, (x, y) in enumerate(zip(x_test[:100], y_test_cat[:100])):\n",
    "            y_pred = predict(model, x)\n",
    "            if y_pred is not np.argmax(y):\n",
    "                x_adv[i], norm[i] = opt.optimize(x, y, \n",
    "                                                 path + 'model.h5', \n",
    "                                                 n_step=1000, prog=False)\n",
    "        print(C, lamda)\n",
    "        print(model.evaluate(x_adv, y_test_cat[:100]))\n",
    "        print(np.mean(norm[np.logical_not(np.isnan(norm))]))\n",
    "        print('\\n')"
   ]
  },
  {
   "cell_type": "code",
   "execution_count": 19,
   "metadata": {},
   "outputs": [
    {
     "name": "stdout",
     "output_type": "stream",
     "text": [
      "1e2 1e-24\n",
      "100/100 [==============================] - 6s 57ms/step\n",
      "[8.905271258354187, 0.0]\n",
      "3.1602665711939335\n",
      "\n",
      "\n"
     ]
    }
   ],
   "source": [
    "path = './tmp/mnist_a_hinge_c1e2/'\n",
    "model = build_cnn_mnist()\n",
    "model.load_weights(path + 'model.h5')\n",
    "\n",
    "opt = OptCarlini(model, target=False, c=1, lr=0.1, init_scl=0.,\n",
    "         use_bound=False, loss_op=0, k=0, var_change=True,\n",
    "         use_mask=False)\n",
    "\n",
    "x_adv = np.zeros_like(x_test[:100])\n",
    "norm = np.zeros(100)\n",
    "\n",
    "for i, (x, y) in enumerate(zip(x_test[:100], y_test_cat[:100])):\n",
    "    y_pred = predict(model, x)\n",
    "    if y_pred is not np.argmax(y):\n",
    "        x_adv[i], norm[i] = opt.optimize(x, y, \n",
    "                                         path + 'model.h5', \n",
    "                                         n_step=1000, prog=False)\n",
    "print(C, lamda)\n",
    "print(model.evaluate(x_adv, y_test_cat[:100]))\n",
    "print(np.mean(norm[np.logical_not(np.isnan(norm))]))\n",
    "print('\\n')"
   ]
  },
  {
   "cell_type": "code",
   "execution_count": 31,
   "metadata": {},
   "outputs": [
    {
     "name": "stdout",
     "output_type": "stream",
     "text": [
      "& 9.74 & 9.82 \\\\\n",
      "& 78.57 & 78.77 \\\\\n",
      "& 99.36 & 98.73 \\\\\n",
      "& 99.76 & 98.95 \\\\\n",
      "& 99.47 & 98.76 \\\\\n"
     ]
    }
   ],
   "source": [
    "model = build_cnn_mnist()\n",
    "for L in ['1e-2', '1e-6', '1e-10', '1e-14', '1e-18']:\n",
    "    weight_path = './tmp/mnist_0_margin_c1e2_l{}/model.h5'.format(L)\n",
    "    model.load_weights(weight_path)\n",
    "    train = model.evaluate(x_train, y_train_cat, verbose=0)[1] * 100\n",
    "    test = model.evaluate(x_test, y_test_cat, verbose=0)[1] * 100\n",
    "    print('& {:.2f} & {:.2f} \\\\\\\\'.format(train, test))"
   ]
  },
  {
   "cell_type": "code",
   "execution_count": null,
   "metadata": {},
   "outputs": [],
   "source": []
  },
  {
   "cell_type": "code",
   "execution_count": null,
   "metadata": {},
   "outputs": [],
   "source": []
  },
  {
   "cell_type": "code",
   "execution_count": null,
   "metadata": {},
   "outputs": [],
   "source": []
  },
  {
   "cell_type": "code",
   "execution_count": 66,
   "metadata": {},
   "outputs": [],
   "source": [
    "path = './tmp/combine/'\n",
    "acc = pickle.load(open(path + 'acc.p', 'rb'))\n",
    "adv_acc = pickle.load(open(path + 'adv_acc.p', 'rb'))\n",
    "norm = pickle.load(open(path + 'norm.p', 'rb'))\n",
    "norm = [[np.mean(m) for m in n] for n in norm]"
   ]
  },
  {
   "cell_type": "code",
   "execution_count": 67,
   "metadata": {},
   "outputs": [],
   "source": [
    "path = './tmp/combine/'\n",
    "acc.extend(pickle.load(open(path + 'acc_2.p', 'rb')))\n",
    "adv_acc.extend(pickle.load(open(path + 'adv_acc_2.p', 'rb')))\n",
    "norm2 = pickle.load(open(path + 'norm_2.p', 'rb'))\n",
    "norm.extend([[np.mean(m) for m in n] for n in norm2])"
   ]
  },
  {
   "cell_type": "code",
   "execution_count": 68,
   "metadata": {
    "scrolled": true
   },
   "outputs": [],
   "source": [
    "adv_acc = np.array(adv_acc)\n",
    "acc = np.array(acc)\n",
    "norm = np.array(norm)"
   ]
  },
  {
   "cell_type": "code",
   "execution_count": 57,
   "metadata": {},
   "outputs": [
    {
     "data": {
      "image/png": "[encoded data removed]",
      "text/plain": [
       "<Figure size 576x360 with 1 Axes>"
      ]
     },
     "metadata": {},
     "output_type": "display_data"
    }
   ],
   "source": [
    "marker = ['o', 's', '^', 'D', 'v', 'X', 'd', '+']\n",
    "labels = ['A', 'B', 'C', 'D']\n",
    "C = [1e-5, 1e-4, 1e-3, 1e-2, 1e-1, 1, 1e1]\n",
    "\n",
    "plt.figure(figsize=(8, 5))\n",
    "for i in range(4):\n",
    "    plt.semilogx(C, adv_acc[i*7:(i+1)*7, 3] * 100, label=labels[i], marker=marker[i])\n",
    "#plt.axhline(y=10.23, linestyle='--', c='purple', linewidth=3, label='Original')\n",
    "plt.legend()\n",
    "plt.xlabel(r'SVM Constant $C$')\n",
    "plt.ylabel('Acc. on adversarial examples (%)')\n",
    "legend = plt.legend(title='Model', fontsize='x-large', loc='upper left')\n",
    "plt.setp(legend.get_title(), fontsize='x-large')\n",
    "legend._legend_box.align = \"right\"\n",
    "plt.savefig('./fig/combine_adv.pdf', bbox_inches='tight')\n",
    "plt.show()"
   ]
  },
  {
   "cell_type": "code",
   "execution_count": 63,
   "metadata": {},
   "outputs": [
    {
     "data": {
      "image/png": "[encoded data removed]",
      "text/plain": [
       "<Figure size 576x360 with 1 Axes>"
      ]
     },
     "metadata": {},
     "output_type": "display_data"
    }
   ],
   "source": [
    "marker = ['o', 's', '^', 'D', 'v', 'X', 'd', '+']\n",
    "labels = ['A', 'B', 'C', 'D']\n",
    "C = [1e-5, 1e-4, 1e-3, 1e-2, 1e-1, 1, 1e1]\n",
    "\n",
    "plt.figure(figsize=(8, 5))\n",
    "for i in range(4):\n",
    "    plt.semilogx(C, acc[i*7:(i+1)*7, 1] * 100, label=labels[i], marker=marker[i])\n",
    "#plt.axhline(y=10.23, linestyle='--', c='purple', linewidth=3, label='Original')\n",
    "plt.xlim(xmax=1000)\n",
    "plt.legend()\n",
    "plt.xlabel(r'SVM Constant $C$')\n",
    "plt.ylabel('Accuracy (%)')\n",
    "legend = plt.legend(title='Model', fontsize='x-large', loc='upper right')\n",
    "plt.setp(legend.get_title(), fontsize='x-large')\n",
    "legend._legend_box.align = \"right\"\n",
    "plt.savefig('./fig/combine_acc.pdf', bbox_inches='tight')\n",
    "plt.show()"
   ]
  },
  {
   "cell_type": "code",
   "execution_count": 76,
   "metadata": {},
   "outputs": [
    {
     "data": {
      "image/png": "[encoded data removed]",
      "text/plain": [
       "<Figure size 576x360 with 1 Axes>"
      ]
     },
     "metadata": {},
     "output_type": "display_data"
    }
   ],
   "source": [
    "marker = ['o', 's', '^', 'D', 'v', 'X', 'd', '+']\n",
    "labels = ['A', 'B', 'C', 'D']\n",
    "C = [1e-5, 1e-4, 1e-3, 1e-2, 1e-1, 1, 1e1]\n",
    "\n",
    "plt.figure(figsize=(8, 5))\n",
    "for i in range(4):\n",
    "    plt.semilogx(C, norm[i*7:(i+1)*7, 3], label=labels[i], marker=marker[i])\n",
    "#plt.axhline(y=10.23, linestyle='--', c='purple', linewidth=3, label='Original')\n",
    "plt.legend()\n",
    "plt.xlabel(r'SVM Constant $C$')\n",
    "plt.ylabel('Avg. dist. to adversarial examples')\n",
    "legend = plt.legend(title='Model', fontsize='x-large')\n",
    "plt.setp(legend.get_title(), fontsize='x-large')\n",
    "legend._legend_box.align = \"right\"\n",
    "plt.savefig('./fig/combine_norm.pdf', bbox_inches='tight')\n",
    "plt.show()"
   ]
  },
  {
   "cell_type": "code",
   "execution_count": null,
   "metadata": {},
   "outputs": [],
   "source": []
  }
 ],
 "metadata": {
  "kernelspec": {
   "display_name": "Python 3",
   "language": "python",
   "name": "python3"
  },
  "language_info": {
   "codemirror_mode": {
    "name": "ipython",
    "version": 3
   },
   "file_extension": ".py",
   "mimetype": "text/x-python",
   "name": "python",
   "nbconvert_exporter": "python",
   "pygments_lexer": "ipython3",
   "version": "3.6.2"
  }
 },
 "nbformat": 4,
 "nbformat_minor": 2
}
